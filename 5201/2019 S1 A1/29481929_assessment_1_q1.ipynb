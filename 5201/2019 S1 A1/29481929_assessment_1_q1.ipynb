{
 "cells": [
  {
   "cell_type": "markdown",
   "metadata": {},
   "source": [
    "# Question 1\n",
    "### I. Implement the KNN regressor function"
   ]
  },
  {
   "cell_type": "code",
   "execution_count": 1,
   "metadata": {},
   "outputs": [
    {
     "data": {
      "text/html": [
       "<table>\n",
       "<thead><tr><th scope=col>x1</th><th scope=col>y</th></tr></thead>\n",
       "<tbody>\n",
       "\t<tr><td>1960.0</td><td>0.71  </td></tr>\n",
       "\t<tr><td>1960.5</td><td>0.85  </td></tr>\n",
       "\t<tr><td>1961.0</td><td>0.61  </td></tr>\n",
       "\t<tr><td>1961.5</td><td>0.92  </td></tr>\n",
       "\t<tr><td>1962.0</td><td>0.72  </td></tr>\n",
       "\t<tr><td>1962.5</td><td>0.92  </td></tr>\n",
       "</tbody>\n",
       "</table>\n"
      ],
      "text/latex": [
       "\\begin{tabular}{r|ll}\n",
       " x1 & y\\\\\n",
       "\\hline\n",
       "\t 1960.0 & 0.71  \\\\\n",
       "\t 1960.5 & 0.85  \\\\\n",
       "\t 1961.0 & 0.61  \\\\\n",
       "\t 1961.5 & 0.92  \\\\\n",
       "\t 1962.0 & 0.72  \\\\\n",
       "\t 1962.5 & 0.92  \\\\\n",
       "\\end{tabular}\n"
      ],
      "text/markdown": [
       "\n",
       "x1 | y | \n",
       "|---|---|---|---|---|---|\n",
       "| 1960.0 | 0.71   | \n",
       "| 1960.5 | 0.85   | \n",
       "| 1961.0 | 0.61   | \n",
       "| 1961.5 | 0.92   | \n",
       "| 1962.0 | 0.72   | \n",
       "| 1962.5 | 0.92   | \n",
       "\n",
       "\n"
      ],
      "text/plain": [
       "  x1     y   \n",
       "1 1960.0 0.71\n",
       "2 1960.5 0.85\n",
       "3 1961.0 0.61\n",
       "4 1961.5 0.92\n",
       "5 1962.0 0.72\n",
       "6 1962.5 0.92"
      ]
     },
     "metadata": {},
     "output_type": "display_data"
    }
   ],
   "source": [
    "# load training and test dataset into dataframe\n",
    "train <- read.csv(file=\"Task1A_train.csv\", header=TRUE, sep=\",\")\n",
    "test <- read.csv(file=\"Task1A_test.csv\", header=TRUE, sep=\",\")\n",
    "head(train)"
   ]
  },
  {
   "cell_type": "code",
   "execution_count": 2,
   "metadata": {},
   "outputs": [
    {
     "data": {
      "text/html": [
       "<table>\n",
       "<thead><tr><th scope=col>x1</th><th scope=col>y</th></tr></thead>\n",
       "<tbody>\n",
       "\t<tr><td>1960.25</td><td>0.63   </td></tr>\n",
       "\t<tr><td>1960.75</td><td>0.44   </td></tr>\n",
       "\t<tr><td>1961.25</td><td>0.69   </td></tr>\n",
       "\t<tr><td>1961.75</td><td>0.55   </td></tr>\n",
       "\t<tr><td>1962.25</td><td>0.77   </td></tr>\n",
       "\t<tr><td>1962.75</td><td>0.60   </td></tr>\n",
       "</tbody>\n",
       "</table>\n"
      ],
      "text/latex": [
       "\\begin{tabular}{r|ll}\n",
       " x1 & y\\\\\n",
       "\\hline\n",
       "\t 1960.25 & 0.63   \\\\\n",
       "\t 1960.75 & 0.44   \\\\\n",
       "\t 1961.25 & 0.69   \\\\\n",
       "\t 1961.75 & 0.55   \\\\\n",
       "\t 1962.25 & 0.77   \\\\\n",
       "\t 1962.75 & 0.60   \\\\\n",
       "\\end{tabular}\n"
      ],
      "text/markdown": [
       "\n",
       "x1 | y | \n",
       "|---|---|---|---|---|---|\n",
       "| 1960.25 | 0.63    | \n",
       "| 1960.75 | 0.44    | \n",
       "| 1961.25 | 0.69    | \n",
       "| 1961.75 | 0.55    | \n",
       "| 1962.25 | 0.77    | \n",
       "| 1962.75 | 0.60    | \n",
       "\n",
       "\n"
      ],
      "text/plain": [
       "  x1      y   \n",
       "1 1960.25 0.63\n",
       "2 1960.75 0.44\n",
       "3 1961.25 0.69\n",
       "4 1961.75 0.55\n",
       "5 1962.25 0.77\n",
       "6 1962.75 0.60"
      ]
     },
     "metadata": {},
     "output_type": "display_data"
    }
   ],
   "source": [
    "head(test)"
   ]
  },
  {
   "cell_type": "code",
   "execution_count": 3,
   "metadata": {},
   "outputs": [],
   "source": [
    "# Seperate predictors and target variables for training and test set\n",
    "train.data <- train[,-2, drop = FALSE]\n",
    "train.label <- train[,2, drop = FALSE]\n",
    "\n",
    "test.data <- test[,-2, drop = FALSE]\n",
    "test.label <- test[,2, drop = FALSE]"
   ]
  },
  {
   "cell_type": "markdown",
   "metadata": {},
   "source": [
    "The following code is adapted from tutorial, the only difference is the target value is the mean of the nearest neighbours instead of the majority of labels."
   ]
  },
  {
   "cell_type": "code",
   "execution_count": 4,
   "metadata": {},
   "outputs": [],
   "source": [
    "### KNN Regressor\n",
    "\n",
    "knn <- function(train.data, train.label, test.data, K=4){\n",
    "    \n",
    "    # create a empty vector to hold the result\n",
    "    result = c()\n",
    "    \n",
    "    ## count number of train samples\n",
    "    train.len <- nrow(train.data)\n",
    "    \n",
    "    ## count number of test samples\n",
    "    test.len <- nrow(test.data)\n",
    "    \n",
    "    ## calculate distances between samples\n",
    "    dist <- as.matrix(dist(rbind(test.data, train.data), method= 'euclidean'))[1:test.len, (test.len+1):(test.len+train.len)]\n",
    "    \n",
    "    ## for each test sample...\n",
    "    for (i in 1:test.len){\n",
    "        ### ...find its K nearest neighbours from training sampels...\n",
    "        nn <- as.data.frame(sort(dist[i,], index.return = TRUE))[1:K,2]\n",
    "        \n",
    "        ### calculate regressed value\n",
    "       result[i]<- mean(train.label[nn,])\n",
    "    }\n",
    "    \n",
    "    ## return regressed value\n",
    "    return (result)\n",
    "}"
   ]
  },
  {
   "cell_type": "markdown",
   "metadata": {},
   "source": [
    "### II. Plot the training and testing errors versus 1/K for K=1,...20."
   ]
  },
  {
   "cell_type": "code",
   "execution_count": 5,
   "metadata": {},
   "outputs": [],
   "source": [
    "# calculate the train and test missclassification rates for K in 1:100 \n",
    "miss <- data.frame('K'=1:20, 'train'=rep(0,20), 'test'=rep(0,20))\n",
    "for (k in 1:20){\n",
    "    # calculate prediction value for training set\n",
    "    train_pred <- knn(train.data, train.label, train.data, K=k)\n",
    "    # calculate prediction value for test set\n",
    "    test_pred <- knn(train.data, train.label, test.data, K=k)\n",
    "    \n",
    "    miss[k,'train'] <- sum((train.label - train_pred)^2)/nrow(train.data)\n",
    "    miss[k,'test'] <- sum((test.label - test_pred)^2)/nrow(test.data)\n",
    "}"
   ]
  },
  {
   "cell_type": "markdown",
   "metadata": {},
   "source": [
    "Since this is a regression task, the mean squared error would be an appropriate error function."
   ]
  },
  {
   "cell_type": "code",
   "execution_count": 7,
   "metadata": {},
   "outputs": [
    {
     "data": {
      "text/html": [
       "<table>\n",
       "<thead><tr><th scope=col>K</th><th scope=col>type</th><th scope=col>error</th></tr></thead>\n",
       "<tbody>\n",
       "\t<tr><td>1         </td><td>train     </td><td>0.00000000</td></tr>\n",
       "\t<tr><td>2         </td><td>train     </td><td>0.12229226</td></tr>\n",
       "\t<tr><td>3         </td><td>train     </td><td>0.09634101</td></tr>\n",
       "\t<tr><td>4         </td><td>train     </td><td>0.14983810</td></tr>\n",
       "\t<tr><td>5         </td><td>train     </td><td>0.15821952</td></tr>\n",
       "\t<tr><td>6         </td><td>train     </td><td>0.28321620</td></tr>\n",
       "</tbody>\n",
       "</table>\n"
      ],
      "text/latex": [
       "\\begin{tabular}{r|lll}\n",
       " K & type & error\\\\\n",
       "\\hline\n",
       "\t 1          & train      & 0.00000000\\\\\n",
       "\t 2          & train      & 0.12229226\\\\\n",
       "\t 3          & train      & 0.09634101\\\\\n",
       "\t 4          & train      & 0.14983810\\\\\n",
       "\t 5          & train      & 0.15821952\\\\\n",
       "\t 6          & train      & 0.28321620\\\\\n",
       "\\end{tabular}\n"
      ],
      "text/markdown": [
       "\n",
       "K | type | error | \n",
       "|---|---|---|---|---|---|\n",
       "| 1          | train      | 0.00000000 | \n",
       "| 2          | train      | 0.12229226 | \n",
       "| 3          | train      | 0.09634101 | \n",
       "| 4          | train      | 0.14983810 | \n",
       "| 5          | train      | 0.15821952 | \n",
       "| 6          | train      | 0.28321620 | \n",
       "\n",
       "\n"
      ],
      "text/plain": [
       "  K type  error     \n",
       "1 1 train 0.00000000\n",
       "2 2 train 0.12229226\n",
       "3 3 train 0.09634101\n",
       "4 4 train 0.14983810\n",
       "5 5 train 0.15821952\n",
       "6 6 train 0.28321620"
      ]
     },
     "metadata": {},
     "output_type": "display_data"
    }
   ],
   "source": [
    "# reshape dataframe for plotting\n",
    "library(reshape)\n",
    "miss.m <- melt(miss, id='K')\n",
    "names(miss.m) <- c('K', 'type', 'error')\n",
    "head(miss.m)"
   ]
  },
  {
   "cell_type": "code",
   "execution_count": 9,
   "metadata": {},
   "outputs": [
    {
     "data": {},
     "metadata": {},
     "output_type": "display_data"
    },
    {
     "name": "stderr",
     "output_type": "stream",
     "text": [
      "Saving 6.67 x 6.67 in image\n"
     ]
    },
    {
     "data": {
      "image/png": "[encoded data removed]",
      "text/plain": [
       "plot without title"
      ]
     },
     "metadata": {},
     "output_type": "display_data"
    }
   ],
   "source": [
    "# import library\n",
    "library(ggplot2)\n",
    "library(reshape)\n",
    "\n",
    "# plot prediction error for train and test data sets\n",
    "miss.m <- melt(miss, id='K') # reshape for visualization\n",
    "names(miss.m) <- c('K', 'type', 'error')\n",
    "ggplot(data=miss.m, aes(x=1/K, y=error, color=type)) + geom_line() +\n",
    "       scale_color_discrete(guide = guide_legend(title = NULL)) + theme_minimal() +\n",
    "       ggtitle(\"Prediction Error\")\n",
    "# save plot\n",
    "ggsave('Q1_plot.jpg')"
   ]
  },
  {
   "cell_type": "markdown",
   "metadata": {},
   "source": [
    "### III. Report the optimum value of K in terms of testing error. Discuss the values of K corresponding to underfitting and overfitting."
   ]
  },
  {
   "cell_type": "code",
   "execution_count": 10,
   "metadata": {},
   "outputs": [
    {
     "data": {
      "text/html": [
       "<table>\n",
       "<thead><tr><th scope=col>K</th><th scope=col>train</th><th scope=col>test</th></tr></thead>\n",
       "<tbody>\n",
       "\t<tr><td> 1        </td><td>0.00000000</td><td>1.6897238 </td></tr>\n",
       "\t<tr><td> 2        </td><td>0.12229226</td><td>2.1266708 </td></tr>\n",
       "\t<tr><td> 3        </td><td>0.09634101</td><td>1.6951299 </td></tr>\n",
       "\t<tr><td> 4        </td><td>0.14983810</td><td>1.8528619 </td></tr>\n",
       "\t<tr><td> 5        </td><td>0.15821952</td><td>1.3802052 </td></tr>\n",
       "\t<tr><td> 6        </td><td>0.28321620</td><td>1.4729574 </td></tr>\n",
       "\t<tr><td> 7        </td><td>0.44165671</td><td>1.0792730 </td></tr>\n",
       "\t<tr><td> 8        </td><td>0.63131202</td><td>1.1767515 </td></tr>\n",
       "\t<tr><td> 9        </td><td>0.89775229</td><td>0.9545830 </td></tr>\n",
       "\t<tr><td>10        </td><td>1.15967988</td><td>1.0460454 </td></tr>\n",
       "\t<tr><td>11        </td><td>1.46099292</td><td>0.9076418 </td></tr>\n",
       "\t<tr><td>12        </td><td>1.73475856</td><td>1.1091597 </td></tr>\n",
       "\t<tr><td>13        </td><td>2.10520244</td><td>1.0492610 </td></tr>\n",
       "\t<tr><td>14        </td><td>2.40303766</td><td>1.2789981 </td></tr>\n",
       "\t<tr><td>15        </td><td>2.75220079</td><td>1.2480275 </td></tr>\n",
       "\t<tr><td>16        </td><td>3.03867716</td><td>1.5355414 </td></tr>\n",
       "\t<tr><td>17        </td><td>3.47512169</td><td>1.5651231 </td></tr>\n",
       "\t<tr><td>18        </td><td>3.78638555</td><td>1.8456817 </td></tr>\n",
       "\t<tr><td>19        </td><td>4.23760236</td><td>1.9172046 </td></tr>\n",
       "\t<tr><td>20        </td><td>4.61273352</td><td>2.2769648 </td></tr>\n",
       "</tbody>\n",
       "</table>\n"
      ],
      "text/latex": [
       "\\begin{tabular}{r|lll}\n",
       " K & train & test\\\\\n",
       "\\hline\n",
       "\t  1         & 0.00000000 & 1.6897238 \\\\\n",
       "\t  2         & 0.12229226 & 2.1266708 \\\\\n",
       "\t  3         & 0.09634101 & 1.6951299 \\\\\n",
       "\t  4         & 0.14983810 & 1.8528619 \\\\\n",
       "\t  5         & 0.15821952 & 1.3802052 \\\\\n",
       "\t  6         & 0.28321620 & 1.4729574 \\\\\n",
       "\t  7         & 0.44165671 & 1.0792730 \\\\\n",
       "\t  8         & 0.63131202 & 1.1767515 \\\\\n",
       "\t  9         & 0.89775229 & 0.9545830 \\\\\n",
       "\t 10         & 1.15967988 & 1.0460454 \\\\\n",
       "\t 11         & 1.46099292 & 0.9076418 \\\\\n",
       "\t 12         & 1.73475856 & 1.1091597 \\\\\n",
       "\t 13         & 2.10520244 & 1.0492610 \\\\\n",
       "\t 14         & 2.40303766 & 1.2789981 \\\\\n",
       "\t 15         & 2.75220079 & 1.2480275 \\\\\n",
       "\t 16         & 3.03867716 & 1.5355414 \\\\\n",
       "\t 17         & 3.47512169 & 1.5651231 \\\\\n",
       "\t 18         & 3.78638555 & 1.8456817 \\\\\n",
       "\t 19         & 4.23760236 & 1.9172046 \\\\\n",
       "\t 20         & 4.61273352 & 2.2769648 \\\\\n",
       "\\end{tabular}\n"
      ],
      "text/markdown": [
       "\n",
       "K | train | test | \n",
       "|---|---|---|---|---|---|---|---|---|---|---|---|---|---|---|---|---|---|---|---|\n",
       "|  1         | 0.00000000 | 1.6897238  | \n",
       "|  2         | 0.12229226 | 2.1266708  | \n",
       "|  3         | 0.09634101 | 1.6951299  | \n",
       "|  4         | 0.14983810 | 1.8528619  | \n",
       "|  5         | 0.15821952 | 1.3802052  | \n",
       "|  6         | 0.28321620 | 1.4729574  | \n",
       "|  7         | 0.44165671 | 1.0792730  | \n",
       "|  8         | 0.63131202 | 1.1767515  | \n",
       "|  9         | 0.89775229 | 0.9545830  | \n",
       "| 10         | 1.15967988 | 1.0460454  | \n",
       "| 11         | 1.46099292 | 0.9076418  | \n",
       "| 12         | 1.73475856 | 1.1091597  | \n",
       "| 13         | 2.10520244 | 1.0492610  | \n",
       "| 14         | 2.40303766 | 1.2789981  | \n",
       "| 15         | 2.75220079 | 1.2480275  | \n",
       "| 16         | 3.03867716 | 1.5355414  | \n",
       "| 17         | 3.47512169 | 1.5651231  | \n",
       "| 18         | 3.78638555 | 1.8456817  | \n",
       "| 19         | 4.23760236 | 1.9172046  | \n",
       "| 20         | 4.61273352 | 2.2769648  | \n",
       "\n",
       "\n"
      ],
      "text/plain": [
       "   K  train      test     \n",
       "1   1 0.00000000 1.6897238\n",
       "2   2 0.12229226 2.1266708\n",
       "3   3 0.09634101 1.6951299\n",
       "4   4 0.14983810 1.8528619\n",
       "5   5 0.15821952 1.3802052\n",
       "6   6 0.28321620 1.4729574\n",
       "7   7 0.44165671 1.0792730\n",
       "8   8 0.63131202 1.1767515\n",
       "9   9 0.89775229 0.9545830\n",
       "10 10 1.15967988 1.0460454\n",
       "11 11 1.46099292 0.9076418\n",
       "12 12 1.73475856 1.1091597\n",
       "13 13 2.10520244 1.0492610\n",
       "14 14 2.40303766 1.2789981\n",
       "15 15 2.75220079 1.2480275\n",
       "16 16 3.03867716 1.5355414\n",
       "17 17 3.47512169 1.5651231\n",
       "18 18 3.78638555 1.8456817\n",
       "19 19 4.23760236 1.9172046\n",
       "20 20 4.61273352 2.2769648"
      ]
     },
     "metadata": {},
     "output_type": "display_data"
    }
   ],
   "source": [
    "miss"
   ]
  },
  {
   "cell_type": "markdown",
   "metadata": {},
   "source": [
    "The optimum value of K appears to be K = 11, this results in the lowest testing error of 0.9076418. As shown in the graph, for K = 12 to K = 20, there are obvious underfitting problems. For K = 1 to K = 10, overfitting occurs since the model fails to generalize."
   ]
  }
 ],
 "metadata": {
  "kernelspec": {
   "display_name": "R",
   "language": "R",
   "name": "ir"
  },
  "language_info": {
   "codemirror_mode": "r",
   "file_extension": ".r",
   "mimetype": "text/x-r-source",
   "name": "R",
   "pygments_lexer": "r",
   "version": "3.5.1"
  }
 },
 "nbformat": 4,
 "nbformat_minor": 2
}
