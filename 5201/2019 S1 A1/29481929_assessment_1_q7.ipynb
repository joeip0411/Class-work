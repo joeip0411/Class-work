{
 "cells": [
  {
   "cell_type": "markdown",
   "metadata": {},
   "source": [
    "# Question 7\n",
    "\n",
    "### I. Load data"
   ]
  },
  {
   "cell_type": "code",
   "execution_count": 25,
   "metadata": {},
   "outputs": [],
   "source": [
    "library(mvtnorm)\n",
    "library(ggplot2)\n",
    "library(reshape2)"
   ]
  },
  {
   "cell_type": "code",
   "execution_count": 26,
   "metadata": {},
   "outputs": [
    {
     "data": {
      "text/html": [
       "<table>\n",
       "<thead><tr><th scope=col>x1</th><th scope=col>x2</th><th scope=col>y</th></tr></thead>\n",
       "<tbody>\n",
       "\t<tr><td>-0.4367052</td><td>3.171451  </td><td>-1        </td></tr>\n",
       "\t<tr><td> 5.1048972</td><td>1.227815  </td><td> 1        </td></tr>\n",
       "\t<tr><td> 3.9974518</td><td>1.049502  </td><td> 1        </td></tr>\n",
       "\t<tr><td> 2.5354540</td><td>1.242902  </td><td> 1        </td></tr>\n",
       "\t<tr><td> 4.2624556</td><td>2.551909  </td><td> 1        </td></tr>\n",
       "\t<tr><td> 1.5505866</td><td>2.595164  </td><td>-1        </td></tr>\n",
       "</tbody>\n",
       "</table>\n"
      ],
      "text/latex": [
       "\\begin{tabular}{r|lll}\n",
       " x1 & x2 & y\\\\\n",
       "\\hline\n",
       "\t -0.4367052 & 3.171451   & -1        \\\\\n",
       "\t  5.1048972 & 1.227815   &  1        \\\\\n",
       "\t  3.9974518 & 1.049502   &  1        \\\\\n",
       "\t  2.5354540 & 1.242902   &  1        \\\\\n",
       "\t  4.2624556 & 2.551909   &  1        \\\\\n",
       "\t  1.5505866 & 2.595164   & -1        \\\\\n",
       "\\end{tabular}\n"
      ],
      "text/markdown": [
       "\n",
       "x1 | x2 | y | \n",
       "|---|---|---|---|---|---|\n",
       "| -0.4367052 | 3.171451   | -1         | \n",
       "|  5.1048972 | 1.227815   |  1         | \n",
       "|  3.9974518 | 1.049502   |  1         | \n",
       "|  2.5354540 | 1.242902   |  1         | \n",
       "|  4.2624556 | 2.551909   |  1         | \n",
       "|  1.5505866 | 2.595164   | -1         | \n",
       "\n",
       "\n"
      ],
      "text/plain": [
       "  x1         x2       y \n",
       "1 -0.4367052 3.171451 -1\n",
       "2  5.1048972 1.227815  1\n",
       "3  3.9974518 1.049502  1\n",
       "4  2.5354540 1.242902  1\n",
       "5  4.2624556 2.551909  1\n",
       "6  1.5505866 2.595164 -1"
      ]
     },
     "metadata": {},
     "output_type": "display_data"
    }
   ],
   "source": [
    "# load training and test dataset into dataframe\n",
    "train <- read.csv(file=\"Task1E_train.csv\", header=TRUE, sep=\",\")\n",
    "test <- read.csv(file=\"Task1E_test.csv\", header=TRUE, sep=\",\")\n",
    "\n",
    "train.len <- nrow(train)\n",
    "test.len <- nrow(test)\n",
    "\n",
    "head(train)"
   ]
  },
  {
   "cell_type": "markdown",
   "metadata": {},
   "source": [
    "### Split data into predictors and response variable"
   ]
  },
  {
   "cell_type": "code",
   "execution_count": 27,
   "metadata": {},
   "outputs": [
    {
     "data": {
      "text/html": [
       "<table>\n",
       "<thead><tr><th></th><th scope=col>x1</th><th scope=col>x2</th></tr></thead>\n",
       "<tbody>\n",
       "\t<tr><th scope=row>183</th><td> 4.1812897</td><td>-0.6310066</td></tr>\n",
       "\t<tr><th scope=row>263</th><td> 2.9988780</td><td> 1.3276424</td></tr>\n",
       "\t<tr><th scope=row>309</th><td> 4.2095933</td><td> 0.9627749</td></tr>\n",
       "\t<tr><th scope=row>296</th><td> 0.3802243</td><td> 3.8433820</td></tr>\n",
       "\t<tr><th scope=row>451</th><td>-0.5449631</td><td> 4.7476677</td></tr>\n",
       "\t<tr><th scope=row>257</th><td> 3.7150816</td><td> 1.7609004</td></tr>\n",
       "</tbody>\n",
       "</table>\n"
      ],
      "text/latex": [
       "\\begin{tabular}{r|ll}\n",
       "  & x1 & x2\\\\\n",
       "\\hline\n",
       "\t183 &  4.1812897 & -0.6310066\\\\\n",
       "\t263 &  2.9988780 &  1.3276424\\\\\n",
       "\t309 &  4.2095933 &  0.9627749\\\\\n",
       "\t296 &  0.3802243 &  3.8433820\\\\\n",
       "\t451 & -0.5449631 &  4.7476677\\\\\n",
       "\t257 &  3.7150816 &  1.7609004\\\\\n",
       "\\end{tabular}\n"
      ],
      "text/markdown": [
       "\n",
       "| <!--/--> | x1 | x2 | \n",
       "|---|---|---|---|---|---|\n",
       "| 183 |  4.1812897 | -0.6310066 | \n",
       "| 263 |  2.9988780 |  1.3276424 | \n",
       "| 309 |  4.2095933 |  0.9627749 | \n",
       "| 296 |  0.3802243 |  3.8433820 | \n",
       "| 451 | -0.5449631 |  4.7476677 | \n",
       "| 257 |  3.7150816 |  1.7609004 | \n",
       "\n",
       "\n"
      ],
      "text/plain": [
       "    x1         x2        \n",
       "183  4.1812897 -0.6310066\n",
       "263  2.9988780  1.3276424\n",
       "309  4.2095933  0.9627749\n",
       "296  0.3802243  3.8433820\n",
       "451 -0.5449631  4.7476677\n",
       "257  3.7150816  1.7609004"
      ]
     },
     "metadata": {},
     "output_type": "display_data"
    },
    {
     "data": {
      "text/html": [
       "<ol class=list-inline>\n",
       "\t<li>1</li>\n",
       "\t<li>1</li>\n",
       "\t<li>1</li>\n",
       "\t<li>-1</li>\n",
       "\t<li>-1</li>\n",
       "\t<li>1</li>\n",
       "</ol>\n"
      ],
      "text/latex": [
       "\\begin{enumerate*}\n",
       "\\item 1\n",
       "\\item 1\n",
       "\\item 1\n",
       "\\item -1\n",
       "\\item -1\n",
       "\\item 1\n",
       "\\end{enumerate*}\n"
      ],
      "text/markdown": [
       "1. 1\n",
       "2. 1\n",
       "3. 1\n",
       "4. -1\n",
       "5. -1\n",
       "6. 1\n",
       "\n",
       "\n"
      ],
      "text/plain": [
       "[1]  1  1  1 -1 -1  1"
      ]
     },
     "metadata": {},
     "output_type": "display_data"
    }
   ],
   "source": [
    "c0 <- '1'; c1 <- '-1' # class labels\n",
    "\n",
    "# length of training and testing set\n",
    "train.len <- nrow(train)\n",
    "test.len <- nrow(test)\n",
    "\n",
    "# shuffle training data and split into predictors and reponse variable\n",
    "train.index <- sample(train.len, replace = FALSE)\n",
    "train.data <- train[train.index, c('x1', 'x2')]\n",
    "train.label <- train[train.index, 'y']\n",
    "test.data <- test[, c('x1', 'x2')]\n",
    "test.label <- test[, 'y']\n",
    "\n",
    "head(train.data)\n",
    "head(train.label)"
   ]
  },
  {
   "cell_type": "markdown",
   "metadata": {},
   "source": [
    "### II.\n",
    "### i. Bayesian Classifier\n"
   ]
  },
  {
   "cell_type": "code",
   "execution_count": 28,
   "metadata": {},
   "outputs": [],
   "source": [
    "# sample size of training set\n",
    "sample_size <- (1:100)*5\n",
    "\n",
    "test_error_bayes <- vector()\n",
    "\n",
    "for (i in sample_size){\n",
    "    train_data_sub <- train.data[1:i,]\n",
    "    train_label_sub <- train.label[1:i]\n",
    "    \n",
    "    # calculate prior probability\n",
    "    # total number of samples in class 0 divided by the total nmber of training data\n",
    "    p0.hat <- sum(train_label_sub==c0)/nrow(train_data_sub) \n",
    "    p1.hat <- sum(train_label_sub==c1)/nrow(train_data_sub)\n",
    "    \n",
    "    # Class means:\n",
    "    mu0.hat <- colMeans(train_data_sub[train_label_sub==c0,])\n",
    "    mu1.hat <- colMeans(train_data_sub[train_label_sub==c1,])\n",
    "    \n",
    "    # class covariance matrices:\n",
    "    sigma0.hat <- var(train_data_sub[train_label_sub==c0,])\n",
    "    sigma1.hat <- var(train_data_sub[train_label_sub==c1,])\n",
    "\n",
    "    # shared covariance matrix:\n",
    "    sigma.hat <- p0.hat * sigma0.hat + p1.hat * sigma1.hat \n",
    "    \n",
    "    # calculate posteriors for test data:\n",
    "    posterior0 <- p0.hat*dmvnorm(x=test.data[1:i,], mean=mu0.hat, sigma=sigma.hat)\n",
    "    posterior1 <- p1.hat*dmvnorm(x=test.data[1:i,], mean=mu1.hat, sigma=sigma.hat)\n",
    "\n",
    "    test.predict <- ifelse(posterior0 > posterior1, c0, c1)\n",
    "    test_error_bayes <- append(test_error_bayes, sum(test.label[1:i]!=test.predict)/i*100)\n",
    "}\n",
    "\n",
    "# store result in dataframe\n",
    "error<- data.frame(sample_size, test_error_bayes)"
   ]
  },
  {
   "cell_type": "markdown",
   "metadata": {},
   "source": [
    "When implementing a Bayesian Classifier, several steps are involved:\n",
    "1. Calculate prior probability using training set\n",
    "2. Calculate mean using training set\n",
    "3. Compute covariance matrices for each class\n",
    "4. Compute shared covariance matrix\n",
    "5. Calculate posterior probability for each class\n",
    "6. Assign to the class with higher probability."
   ]
  },
  {
   "cell_type": "markdown",
   "metadata": {},
   "source": [
    "### ii. Logistic regression"
   ]
  },
  {
   "cell_type": "code",
   "execution_count": 29,
   "metadata": {},
   "outputs": [],
   "source": [
    "# Sigmoid function (=p(C1|X))\n",
    "sigmoid <- function(w, x){\n",
    "    return(1.0/(1.0+exp(-w%*%t(cbind(1,x)))))    \n",
    "}\n",
    "\n",
    "# auxiliary function that predicts class labels\n",
    "predict <- function(w, X, c0, c1){\n",
    "    sig <- sigmoid(w, X)\n",
    "    return(ifelse(sig>0.5, c1,c0))\n",
    "}\n",
    "    \n",
    "# auxiliary function that calculate a cost function\n",
    "cost <- function (w, X, T, c0){\n",
    "    sig <- sigmoid(w, X)\n",
    "    return(sum(ifelse(T==c0, 1-sig, sig)))\n",
    "}"
   ]
  },
  {
   "cell_type": "code",
   "execution_count": 30,
   "metadata": {},
   "outputs": [],
   "source": [
    "# initialization\n",
    "eta <- 0.01 # learning rate\n",
    "tau <- 1 # iteration counter\n",
    "\n",
    "# predictors and target\n",
    "X <- as.matrix(train.data)\n",
    "T <- ifelse(train.label==c0, 0, 1)\n",
    "\n",
    "X_test <- test.data\n",
    "T_test <- ifelse(test.label==c0, 0, 1)\n",
    "\n",
    "# weight\n",
    "W <- matrix(,nrow=train.len+1, ncol=(ncol(X)+1))\n",
    "W[1,] <- runif(ncol(W)) # initial weight (any better idea?)\n",
    "\n",
    "# testing error\n",
    "test_error_logistic <- vector()"
   ]
  },
  {
   "cell_type": "code",
   "execution_count": 31,
   "metadata": {},
   "outputs": [],
   "source": [
    "# for each datapoint:\n",
    "for (i in 1:train.len){\n",
    "        \n",
    "    Y <- sigmoid(W[tau,],X)\n",
    "    # Update the weights\n",
    "    W[(tau+1),] <- W[tau,] - eta * (Y[i]-T[i]) * cbind(1, t(X[i,]))\n",
    "    \n",
    "    #record the test error after iterate every 5 data points:\n",
    "    if (i%%5 == 0){\n",
    "        \n",
    "        test_error_logistic <- append(test_error_logistic, sum(ifelse(predict(W[tau+1,], X_test,0,1) == T_test, 0,1))\n",
    "                                      /test.len*100)\n",
    "    }\n",
    "\n",
    "    # update the counter:\n",
    "    tau <- tau + 1\n",
    "        \n",
    "    # decrease learning rate:\n",
    "    eta = eta * 0.999\n",
    "}\n",
    "\n",
    "# store accuracy in the same data frame\n",
    "error['test_error_log'] <- test_error_logistic"
   ]
  },
  {
   "cell_type": "markdown",
   "metadata": {},
   "source": [
    "The logistic regression and the associate functions are all adopted from tutorial activities."
   ]
  },
  {
   "cell_type": "code",
   "execution_count": 32,
   "metadata": {},
   "outputs": [
    {
     "data": {},
     "metadata": {},
     "output_type": "display_data"
    },
    {
     "data": {
      "image/png": "[encoded data removed]",
      "text/plain": [
       "plot without title"
      ]
     },
     "metadata": {},
     "output_type": "display_data"
    }
   ],
   "source": [
    "library(reshape2)\n",
    "# reshape dataframe\n",
    "error.m <-melt(error, id.var = 'sample_size',)\n",
    "\n",
    "# plot the two curves\n",
    "ggplot(error.m, aes(sample_size,value, col=variable)) + \n",
    "geom_line() + labs(y = \"test error\", title = 'Test error of Bayesian classifier and logistic regression')"
   ]
  },
  {
   "cell_type": "markdown",
   "metadata": {},
   "source": [
    "### III.\n",
    "#### a.\n",
    "The classifiers become more accurate when as the size of training set grows."
   ]
  },
  {
   "cell_type": "markdown",
   "metadata": {},
   "source": [
    "#### b.\n",
    "\n",
    "When sample size is big, logistic regression is more suitable. When sample size is small, bayesian classifier is more suitable."
   ]
  },
  {
   "cell_type": "markdown",
   "metadata": {},
   "source": [
    "#### c.\n",
    "\n",
    "When model is built using just a few data points, it is likely to have high bias and high variance, and therefore fails to generalize well. When there is large amount of data, both bias and variance can be reduced, and therefore, lower test error.\n",
    "\n",
    "Logistic regression makes no assumptions on the distribution of explanatory data while Bayesian Classifier assumes that the explanatory variables come from a normal distribution and share a common covariance matrix. Since Bayesian Classifier assumes normality, the errors it makes in prediction are only due to the erros in estimation of the mean and variance of the sample. On the other hand, logistic regression adapts itself to the distribution and assumes nothing about it. Therefore, in the case of small samples, the difference between the distribution of the training sample and that of the test sample can be substantial. But as the sample size increases, the sampling distributions become more stable which leads to better results for the logistic regression."
   ]
  }
 ],
 "metadata": {
  "kernelspec": {
   "display_name": "R",
   "language": "R",
   "name": "ir"
  },
  "language_info": {
   "codemirror_mode": "r",
   "file_extension": ".r",
   "mimetype": "text/x-r-source",
   "name": "R",
   "pygments_lexer": "r",
   "version": "3.5.1"
  }
 },
 "nbformat": 4,
 "nbformat_minor": 2
}
