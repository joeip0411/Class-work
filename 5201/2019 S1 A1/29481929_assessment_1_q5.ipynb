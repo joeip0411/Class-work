{
 "cells": [
  {
   "cell_type": "markdown",
   "metadata": {},
   "source": [
    "# Question 5"
   ]
  },
  {
   "cell_type": "markdown",
   "metadata": {},
   "source": [
    "### II."
   ]
  },
  {
   "cell_type": "code",
   "execution_count": 1,
   "metadata": {},
   "outputs": [
    {
     "data": {
      "text/html": [
       "<table>\n",
       "<thead><tr><th scope=col>x1</th><th scope=col>x2</th><th scope=col>x3</th><th scope=col>x4</th><th scope=col>y</th></tr></thead>\n",
       "<tbody>\n",
       "\t<tr><td>1991.496</td><td>1628.75 </td><td>1678.1  </td><td>1772.8  </td><td>2443.6  </td></tr>\n",
       "\t<tr><td>1991.504</td><td>1606.51 </td><td>1678.6  </td><td>1718.0  </td><td>2448.2  </td></tr>\n",
       "\t<tr><td>1991.512</td><td>1618.16 </td><td>1686.6  </td><td>1723.1  </td><td>2484.7  </td></tr>\n",
       "\t<tr><td>1991.519</td><td>1630.75 </td><td>1682.9  </td><td>1734.5  </td><td>2487.9  </td></tr>\n",
       "\t<tr><td>1991.527</td><td>1635.47 </td><td>1697.5  </td><td>1754.0  </td><td>2510.5  </td></tr>\n",
       "\t<tr><td>1991.535</td><td>1647.84 </td><td>1723.8  </td><td>1759.8  </td><td>2532.5  </td></tr>\n",
       "</tbody>\n",
       "</table>\n"
      ],
      "text/latex": [
       "\\begin{tabular}{r|lllll}\n",
       " x1 & x2 & x3 & x4 & y\\\\\n",
       "\\hline\n",
       "\t 1991.496 & 1628.75  & 1678.1   & 1772.8   & 2443.6  \\\\\n",
       "\t 1991.504 & 1606.51  & 1678.6   & 1718.0   & 2448.2  \\\\\n",
       "\t 1991.512 & 1618.16  & 1686.6   & 1723.1   & 2484.7  \\\\\n",
       "\t 1991.519 & 1630.75  & 1682.9   & 1734.5   & 2487.9  \\\\\n",
       "\t 1991.527 & 1635.47  & 1697.5   & 1754.0   & 2510.5  \\\\\n",
       "\t 1991.535 & 1647.84  & 1723.8   & 1759.8   & 2532.5  \\\\\n",
       "\\end{tabular}\n"
      ],
      "text/markdown": [
       "\n",
       "x1 | x2 | x3 | x4 | y | \n",
       "|---|---|---|---|---|---|\n",
       "| 1991.496 | 1628.75  | 1678.1   | 1772.8   | 2443.6   | \n",
       "| 1991.504 | 1606.51  | 1678.6   | 1718.0   | 2448.2   | \n",
       "| 1991.512 | 1618.16  | 1686.6   | 1723.1   | 2484.7   | \n",
       "| 1991.519 | 1630.75  | 1682.9   | 1734.5   | 2487.9   | \n",
       "| 1991.527 | 1635.47  | 1697.5   | 1754.0   | 2510.5   | \n",
       "| 1991.535 | 1647.84  | 1723.8   | 1759.8   | 2532.5   | \n",
       "\n",
       "\n"
      ],
      "text/plain": [
       "  x1       x2      x3     x4     y     \n",
       "1 1991.496 1628.75 1678.1 1772.8 2443.6\n",
       "2 1991.504 1606.51 1678.6 1718.0 2448.2\n",
       "3 1991.512 1618.16 1686.6 1723.1 2484.7\n",
       "4 1991.519 1630.75 1682.9 1734.5 2487.9\n",
       "5 1991.527 1635.47 1697.5 1754.0 2510.5\n",
       "6 1991.535 1647.84 1723.8 1759.8 2532.5"
      ]
     },
     "metadata": {},
     "output_type": "display_data"
    }
   ],
   "source": [
    "# load train and test set to dataframe\n",
    "train <- read.csv(file=\"Task1C_train.csv\", header=TRUE, sep=\",\")\n",
    "test <- read.csv(file=\"Task1C_test.csv\", header=TRUE, sep=\",\")\n",
    "head(train)"
   ]
  },
  {
   "cell_type": "code",
   "execution_count": 2,
   "metadata": {},
   "outputs": [
    {
     "data": {
      "text/html": [
       "<ol class=list-inline>\n",
       "\t<li>930</li>\n",
       "\t<li>5</li>\n",
       "</ol>\n"
      ],
      "text/latex": [
       "\\begin{enumerate*}\n",
       "\\item 930\n",
       "\\item 5\n",
       "\\end{enumerate*}\n"
      ],
      "text/markdown": [
       "1. 930\n",
       "2. 5\n",
       "\n",
       "\n"
      ],
      "text/plain": [
       "[1] 930   5"
      ]
     },
     "metadata": {},
     "output_type": "display_data"
    }
   ],
   "source": [
    "dim(train)"
   ]
  },
  {
   "cell_type": "code",
   "execution_count": 3,
   "metadata": {},
   "outputs": [],
   "source": [
    "# split the data into predictors and target\n",
    "train.data <- train[,  1:4]\n",
    "train.label <- train[, 'y']\n",
    "test.data <- test[,  1:4]\n",
    "test.label <- test[, 'y']\n",
    "train.len <- nrow(train.data)"
   ]
  },
  {
   "cell_type": "markdown",
   "metadata": {},
   "source": [
    "### III."
   ]
  },
  {
   "cell_type": "code",
   "execution_count": 4,
   "metadata": {},
   "outputs": [],
   "source": [
    "# auxiliary function to calculate labels based on the estimated coefficients\n",
    "predict_func <- function(Phi, w){\n",
    "    return(Phi%*%w)\n",
    "} \n",
    "\n",
    "# auxiliary function to calculate a cost function\n",
    "error_func <- function (Phi, w, label, lambda){\n",
    "    return(sum((predict_func(Phi, w) - label)^2)/2 + lambda/2*(w %*% w))\n",
    "}\n",
    "\n"
   ]
  },
  {
   "cell_type": "markdown",
   "metadata": {},
   "source": [
    "The above functions ar adopted from tutorial activity, the only difference is a penalty term is added to the objective function."
   ]
  },
  {
   "cell_type": "markdown",
   "metadata": {},
   "source": [
    "#### Parameters initialization"
   ]
  },
  {
   "cell_type": "code",
   "execution_count": 5,
   "metadata": {},
   "outputs": [],
   "source": [
    "# project data using a basis function (identical here)\n",
    "Phi <- as.matrix(cbind('x0'=1, train.data)) # add a column of 1 as phi_0\n",
    "\n",
    "# rename just for conviniance\n",
    "T <- train.label \n",
    "\n",
    "# learning rate\n",
    "eta <- 0.00000000005 \n",
    "\n",
    "# be used to store the estimated oefficients\n",
    "W_sgd <- matrix(,nrow= 18*nrow(train)+1, ncol=ncol(Phi)) \n",
    "W_bgd <-  matrix(,nrow= 18+1, ncol=ncol(Phi))\n",
    "\n",
    "# initial weight\n",
    "w_init <- runif(ncol(Phi)) \n",
    "\n",
    "W_sgd[1,] <-w_init\n",
    "W_bgd[1,] <-w_init\n",
    "\n",
    "# to be used to trace training errors in each iteration\n",
    "error_sgd <- data.frame('tau'=1:(18*nrow(train.data)+1))  \n",
    "error_bgd <- data.frame('tau'=(1:(18+1))*nrow(train.data)-930+1)\n",
    "\n",
    "# iteration counter\n",
    "tau <- 1 \n",
    "\n",
    "# lambda for ridge regression\n",
    "lambda = 1\n",
    "\n",
    "# calculate error for using the initial weight\n",
    "error_sgd[1,'train'] <-error_func(as.matrix(cbind(1, test.data)), W_sgd[tau,],test.label, lambda)\n",
    "error_bgd[1,'train'] <-error_func(as.matrix(cbind(1, test.data)), W_bgd[tau,],test.label, lambda)\n",
    "\n"
   ]
  },
  {
   "cell_type": "markdown",
   "metadata": {},
   "source": [
    "#### Stochastic gradient descent"
   ]
  },
  {
   "cell_type": "code",
   "execution_count": 6,
   "metadata": {},
   "outputs": [
    {
     "name": "stderr",
     "output_type": "stream",
     "text": [
      "Warning message:\n",
      "\"package 'reshape' was built under R version 3.5.3\""
     ]
    },
    {
     "name": "stdout",
     "output_type": "stream",
     "text": [
      "The  final coefficents are: 0.9551648 0.5900716 0.2484206 0.3423567 0.2543279"
     ]
    }
   ],
   "source": [
    "# sgd\n",
    "library(reshape)\n",
    "\n",
    "for (k in 1:18){\n",
    "    \n",
    "    # for each datapoint:\n",
    "    for (i in 1:train.len){\n",
    "        # predict target variable\n",
    "        t_pred = predict_func(Phi[i,], W_sgd[tau,])\n",
    "        # for each coefficient:\n",
    "        for (j in 1: ncol(W_sgd)){\n",
    "            # update the coefficient:\n",
    "            W_sgd[(tau+1),j] <- W_sgd[tau,j] + eta * (T[i]-t_pred) * Phi[i,j] - eta * lambda * W_sgd[tau,j] \n",
    "        }\n",
    "        \n",
    "        # record the error\n",
    "        error_sgd[tau+1, 'train'] <- error_func(as.matrix(cbind(1, test.data)), W_sgd[tau+1,],test.label, lambda)\n",
    "        #error_sgd[tau, 'test'] <- error_func(as.matrix(cbind(1, test.data)), W_sgd[tau,],test.label, lambda)\n",
    "        \n",
    "        # update the counter:\n",
    "        tau <- tau + 1        \n",
    "    }\n",
    "}\n",
    "# record error\n",
    "error_sgd.m <- melt(error_sgd[1:tau,], id='tau')\n",
    "\n",
    "# the  final result is:\n",
    "w_sgd <- W_sgd[tau,]\n",
    "cat('The  final coefficents are:',w_sgd)"
   ]
  },
  {
   "cell_type": "markdown",
   "metadata": {},
   "source": [
    "#### Batch gradient descent"
   ]
  },
  {
   "cell_type": "code",
   "execution_count": 7,
   "metadata": {},
   "outputs": [
    {
     "name": "stdout",
     "output_type": "stream",
     "text": [
      "The  final coefficents are: 0.9551718 0.6024837 0.24843 0.3404257 0.2594786"
     ]
    }
   ],
   "source": [
    "### bgd\n",
    "# reset tau\n",
    "tau <-1\n",
    "for (k in 1:18){\n",
    "    # make prediction\n",
    "    t_pred <- predict_func(Phi, W_bgd[tau,])\n",
    "    \n",
    "    # for each coefficient:\n",
    "    for (j in 1: ncol(W_bgd)){\n",
    "        # update the coefficient:\n",
    "        W_bgd[(tau+1),j] <- W_bgd[tau,j] + eta * sum((T-t_pred) * Phi[,j]) - eta * lambda * W_bgd[tau,j]\n",
    "    }\n",
    "        \n",
    "    # record the error:\n",
    "    error_bgd[tau+1, 'train'] <- error_func(as.matrix(cbind(1, test.data)), W_bgd[tau+1,],test.label, lambda)\n",
    "    #error_bgd[tau, 'test'] <- error_func(as.matrix(cbind(1, test.data)), W_bgd[tau,],test.label, lambda)\n",
    "        \n",
    "    # update the counter:\n",
    "    tau <- tau + 1        \n",
    "    \n",
    "}\n",
    "# record error\n",
    "error_bgd.m <- melt(error_bgd[1:tau,], id='tau')\n",
    "\n",
    "# the  final result is:\n",
    "w_bgd <- W_bgd[tau,]\n",
    "cat('The  final coefficents are:',w_bgd)"
   ]
  },
  {
   "cell_type": "markdown",
   "metadata": {},
   "source": [
    "#### Visualization"
   ]
  },
  {
   "cell_type": "code",
   "execution_count": 8,
   "metadata": {},
   "outputs": [
    {
     "name": "stderr",
     "output_type": "stream",
     "text": [
      "Warning message:\n",
      "\"package 'ggplot2' was built under R version 3.5.3\""
     ]
    },
    {
     "data": {},
     "metadata": {},
     "output_type": "display_data"
    },
    {
     "data": {
      "image/png": "[encoded data removed]",
      "text/plain": [
       "plot without title"
      ]
     },
     "metadata": {},
     "output_type": "display_data"
    }
   ],
   "source": [
    "library(ggplot2)\n",
    "\n",
    "# plotting the graph\n",
    "ggplot() +\n",
    "geom_line(data=error_sgd.m, aes(x=tau, y=value), color = 'red') +\n",
    "geom_line(data=error_bgd.m, aes(x=tau, y=value), color = 'blue') + \n",
    "ggtitle('Test Error') "
   ]
  },
  {
   "cell_type": "markdown",
   "metadata": {},
   "source": [
    "The scale of y is really large, we will zoom in to better observe the difference between BGD and SGD."
   ]
  },
  {
   "cell_type": "code",
   "execution_count": 10,
   "metadata": {},
   "outputs": [
    {
     "name": "stderr",
     "output_type": "stream",
     "text": [
      "Warning message:\n",
      "\"Removed 1778 rows containing missing values (geom_path).\"Warning message:\n",
      "\"Removed 3 rows containing missing values (geom_path).\""
     ]
    },
    {
     "data": {},
     "metadata": {},
     "output_type": "display_data"
    },
    {
     "data": {
      "image/png": "[encoded data removed]",
      "text/plain": [
       "plot without title"
      ]
     },
     "metadata": {},
     "output_type": "display_data"
    }
   ],
   "source": [
    "# plotting the graph\n",
    "ggplot() +\n",
    "geom_line(data=error_sgd.m, aes(x=tau, y=value), color = 'red') +\n",
    "geom_line(data=error_bgd.m, aes(x=tau, y=value), color = 'blue') + \n",
    "ggtitle('Test Error') +\n",
    "ylim(0,100000000)"
   ]
  },
  {
   "cell_type": "markdown",
   "metadata": {},
   "source": [
    "The blue line is the error for batch gradient descent while the red line is the error for stochastic gradient descent.\n",
    "\n",
    "The convergence speed is basically the same for batch gradient descent and stochastic gradient descent. However, it is obvious that there is much more noise for stochastic gradient descent during the convergence, this is because SGD uses only 1 data point to update the weight for each iteration while BGD uses all data points to update the weight for each iteration."
   ]
  }
 ],
 "metadata": {
  "kernelspec": {
   "display_name": "R",
   "language": "R",
   "name": "ir"
  },
  "language_info": {
   "codemirror_mode": "r",
   "file_extension": ".r",
   "mimetype": "text/x-r-source",
   "name": "R",
   "pygments_lexer": "r",
   "version": "3.5.1"
  }
 },
 "nbformat": 4,
 "nbformat_minor": 2
}
