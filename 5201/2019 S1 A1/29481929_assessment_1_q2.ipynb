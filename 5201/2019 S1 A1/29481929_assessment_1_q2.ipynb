{
 "cells": [
  {
   "cell_type": "markdown",
   "metadata": {},
   "source": [
    "# Question 2\n",
    "\n",
    "### I. Implement a L-Fold Cross Validation (CV) function for the KNN regressor"
   ]
  },
  {
   "cell_type": "code",
   "execution_count": 8,
   "metadata": {},
   "outputs": [],
   "source": [
    "# KNN regressor from question 1\n",
    "\n",
    "### KNN Classifier\n",
    "\n",
    "knn <- function(train.data, train.label, test.data, K=4){\n",
    "    \n",
    "    # create a empty vector to hold the result\n",
    "    result = c()\n",
    "    \n",
    "    ## count number of train samples\n",
    "    train.len <- nrow(train.data)\n",
    "    \n",
    "    ## count number of test samples\n",
    "    test.len <- nrow(test.data)\n",
    "    \n",
    "    ## calculate distances between samples\n",
    "    dist <- as.matrix(dist(rbind(test.data, train.data), method= 'euclidean'))[1:test.len, (test.len+1):(test.len+train.len)]\n",
    "    \n",
    "    ## for each test sample...\n",
    "    for (i in 1:test.len){\n",
    "        ### ...find its K nearest neighbours from training sampels...\n",
    "        nn <- as.data.frame(sort(dist[i,], index.return = TRUE))[1:K,2]\n",
    "        \n",
    "        ### calculate regressed value\n",
    "       result[i]<- mean(train.label[nn,])\n",
    "    }\n",
    "    \n",
    "    ## return regressed value\n",
    "    return (result)\n",
    "}"
   ]
  },
  {
   "cell_type": "markdown",
   "metadata": {},
   "source": [
    "#### Load training data"
   ]
  },
  {
   "cell_type": "code",
   "execution_count": 9,
   "metadata": {},
   "outputs": [],
   "source": [
    "# load training data into dataframe\n",
    "train <- read.csv(file=\"Task1A_train.csv\", header=TRUE, sep=\",\")\n",
    "# shuffle the data before doing the cross validation\n",
    "train <- train[sample(1:nrow(train),nrow(train)),]\n",
    "# Seperate predictors and target variables for training and test set\n",
    "train.data <- train[,-2, drop = FALSE]\n",
    "train.label <- train[,2, drop = FALSE]"
   ]
  },
  {
   "cell_type": "markdown",
   "metadata": {},
   "source": [
    "#### Cross-validation function\n",
    "\n",
    "The cut function is used to split the training set into different partitions"
   ]
  },
  {
   "cell_type": "code",
   "execution_count": 10,
   "metadata": {},
   "outputs": [],
   "source": [
    "# function to calculate the mean error for each fold\n",
    "cv <- function(train.data, train.label, K, numFold = 10){\n",
    "    # empty vector to store result\n",
    "    error <- data.frame('Fold'=1:numFold, 'Error'= rep(0, numFold))\n",
    "    # seperate the training set into K fold\n",
    "    folds <- cut(seq(1,nrow(train.data)),breaks= numFold,labels=FALSE)\n",
    "    \n",
    "    for (i in 1:numFold){\n",
    "        # segment the data by fold using which function\n",
    "        testing_index <- which(folds==i,arr.ind=TRUE)\n",
    "        \n",
    "        testing_data <- train.data[testing_index,, drop = FALSE]\n",
    "        testing_label <- train.label[testing_index,, drop = FALSE]\n",
    "        \n",
    "        training_data <- train.data[-testing_index,, drop = FALSE]\n",
    "        training_label <- train.label[-testing_index,, drop = FALSE]\n",
    "        \n",
    "        # predict target variable for test set\n",
    "        predicted_value <- knn(training_data, training_label, testing_data, K)\n",
    "        # store MSE for the test set\n",
    "        error[i,'Fold'] <-i\n",
    "        error[i,'Error'] <-mean(((testing_label - predicted_value)^2)[['y']])\n",
    "    }\n",
    "    \n",
    "    return(error)\n",
    "}"
   ]
  },
  {
   "cell_type": "markdown",
   "metadata": {},
   "source": [
    "Sample output of the CV function"
   ]
  },
  {
   "cell_type": "code",
   "execution_count": 11,
   "metadata": {},
   "outputs": [
    {
     "data": {
      "text/html": [
       "<table>\n",
       "<thead><tr><th scope=col>Fold</th><th scope=col>Error</th></tr></thead>\n",
       "<tbody>\n",
       "\t<tr><td> 1        </td><td>0.13923250</td></tr>\n",
       "\t<tr><td> 2        </td><td>0.07294375</td></tr>\n",
       "\t<tr><td> 3        </td><td>0.17655469</td></tr>\n",
       "\t<tr><td> 4        </td><td>2.44639375</td></tr>\n",
       "\t<tr><td> 5        </td><td>0.14217344</td></tr>\n",
       "\t<tr><td> 6        </td><td>0.01990937</td></tr>\n",
       "\t<tr><td> 7        </td><td>1.31606563</td></tr>\n",
       "\t<tr><td> 8        </td><td>0.01239531</td></tr>\n",
       "\t<tr><td> 9        </td><td>0.06972031</td></tr>\n",
       "\t<tr><td>10        </td><td>0.14137250</td></tr>\n",
       "</tbody>\n",
       "</table>\n"
      ],
      "text/latex": [
       "\\begin{tabular}{r|ll}\n",
       " Fold & Error\\\\\n",
       "\\hline\n",
       "\t  1         & 0.13923250\\\\\n",
       "\t  2         & 0.07294375\\\\\n",
       "\t  3         & 0.17655469\\\\\n",
       "\t  4         & 2.44639375\\\\\n",
       "\t  5         & 0.14217344\\\\\n",
       "\t  6         & 0.01990937\\\\\n",
       "\t  7         & 1.31606563\\\\\n",
       "\t  8         & 0.01239531\\\\\n",
       "\t  9         & 0.06972031\\\\\n",
       "\t 10         & 0.14137250\\\\\n",
       "\\end{tabular}\n"
      ],
      "text/markdown": [
       "\n",
       "Fold | Error | \n",
       "|---|---|---|---|---|---|---|---|---|---|\n",
       "|  1         | 0.13923250 | \n",
       "|  2         | 0.07294375 | \n",
       "|  3         | 0.17655469 | \n",
       "|  4         | 2.44639375 | \n",
       "|  5         | 0.14217344 | \n",
       "|  6         | 0.01990937 | \n",
       "|  7         | 1.31606563 | \n",
       "|  8         | 0.01239531 | \n",
       "|  9         | 0.06972031 | \n",
       "| 10         | 0.14137250 | \n",
       "\n",
       "\n"
      ],
      "text/plain": [
       "   Fold Error     \n",
       "1   1   0.13923250\n",
       "2   2   0.07294375\n",
       "3   3   0.17655469\n",
       "4   4   2.44639375\n",
       "5   5   0.14217344\n",
       "6   6   0.01990937\n",
       "7   7   1.31606563\n",
       "8   8   0.01239531\n",
       "9   9   0.06972031\n",
       "10 10   0.14137250"
      ]
     },
     "metadata": {},
     "output_type": "display_data"
    }
   ],
   "source": [
    "cv(train.data, train.label, 4, numFold = 10)"
   ]
  },
  {
   "cell_type": "code",
   "execution_count": 12,
   "metadata": {},
   "outputs": [
    {
     "data": {
      "text/html": [
       "0.453676125"
      ],
      "text/latex": [
       "0.453676125"
      ],
      "text/markdown": [
       "0.453676125"
      ],
      "text/plain": [
       "[1] 0.4536761"
      ]
     },
     "metadata": {},
     "output_type": "display_data"
    }
   ],
   "source": [
    "mean(cv(train.data, train.label, 4, numFold = 10)[['Error']])"
   ]
  },
  {
   "cell_type": "markdown",
   "metadata": {},
   "source": [
    "### II. Run 10-Fold CV for K=1,...,15. For each K, compute the average 10 errors. Plot the average error numbers vs 1/K. "
   ]
  },
  {
   "cell_type": "code",
   "execution_count": 13,
   "metadata": {},
   "outputs": [
    {
     "data": {
      "text/html": [
       "<table>\n",
       "<thead><tr><th scope=col>K</th><th scope=col>Average.error</th></tr></thead>\n",
       "<tbody>\n",
       "\t<tr><td> 1       </td><td>0.5454305</td></tr>\n",
       "\t<tr><td> 2       </td><td>0.2370861</td></tr>\n",
       "\t<tr><td> 3       </td><td>0.3579676</td></tr>\n",
       "\t<tr><td> 4       </td><td>0.4536761</td></tr>\n",
       "\t<tr><td> 5       </td><td>0.8585599</td></tr>\n",
       "\t<tr><td> 6       </td><td>1.2011599</td></tr>\n",
       "\t<tr><td> 7       </td><td>1.6014231</td></tr>\n",
       "\t<tr><td> 8       </td><td>1.9070696</td></tr>\n",
       "\t<tr><td> 9       </td><td>2.3890930</td></tr>\n",
       "\t<tr><td>10       </td><td>2.6826888</td></tr>\n",
       "\t<tr><td>11       </td><td>3.1399004</td></tr>\n",
       "\t<tr><td>12       </td><td>3.5050973</td></tr>\n",
       "\t<tr><td>13       </td><td>3.9385996</td></tr>\n",
       "\t<tr><td>14       </td><td>4.4744297</td></tr>\n",
       "\t<tr><td>15       </td><td>4.8726481</td></tr>\n",
       "</tbody>\n",
       "</table>\n"
      ],
      "text/latex": [
       "\\begin{tabular}{r|ll}\n",
       " K & Average.error\\\\\n",
       "\\hline\n",
       "\t  1        & 0.5454305\\\\\n",
       "\t  2        & 0.2370861\\\\\n",
       "\t  3        & 0.3579676\\\\\n",
       "\t  4        & 0.4536761\\\\\n",
       "\t  5        & 0.8585599\\\\\n",
       "\t  6        & 1.2011599\\\\\n",
       "\t  7        & 1.6014231\\\\\n",
       "\t  8        & 1.9070696\\\\\n",
       "\t  9        & 2.3890930\\\\\n",
       "\t 10        & 2.6826888\\\\\n",
       "\t 11        & 3.1399004\\\\\n",
       "\t 12        & 3.5050973\\\\\n",
       "\t 13        & 3.9385996\\\\\n",
       "\t 14        & 4.4744297\\\\\n",
       "\t 15        & 4.8726481\\\\\n",
       "\\end{tabular}\n"
      ],
      "text/markdown": [
       "\n",
       "K | Average.error | \n",
       "|---|---|---|---|---|---|---|---|---|---|---|---|---|---|---|\n",
       "|  1        | 0.5454305 | \n",
       "|  2        | 0.2370861 | \n",
       "|  3        | 0.3579676 | \n",
       "|  4        | 0.4536761 | \n",
       "|  5        | 0.8585599 | \n",
       "|  6        | 1.2011599 | \n",
       "|  7        | 1.6014231 | \n",
       "|  8        | 1.9070696 | \n",
       "|  9        | 2.3890930 | \n",
       "| 10        | 2.6826888 | \n",
       "| 11        | 3.1399004 | \n",
       "| 12        | 3.5050973 | \n",
       "| 13        | 3.9385996 | \n",
       "| 14        | 4.4744297 | \n",
       "| 15        | 4.8726481 | \n",
       "\n",
       "\n"
      ],
      "text/plain": [
       "   K  Average.error\n",
       "1   1 0.5454305    \n",
       "2   2 0.2370861    \n",
       "3   3 0.3579676    \n",
       "4   4 0.4536761    \n",
       "5   5 0.8585599    \n",
       "6   6 1.2011599    \n",
       "7   7 1.6014231    \n",
       "8   8 1.9070696    \n",
       "9   9 2.3890930    \n",
       "10 10 2.6826888    \n",
       "11 11 3.1399004    \n",
       "12 12 3.5050973    \n",
       "13 13 3.9385996    \n",
       "14 14 4.4744297    \n",
       "15 15 4.8726481    "
      ]
     },
     "metadata": {},
     "output_type": "display_data"
    }
   ],
   "source": [
    "avg_error <- data.frame('K'=1:15, 'Average error'= rep(0, 15))\n",
    "\n",
    "for (i in 1:15){\n",
    "    avg_error[i,'Average.error'] <- mean(cv(train.data, train.label, i, numFold = 10)[['Error']])\n",
    "}\n",
    "avg_error"
   ]
  },
  {
   "cell_type": "code",
   "execution_count": 14,
   "metadata": {},
   "outputs": [
    {
     "data": {},
     "metadata": {},
     "output_type": "display_data"
    },
    {
     "name": "stderr",
     "output_type": "stream",
     "text": [
      "Saving 6.67 x 6.67 in image\n"
     ]
    },
    {
     "data": {
      "image/png": "[encoded data removed]",
      "text/plain": [
       "plot without title"
      ]
     },
     "metadata": {},
     "output_type": "display_data"
    }
   ],
   "source": [
    "# import library\n",
    "library(ggplot2)\n",
    "\n",
    "# plot the prediction error for cross validation\n",
    "ggplot(data=avg_error, aes(x=1/K, y=Average.error)) + geom_line() +\n",
    "       scale_color_discrete(guide = guide_legend(title = NULL)) + theme_minimal() +\n",
    "       ggtitle(\"Prediction Error\")\n",
    "ggsave('Q2_plot.jpg')"
   ]
  },
  {
   "cell_type": "markdown",
   "metadata": {},
   "source": [
    "### III. Report the optimum value for K based on the plot for this 10-fold cross validation."
   ]
  },
  {
   "cell_type": "markdown",
   "metadata": {},
   "source": [
    "The optimum value for K is 2 (1/k = 0.5) which results in the lowest testing error."
   ]
  }
 ],
 "metadata": {
  "kernelspec": {
   "display_name": "R",
   "language": "R",
   "name": "ir"
  },
  "language_info": {
   "codemirror_mode": "r",
   "file_extension": ".r",
   "mimetype": "text/x-r-source",
   "name": "R",
   "pygments_lexer": "r",
   "version": "3.5.1"
  }
 },
 "nbformat": 4,
 "nbformat_minor": 2
}
