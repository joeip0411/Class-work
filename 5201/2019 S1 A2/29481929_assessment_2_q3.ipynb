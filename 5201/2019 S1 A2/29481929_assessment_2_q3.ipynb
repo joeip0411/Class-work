{
 "cells": [
  {
   "cell_type": "markdown",
   "metadata": {},
   "source": [
    "# Question 3"
   ]
  },
  {
   "cell_type": "code",
   "execution_count": 1,
   "metadata": {},
   "outputs": [],
   "source": [
    "error.rate <- function(Y1, T1){\n",
    "  if (nrow(Y1)!=nrow(T1)){\n",
    "    stop('error.rate: size of true lables and predicted labels mismatch')\n",
    "  }\n",
    "  return (sum(T1!=Y1)/nrow(T1))\n",
    "}"
   ]
  },
  {
   "cell_type": "code",
   "execution_count": 2,
   "metadata": {},
   "outputs": [
    {
     "name": "stderr",
     "output_type": "stream",
     "text": [
      "\n",
      "----------------------------------------------------------------------\n",
      "\n",
      "Your next step is to start H2O:\n",
      "    > h2o.init()\n",
      "\n",
      "For H2O package documentation, ask for help:\n",
      "    > ??h2o\n",
      "\n",
      "After starting H2O, you can use the Web UI at http://localhost:54321\n",
      "For more information visit http://docs.h2o.ai\n",
      "\n",
      "----------------------------------------------------------------------\n",
      "\n",
      "\n",
      "Attaching package: 'h2o'\n",
      "\n",
      "The following objects are masked from 'package:stats':\n",
      "\n",
      "    cor, sd, var\n",
      "\n",
      "The following objects are masked from 'package:base':\n",
      "\n",
      "    %*%, %in%, &&, ||, apply, as.factor, as.numeric, colnames,\n",
      "    colnames<-, ifelse, is.character, is.factor, is.numeric, log,\n",
      "    log10, log1p, log2, round, signif, trunc\n",
      "\n"
     ]
    },
    {
     "name": "stdout",
     "output_type": "stream",
     "text": [
      " Connection successful!\n",
      "\n",
      "R is connected to the H2O cluster: \n",
      "    H2O cluster uptime:         2 hours 53 minutes \n",
      "    H2O cluster timezone:       Australia/Sydney \n",
      "    H2O data parsing timezone:  UTC \n",
      "    H2O cluster version:        3.26.0.2 \n",
      "    H2O cluster version age:    2 months and 13 days  \n",
      "    H2O cluster name:           H2O_started_from_R_user_sqa669 \n",
      "    H2O cluster total nodes:    1 \n",
      "    H2O cluster total memory:   1.29 GB \n",
      "    H2O cluster total cores:    4 \n",
      "    H2O cluster allowed cores:  4 \n",
      "    H2O cluster healthy:        TRUE \n",
      "    H2O Connection ip:          127.0.0.1 \n",
      "    H2O Connection port:        54321 \n",
      "    H2O Connection proxy:       NA \n",
      "    H2O Internal Security:      FALSE \n",
      "    H2O API Extensions:         Amazon S3, Algos, AutoML, Core V3, Core V4 \n",
      "    R Version:                  R version 3.5.1 (2018-07-02) \n",
      "\n",
      "  |======================================================================| 100%\n",
      "  |======================================================================| 100%\n",
      "  |======================================================================| 100%\n"
     ]
    }
   ],
   "source": [
    "options(warn=-1)\n",
    "library(h2o)\n",
    "#If there is a proxy: proxy.old <- Sys.getenv('http_proxy'); Sys.setenv('http_proxy'='');\n",
    "localH2O =  h2o.init(nthreads = -1, max_mem_size = '6g', ip = \"127.0.0.1\", port = 54321)\n",
    "\n",
    "# Students: Use the \"absolute\" path to the datasets on your machine (important)\n",
    "labeled.frame <- h2o.importFile(path = 'Task2C_labeled.csv' ,sep=',') \n",
    "unlabeled.frame <- h2o.importFile(path = 'Task2C_unlabeled.csv',sep=',') \n",
    "test.frame <- h2o.importFile(path = 'Task2C_test.csv',sep=',') \n",
    "\n",
    "labeled.frame[,1] <- as.factor(labeled.frame$label)\n",
    "# remove rows with all NA\n",
    "unlabeled.frame <- h2o.na_omit(unlabeled.frame)\n",
    "unlabeled.frame[,1] <- NA\n",
    "train.frame <- h2o.rbind(labeled.frame[,-1], unlabeled.frame[,-1])\n",
    "test.frame[,1] <- as.factor(test.frame$label)"
   ]
  },
  {
   "cell_type": "markdown",
   "metadata": {},
   "source": [
    "### Run autoencoder"
   ]
  },
  {
   "cell_type": "code",
   "execution_count": 4,
   "metadata": {},
   "outputs": [
    {
     "name": "stdout",
     "output_type": "stream",
     "text": [
      "  |======================================================================| 100%\n",
      "  |======================================================================| 100%\n",
      "  |======================================================================| 100%\n",
      "  |======================================================================| 100%\n",
      "  |======================================================================| 100%\n",
      "  |======================================================================| 100%\n",
      "  |======================================================================| 100%\n",
      "  |======================================================================| 100%\n",
      "  |======================================================================| 100%\n",
      "  |======================================================================| 100%\n",
      "  |======================================================================| 100%\n",
      "  |======================================================================| 100%\n",
      "  |======================================================================| 100%\n",
      "  |======================================================================| 100%\n",
      "  |======================================================================| 100%\n",
      "  |======================================================================| 100%\n",
      "  |======================================================================| 100%\n",
      "  |======================================================================| 100%\n",
      "  |======================================================================| 100%\n",
      "  |======================================================================| 100%\n",
      "  |======================================================================| 100%\n",
      "  |======================================================================| 100%\n",
      "  |======================================================================| 100%\n",
      "  |======================================================================| 100%\n",
      "  |======================================================================| 100%\n"
     ]
    }
   ],
   "source": [
    "options(warn=-1)\n",
    "reconstruction.error <- matrix(NA, nrow = 25, ncol = 2)\n",
    "\n",
    "for (k in seq(20,500,20)){\n",
    "    \n",
    "    NN.model= h2o.deeplearning(    \n",
    "    x = 1:784, # select all pixels\n",
    "    training_frame = train.frame, # specify the frame (imported file)    \n",
    "    hidden = c(k), # number of layers and their units\n",
    "    epochs = 100, # maximum number of epoches  \n",
    "    activation = 'Tanh', # activation function \n",
    "    autoencoder = TRUE  # is it an autoencoder? Yes!\n",
    "    )\n",
    "    # record reconstruction error\n",
    "    reconstruction.error[k/20,1] <- k\n",
    "    reconstruction.error[k/20,2] <- mean(h2o.anomaly(NN.model, train.frame))\n",
    "    \n",
    "}"
   ]
  },
  {
   "cell_type": "code",
   "execution_count": 5,
   "metadata": {},
   "outputs": [
    {
     "data": {
      "text/html": [
       "<table>\n",
       "<thead><tr><th scope=col>k</th><th scope=col>reconstruction_error</th></tr></thead>\n",
       "<tbody>\n",
       "\t<tr><td> 20        </td><td>0.028033085</td></tr>\n",
       "\t<tr><td> 40        </td><td>0.012858298</td></tr>\n",
       "\t<tr><td> 60        </td><td>0.006499993</td></tr>\n",
       "\t<tr><td> 80        </td><td>0.002936923</td></tr>\n",
       "\t<tr><td>100        </td><td>0.001522299</td></tr>\n",
       "\t<tr><td>120        </td><td>0.001274308</td></tr>\n",
       "</tbody>\n",
       "</table>\n"
      ],
      "text/latex": [
       "\\begin{tabular}{r|ll}\n",
       " k & reconstruction\\_error\\\\\n",
       "\\hline\n",
       "\t  20         & 0.028033085\\\\\n",
       "\t  40         & 0.012858298\\\\\n",
       "\t  60         & 0.006499993\\\\\n",
       "\t  80         & 0.002936923\\\\\n",
       "\t 100         & 0.001522299\\\\\n",
       "\t 120         & 0.001274308\\\\\n",
       "\\end{tabular}\n"
      ],
      "text/markdown": [
       "\n",
       "k | reconstruction_error | \n",
       "|---|---|---|---|---|---|\n",
       "|  20         | 0.028033085 | \n",
       "|  40         | 0.012858298 | \n",
       "|  60         | 0.006499993 | \n",
       "|  80         | 0.002936923 | \n",
       "| 100         | 0.001522299 | \n",
       "| 120         | 0.001274308 | \n",
       "\n",
       "\n"
      ],
      "text/plain": [
       "  k   reconstruction_error\n",
       "1  20 0.028033085         \n",
       "2  40 0.012858298         \n",
       "3  60 0.006499993         \n",
       "4  80 0.002936923         \n",
       "5 100 0.001522299         \n",
       "6 120 0.001274308         "
      ]
     },
     "metadata": {},
     "output_type": "display_data"
    }
   ],
   "source": [
    "# change to dataframe\n",
    "reconstruction.error <- data.frame(reconstruction.error)\n",
    "names(reconstruction.error) <- c('k','reconstruction_error')\n",
    "head(reconstruction.error)"
   ]
  },
  {
   "cell_type": "code",
   "execution_count": 6,
   "metadata": {},
   "outputs": [
    {
     "data": {
      "text/html": [
       "<table>\n",
       "<thead><tr><th></th><th scope=col>k</th><th scope=col>reconstruction_error</th></tr></thead>\n",
       "<tbody>\n",
       "\t<tr><th scope=row>7</th><td>140        </td><td>0.001184635</td></tr>\n",
       "</tbody>\n",
       "</table>\n"
      ],
      "text/latex": [
       "\\begin{tabular}{r|ll}\n",
       "  & k & reconstruction\\_error\\\\\n",
       "\\hline\n",
       "\t7 & 140         & 0.001184635\\\\\n",
       "\\end{tabular}\n"
      ],
      "text/markdown": [
       "\n",
       "| <!--/--> | k | reconstruction_error | \n",
       "|---|\n",
       "| 7 | 140         | 0.001184635 | \n",
       "\n",
       "\n"
      ],
      "text/plain": [
       "  k   reconstruction_error\n",
       "7 140 0.001184635         "
      ]
     },
     "metadata": {},
     "output_type": "display_data"
    }
   ],
   "source": [
    "# minimum value of reconstruction error\n",
    "reconstruction.error[which.min(reconstruction.error[,2]),]"
   ]
  },
  {
   "cell_type": "code",
   "execution_count": 7,
   "metadata": {},
   "outputs": [
    {
     "data": {},
     "metadata": {},
     "output_type": "display_data"
    },
    {
     "name": "stderr",
     "output_type": "stream",
     "text": [
      "Saving 6.67 x 6.67 in image\n"
     ]
    },
    {
     "data": {
      "image/png": "[encoded data removed]",
      "text/plain": [
       "plot without title"
      ]
     },
     "metadata": {},
     "output_type": "display_data"
    }
   ],
   "source": [
    "library(ggplot2)\n",
    "\n",
    "ggplot(reconstruction.error , aes(k, reconstruction_error)) + \n",
    "geom_line()+\n",
    "ggtitle('Reconstruction error for different number of neurons')\n",
    "ggsave('Q3_1.jpg')"
   ]
  },
  {
   "cell_type": "markdown",
   "metadata": {},
   "source": [
    "### Neural network"
   ]
  },
  {
   "cell_type": "code",
   "execution_count": 8,
   "metadata": {},
   "outputs": [
    {
     "name": "stdout",
     "output_type": "stream",
     "text": [
      "  |======================================================================| 100%\n",
      "  |======================================================================| 100%\n"
     ]
    },
    {
     "data": {
      "text/html": [
       "0.539"
      ],
      "text/latex": [
       "0.539"
      ],
      "text/markdown": [
       "0.539"
      ],
      "text/plain": [
       "[1] 0.539"
      ]
     },
     "metadata": {},
     "output_type": "display_data"
    }
   ],
   "source": [
    "# build a neural network classifier based on the labeled training data\n",
    "NN.model <- h2o.deeplearning(    \n",
    "  x = 2:ncol(labeled.frame), # select all pixels + extra features\n",
    "  y = 1,\n",
    "  training_frame = labeled.frame, # specify the frame (imported file)    \n",
    "  hidden = c(100), # number of layers and their units\n",
    "  epochs = 50, # maximum number of epoches  \n",
    "  activation = 'Tanh', # activation function \n",
    "  autoencoder = FALSE, # is it an autoencoder? Yes!\n",
    "  l2 = 0.1\n",
    ")\n",
    "\n",
    "test.predict <- h2o.predict(NN.model, test.frame)$predict\n",
    "error.rate(test.frame$label, test.predict)"
   ]
  },
  {
   "cell_type": "markdown",
   "metadata": {},
   "source": [
    "The test error is 53.9%."
   ]
  },
  {
   "cell_type": "markdown",
   "metadata": {},
   "source": [
    "### Augmented self-taught network"
   ]
  },
  {
   "cell_type": "code",
   "execution_count": 24,
   "metadata": {},
   "outputs": [
    {
     "data": {
      "text/html": [
       "<table>\n",
       "<thead><tr><th scope=col>extra_features</th><th scope=col>test_error</th></tr></thead>\n",
       "<tbody>\n",
       "\t<tr><td>NA</td><td>NA</td></tr>\n",
       "\t<tr><td>NA</td><td>NA</td></tr>\n",
       "\t<tr><td>NA</td><td>NA</td></tr>\n",
       "\t<tr><td>NA</td><td>NA</td></tr>\n",
       "\t<tr><td>NA</td><td>NA</td></tr>\n",
       "\t<tr><td>NA</td><td>NA</td></tr>\n",
       "</tbody>\n",
       "</table>\n"
      ],
      "text/latex": [
       "\\begin{tabular}{r|ll}\n",
       " extra\\_features & test\\_error\\\\\n",
       "\\hline\n",
       "\t NA & NA\\\\\n",
       "\t NA & NA\\\\\n",
       "\t NA & NA\\\\\n",
       "\t NA & NA\\\\\n",
       "\t NA & NA\\\\\n",
       "\t NA & NA\\\\\n",
       "\\end{tabular}\n"
      ],
      "text/markdown": [
       "\n",
       "extra_features | test_error | \n",
       "|---|---|---|---|---|---|\n",
       "| NA | NA | \n",
       "| NA | NA | \n",
       "| NA | NA | \n",
       "| NA | NA | \n",
       "| NA | NA | \n",
       "| NA | NA | \n",
       "\n",
       "\n"
      ],
      "text/plain": [
       "  extra_features test_error\n",
       "1 NA             NA        \n",
       "2 NA             NA        \n",
       "3 NA             NA        \n",
       "4 NA             NA        \n",
       "5 NA             NA        \n",
       "6 NA             NA        "
      ]
     },
     "metadata": {},
     "output_type": "display_data"
    }
   ],
   "source": [
    "# initialize dataframe to store result\n",
    "test.error <- data.frame(matrix(NA,nrow = 25, ncol = 2))\n",
    "names(test.error) <- c('extra_features','test_error')\n",
    "head(test.error)"
   ]
  },
  {
   "cell_type": "code",
   "execution_count": 25,
   "metadata": {},
   "outputs": [
    {
     "data": {
      "text/html": [
       "<ol class=list-inline>\n",
       "\t<li>50</li>\n",
       "\t<li>785</li>\n",
       "</ol>\n"
      ],
      "text/latex": [
       "\\begin{enumerate*}\n",
       "\\item 50\n",
       "\\item 785\n",
       "\\end{enumerate*}\n"
      ],
      "text/markdown": [
       "1. 50\n",
       "2. 785\n",
       "\n",
       "\n"
      ],
      "text/plain": [
       "[1]  50 785"
      ]
     },
     "metadata": {},
     "output_type": "display_data"
    }
   ],
   "source": [
    "dim(labeled.frame)"
   ]
  },
  {
   "cell_type": "code",
   "execution_count": 26,
   "metadata": {},
   "outputs": [
    {
     "name": "stdout",
     "output_type": "stream",
     "text": [
      "  |======================================================================| 100%\n",
      "  |======================================================================| 100%\n",
      "  |======================================================================| 100%\n",
      "  |======================================================================| 100%\n",
      "  |======================================================================| 100%\n",
      "  |======================================================================| 100%\n",
      "  |======================================================================| 100%\n",
      "  |======================================================================| 100%\n",
      "  |======================================================================| 100%\n",
      "  |======================================================================| 100%\n",
      "  |======================================================================| 100%\n",
      "  |======================================================================| 100%\n",
      "  |======================================================================| 100%\n",
      "  |======================================================================| 100%\n",
      "  |======================================================================| 100%\n",
      "  |======================================================================| 100%\n",
      "  |======================================================================| 100%\n",
      "  |======================================================================| 100%\n",
      "  |======================================================================| 100%\n",
      "  |======================================================================| 100%\n",
      "  |======================================================================| 100%\n",
      "  |======================================================================| 100%\n",
      "  |======================================================================| 100%\n",
      "  |======================================================================| 100%\n",
      "  |======================================================================| 100%\n",
      "  |======================================================================| 100%\n",
      "  |======================================================================| 100%\n",
      "  |======================================================================| 100%\n",
      "  |======================================================================| 100%\n",
      "  |======================================================================| 100%\n",
      "  |======================================================================| 100%\n",
      "  |======================================================================| 100%\n",
      "  |======================================================================| 100%\n",
      "  |======================================================================| 100%\n",
      "  |======================================================================| 100%\n",
      "  |======================================================================| 100%\n",
      "  |======================================================================| 100%\n",
      "  |======================================================================| 100%\n",
      "  |======================================================================| 100%\n",
      "  |======================================================================| 100%\n",
      "  |======================================================================| 100%\n",
      "  |======================================================================| 100%\n",
      "  |======================================================================| 100%\n",
      "  |======================================================================| 100%\n",
      "  |======================================================================| 100%\n",
      "  |======================================================================| 100%\n",
      "  |======================================================================| 100%\n",
      "  |======================================================================| 100%\n",
      "  |======================================================================| 100%\n",
      "  |======================================================================| 100%\n",
      "  |======================================================================| 100%\n",
      "  |======================================================================| 100%\n",
      "  |======================================================================| 100%\n",
      "  |======================================================================| 100%\n",
      "  |======================================================================| 100%\n",
      "  |======================================================================| 100%\n",
      "  |======================================================================| 100%\n",
      "  |======================================================================| 100%\n",
      "  |======================================================================| 100%\n",
      "  |======================================================================| 100%\n",
      "  |======================================================================| 100%\n",
      "  |======================================================================| 100%\n",
      "  |======================================================================| 100%\n",
      "  |======================================================================| 100%\n",
      "  |======================================================================| 100%\n",
      "  |======================================================================| 100%\n",
      "  |======================================================================| 100%\n",
      "  |======================================================================| 100%\n",
      "  |======================================================================| 100%\n",
      "  |======================================================================| 100%\n",
      "  |======================================================================| 100%\n",
      "  |======================================================================| 100%\n",
      "  |======================================================================| 100%\n",
      "  |======================================================================| 100%\n",
      "  |======================================================================| 100%\n",
      "  |======================================================================| 100%\n",
      "  |======================================================================| 100%\n",
      "  |======================================================================| 100%\n",
      "  |======================================================================| 100%\n",
      "  |======================================================================| 100%\n",
      "  |======================================================================| 100%\n",
      "  |======================================================================| 100%\n",
      "  |======================================================================| 100%\n",
      "  |======================================================================| 100%\n",
      "  |======================================================================| 100%\n",
      "  |======================================================================| 100%\n",
      "  |======================================================================| 100%\n",
      "  |======================================================================| 100%\n",
      "  |======================================================================| 100%\n",
      "  |======================================================================| 100%\n",
      "  |======================================================================| 100%\n",
      "  |======================================================================| 100%\n",
      "  |======================================================================| 100%\n",
      "  |======================================================================| 100%\n",
      "  |======================================================================| 100%\n",
      "  |======================================================================| 100%\n",
      "  |======================================================================| 100%\n",
      "  |======================================================================| 100%\n",
      "  |======================================================================| 100%\n",
      "  |======================================================================| 100%\n"
     ]
    }
   ],
   "source": [
    "for (k in seq(20,500,20)){\n",
    "    \n",
    "    # train autoencoder\n",
    "    NN.model= h2o.deeplearning(    \n",
    "    x = 1:784, # select all pixels\n",
    "    training_frame = train.frame, # specify the frame (imported file)    \n",
    "    hidden = c(k), # number of layers and their units\n",
    "    epochs = 100, # maximum number of epoches  \n",
    "    activation = 'Tanh', # activation function \n",
    "    autoencoder = TRUE  # is it an autoencoder? Yes!\n",
    "    )\n",
    "    \n",
    "    # get features\n",
    "    features = h2o.deepfeatures(NN.model, labeled.frame, layer=1)\n",
    "    # combine original features with trained features\n",
    "    train_aug <- h2o.cbind(labeled.frame, features)\n",
    "    \n",
    "    # fit all features into neural network\n",
    "    NN1.model <- h2o.deeplearning(    \n",
    "          x = 2:ncol(train_aug), # select all pixels + extra features\n",
    "          y = 1,\n",
    "          training_frame = train_aug, # specify the frame (imported file)    \n",
    "          hidden = c(100), # number of layers and their units\n",
    "          epochs = 50, # maximum number of epoches  \n",
    "          activation = 'Tanh', # activation function \n",
    "          autoencoder = FALSE, # is it an autoencoder? Yes!\n",
    "          l2 = 0.1\n",
    "          )\n",
    "    \n",
    "    test.predict <- h2o.predict(NN1.model, test.frame)$predict\n",
    "    test.error[k/20, 1] <- k\n",
    "    test.error[k/20, 2] <- error.rate(test.frame$label, test.predict)\n",
    "}"
   ]
  },
  {
   "cell_type": "code",
   "execution_count": 27,
   "metadata": {},
   "outputs": [
    {
     "data": {
      "text/html": [
       "<table>\n",
       "<thead><tr><th scope=col>extra_features</th><th scope=col>test_error</th></tr></thead>\n",
       "<tbody>\n",
       "\t<tr><td> 20  </td><td>0.615</td></tr>\n",
       "\t<tr><td> 40  </td><td>0.596</td></tr>\n",
       "\t<tr><td> 60  </td><td>0.557</td></tr>\n",
       "\t<tr><td> 80  </td><td>0.607</td></tr>\n",
       "\t<tr><td>100  </td><td>0.597</td></tr>\n",
       "\t<tr><td>120  </td><td>0.569</td></tr>\n",
       "\t<tr><td>140  </td><td>0.585</td></tr>\n",
       "\t<tr><td>160  </td><td>0.525</td></tr>\n",
       "\t<tr><td>180  </td><td>0.551</td></tr>\n",
       "\t<tr><td>200  </td><td>0.570</td></tr>\n",
       "\t<tr><td>220  </td><td>0.540</td></tr>\n",
       "\t<tr><td>240  </td><td>0.572</td></tr>\n",
       "\t<tr><td>260  </td><td>0.570</td></tr>\n",
       "\t<tr><td>280  </td><td>0.626</td></tr>\n",
       "\t<tr><td>300  </td><td>0.527</td></tr>\n",
       "\t<tr><td>320  </td><td>0.580</td></tr>\n",
       "\t<tr><td>340  </td><td>0.514</td></tr>\n",
       "\t<tr><td>360  </td><td>0.583</td></tr>\n",
       "\t<tr><td>380  </td><td>0.527</td></tr>\n",
       "\t<tr><td>400  </td><td>0.481</td></tr>\n",
       "\t<tr><td>420  </td><td>0.620</td></tr>\n",
       "\t<tr><td>440  </td><td>0.549</td></tr>\n",
       "\t<tr><td>460  </td><td>0.551</td></tr>\n",
       "\t<tr><td>480  </td><td>0.605</td></tr>\n",
       "\t<tr><td>500  </td><td>0.560</td></tr>\n",
       "</tbody>\n",
       "</table>\n"
      ],
      "text/latex": [
       "\\begin{tabular}{r|ll}\n",
       " extra\\_features & test\\_error\\\\\n",
       "\\hline\n",
       "\t  20   & 0.615\\\\\n",
       "\t  40   & 0.596\\\\\n",
       "\t  60   & 0.557\\\\\n",
       "\t  80   & 0.607\\\\\n",
       "\t 100   & 0.597\\\\\n",
       "\t 120   & 0.569\\\\\n",
       "\t 140   & 0.585\\\\\n",
       "\t 160   & 0.525\\\\\n",
       "\t 180   & 0.551\\\\\n",
       "\t 200   & 0.570\\\\\n",
       "\t 220   & 0.540\\\\\n",
       "\t 240   & 0.572\\\\\n",
       "\t 260   & 0.570\\\\\n",
       "\t 280   & 0.626\\\\\n",
       "\t 300   & 0.527\\\\\n",
       "\t 320   & 0.580\\\\\n",
       "\t 340   & 0.514\\\\\n",
       "\t 360   & 0.583\\\\\n",
       "\t 380   & 0.527\\\\\n",
       "\t 400   & 0.481\\\\\n",
       "\t 420   & 0.620\\\\\n",
       "\t 440   & 0.549\\\\\n",
       "\t 460   & 0.551\\\\\n",
       "\t 480   & 0.605\\\\\n",
       "\t 500   & 0.560\\\\\n",
       "\\end{tabular}\n"
      ],
      "text/markdown": [
       "\n",
       "extra_features | test_error | \n",
       "|---|---|---|---|---|---|---|---|---|---|---|---|---|---|---|---|---|---|---|---|---|---|---|---|---|\n",
       "|  20   | 0.615 | \n",
       "|  40   | 0.596 | \n",
       "|  60   | 0.557 | \n",
       "|  80   | 0.607 | \n",
       "| 100   | 0.597 | \n",
       "| 120   | 0.569 | \n",
       "| 140   | 0.585 | \n",
       "| 160   | 0.525 | \n",
       "| 180   | 0.551 | \n",
       "| 200   | 0.570 | \n",
       "| 220   | 0.540 | \n",
       "| 240   | 0.572 | \n",
       "| 260   | 0.570 | \n",
       "| 280   | 0.626 | \n",
       "| 300   | 0.527 | \n",
       "| 320   | 0.580 | \n",
       "| 340   | 0.514 | \n",
       "| 360   | 0.583 | \n",
       "| 380   | 0.527 | \n",
       "| 400   | 0.481 | \n",
       "| 420   | 0.620 | \n",
       "| 440   | 0.549 | \n",
       "| 460   | 0.551 | \n",
       "| 480   | 0.605 | \n",
       "| 500   | 0.560 | \n",
       "\n",
       "\n"
      ],
      "text/plain": [
       "   extra_features test_error\n",
       "1   20            0.615     \n",
       "2   40            0.596     \n",
       "3   60            0.557     \n",
       "4   80            0.607     \n",
       "5  100            0.597     \n",
       "6  120            0.569     \n",
       "7  140            0.585     \n",
       "8  160            0.525     \n",
       "9  180            0.551     \n",
       "10 200            0.570     \n",
       "11 220            0.540     \n",
       "12 240            0.572     \n",
       "13 260            0.570     \n",
       "14 280            0.626     \n",
       "15 300            0.527     \n",
       "16 320            0.580     \n",
       "17 340            0.514     \n",
       "18 360            0.583     \n",
       "19 380            0.527     \n",
       "20 400            0.481     \n",
       "21 420            0.620     \n",
       "22 440            0.549     \n",
       "23 460            0.551     \n",
       "24 480            0.605     \n",
       "25 500            0.560     "
      ]
     },
     "metadata": {},
     "output_type": "display_data"
    }
   ],
   "source": [
    "test.error"
   ]
  },
  {
   "cell_type": "code",
   "execution_count": 30,
   "metadata": {},
   "outputs": [
    {
     "data": {
      "text/html": [
       "<table>\n",
       "<thead><tr><th></th><th scope=col>extra_features</th><th scope=col>test_error</th></tr></thead>\n",
       "<tbody>\n",
       "\t<tr><th scope=row>20</th><td>400  </td><td>0.481</td></tr>\n",
       "</tbody>\n",
       "</table>\n"
      ],
      "text/latex": [
       "\\begin{tabular}{r|ll}\n",
       "  & extra\\_features & test\\_error\\\\\n",
       "\\hline\n",
       "\t20 & 400   & 0.481\\\\\n",
       "\\end{tabular}\n"
      ],
      "text/markdown": [
       "\n",
       "| <!--/--> | extra_features | test_error | \n",
       "|---|\n",
       "| 20 | 400   | 0.481 | \n",
       "\n",
       "\n"
      ],
      "text/plain": [
       "   extra_features test_error\n",
       "20 400            0.481     "
      ]
     },
     "metadata": {},
     "output_type": "display_data"
    }
   ],
   "source": [
    "test.error[which.min(test.error[,2]),]"
   ]
  },
  {
   "cell_type": "code",
   "execution_count": 28,
   "metadata": {},
   "outputs": [
    {
     "data": {},
     "metadata": {},
     "output_type": "display_data"
    },
    {
     "name": "stderr",
     "output_type": "stream",
     "text": [
      "Saving 6.67 x 6.67 in image\n"
     ]
    },
    {
     "data": {
      "image/png": "[encoded data removed]",
      "text/plain": [
       "plot without title"
      ]
     },
     "metadata": {},
     "output_type": "display_data"
    }
   ],
   "source": [
    "ggplot(test.error , aes(extra_features, test_error)) + \n",
    "geom_line()+\n",
    "ggtitle('test error for different number extra features')\n",
    "ggsave('Q3_2.jpg')"
   ]
  }
 ],
 "metadata": {
  "kernelspec": {
   "display_name": "R",
   "language": "R",
   "name": "ir"
  },
  "language_info": {
   "codemirror_mode": "r",
   "file_extension": ".r",
   "mimetype": "text/x-r-source",
   "name": "R",
   "pygments_lexer": "r",
   "version": "3.5.1"
  }
 },
 "nbformat": 4,
 "nbformat_minor": 2
}
