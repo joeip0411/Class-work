{
 "cells": [
  {
   "cell_type": "markdown",
   "metadata": {},
   "source": [
    "# Question 1"
   ]
  },
  {
   "cell_type": "markdown",
   "metadata": {},
   "source": [
    "## 1.Text preprocessing\n",
    "\n",
    "**Read file and store documents in dataframe**"
   ]
  },
  {
   "cell_type": "code",
   "execution_count": 1,
   "metadata": {},
   "outputs": [],
   "source": [
    "## read the file (each line of the text file is one document)\n",
    "text <- readLines('./Task2A.txt')\n",
    "\n",
    "# strip label and document\n",
    "docs <- strsplit(text, '\\t')\n",
    "\n",
    "# store the labels for evaluation\n",
    "labels <-  unlist(lapply(docs, function(x) x[1]))\n",
    "                         \n",
    "# number of document\n",
    "N <- length(labels)\n",
    "                         \n",
    "# store the unlabeled texts    \n",
    "uid <- paste0(\"doc_\", formatC(1:N, width = 4, format = \"d\", flag = \"0\"))\n",
    "docs <- data.frame(doc_id = uid, text = unlist(lapply(docs, function(x) x[2])))"
   ]
  },
  {
   "cell_type": "markdown",
   "metadata": {},
   "source": [
    "**Feature extraction**"
   ]
  },
  {
   "cell_type": "code",
   "execution_count": 2,
   "metadata": {},
   "outputs": [
    {
     "name": "stderr",
     "output_type": "stream",
     "text": [
      "Warning message:\n",
      "\"package 'tm' was built under R version 3.5.3\"Loading required package: NLP\n",
      "Warning message:\n",
      "\"package 'NLP' was built under R version 3.5.2\""
     ]
    }
   ],
   "source": [
    "# load Text Mining library\n",
    "library(tm)\n",
    "\n",
    "# create a corpus\n",
    "docs <- DataframeSource(docs)\n",
    "docs <- Corpus(docs)\n",
    "\n",
    "# Preprocessing:\n",
    "docs <- tm_map(docs, removeWords, stopwords(\"english\")) # remove stop words (the most common word in a language that can be find in any document)\n",
    "docs <- tm_map(docs, removePunctuation) # remove punctuation\n",
    "docs <- tm_map(docs, stemDocument) # perform stemming (reducing inflected and derived words to their root form)\n",
    "docs <- tm_map(docs, removeNumbers) # remove all numbers\n",
    "docs <- tm_map(docs, stripWhitespace) # remove redundant spaces \n",
    "\n",
    "# Create a matrix which its rows are the documents and colomns are the words. \n",
    "## Each number in Document Term Matrix shows the frequency of a word (colomn header) in a particular document (row title)\n",
    "dtm <- DocumentTermMatrix(docs)\n",
    "\n",
    "## reduce the sparcity of out dtm\n",
    "dtm <- removeSparseTerms(dtm, 0.90)\n",
    "\n",
    "## convert dtm to a matrix\n",
    "m <- as.matrix(dtm)\n",
    "rownames(m) <- 1:nrow(m)"
   ]
  },
  {
   "cell_type": "code",
   "execution_count": 3,
   "metadata": {},
   "outputs": [
    {
     "data": {
      "text/html": [
       "<ol class=list-inline>\n",
       "\t<li>2373</li>\n",
       "\t<li>129</li>\n",
       "</ol>\n"
      ],
      "text/latex": [
       "\\begin{enumerate*}\n",
       "\\item 2373\n",
       "\\item 129\n",
       "\\end{enumerate*}\n"
      ],
      "text/markdown": [
       "1. 2373\n",
       "2. 129\n",
       "\n",
       "\n"
      ],
      "text/plain": [
       "[1] 2373  129"
      ]
     },
     "metadata": {},
     "output_type": "display_data"
    }
   ],
   "source": [
    "dim(m)"
   ]
  },
  {
   "cell_type": "markdown",
   "metadata": {},
   "source": [
    "There are 129 words in the 2373 documents after appling stemming,  removing stop words and punctuation and reducing the sparcity of the document matrix."
   ]
  },
  {
   "cell_type": "markdown",
   "metadata": {},
   "source": [
    "## 2. Soft EM\n",
    "**Initialize parameters**"
   ]
  },
  {
   "cell_type": "code",
   "execution_count": 4,
   "metadata": {},
   "outputs": [],
   "source": [
    "# Setting the parameters:\n",
    "K <- 4 # number of cluster\n",
    "eta.max <- 100      # maximum number of iteratins\n",
    "epsilon <- 0.001     # termination threshold\n",
    "word <- dim(m)[2]\n",
    "doc <- dim(m)[1]\n",
    "\n",
    "# Initialzations:\n",
    "eta <- 1            # epoch counter\n",
    "terminate <- FALSE  # termination condition\n",
    "\n",
    "## Ramdom cluster initialization:\n",
    "set.seed(123456) # save the random seed to make the results reproducble\n",
    "\n",
    "# initialize phi uniformly\n",
    "Phi.hat <- c(1/K, 1/K, 1/K, 1/K)\n",
    "\n",
    "# initialize mu randomly, we cannot initiailize mu uniformly \n",
    "# because this result in no majority class in the first iteration for hard EM\n",
    "mu_0 <- matrix(runif(K*word), nrow = K, ncol = word)\n",
    "mu <- mu_0 / rowSums(mu_0)\n",
    "\n",
    "rownames(mu) <- 1:K\n",
    "colnames(mu) <- colnames(m)\n",
    "\n",
    "# initialize posterior matrix\n",
    "post <- matrix(, nrow = N, ncol = K)"
   ]
  },
  {
   "cell_type": "markdown",
   "metadata": {},
   "source": [
    "**Check initialization**"
   ]
  },
  {
   "cell_type": "code",
   "execution_count": 5,
   "metadata": {},
   "outputs": [
    {
     "data": {
      "text/html": [
       "<ol class=list-inline>\n",
       "\t<li>0.25</li>\n",
       "\t<li>0.25</li>\n",
       "\t<li>0.25</li>\n",
       "\t<li>0.25</li>\n",
       "</ol>\n"
      ],
      "text/latex": [
       "\\begin{enumerate*}\n",
       "\\item 0.25\n",
       "\\item 0.25\n",
       "\\item 0.25\n",
       "\\item 0.25\n",
       "\\end{enumerate*}\n"
      ],
      "text/markdown": [
       "1. 0.25\n",
       "2. 0.25\n",
       "3. 0.25\n",
       "4. 0.25\n",
       "\n",
       "\n"
      ],
      "text/plain": [
       "[1] 0.25 0.25 0.25 0.25"
      ]
     },
     "metadata": {},
     "output_type": "display_data"
    },
    {
     "data": {
      "text/html": [
       "<table>\n",
       "<thead><tr><th></th><th scope=col>actual</th><th scope=col>also</th><th scope=col>anyon</th><th scope=col>anyth</th><th scope=col>around</th><th scope=col>avail</th><th scope=col>believ</th><th scope=col>bit</th><th scope=col>call</th><th scope=col>can</th><th scope=col>...</th><th scope=col>space</th><th scope=col>phone</th><th scope=col>apr</th><th scope=col>chip</th><th scope=col>power</th><th scope=col>back</th><th scope=col>design</th><th scope=col>day</th><th scope=col>nasa</th><th scope=col>clipper</th></tr></thead>\n",
       "<tbody>\n",
       "\t<tr><th scope=row>1</th><td>0.012978813 </td><td>0.005877740 </td><td>0.016070860 </td><td>0.01472810  </td><td>0.014294274 </td><td>0.002596359 </td><td>0.007772764 </td><td>0.013891403 </td><td>0.003760590 </td><td>0.015493588 </td><td>...         </td><td>0.0044186612</td><td>0.009944374 </td><td>0.010269877 </td><td>0.007935486 </td><td>0.0031213451</td><td>0.007307050 </td><td>0.009960365 </td><td>0.008972187 </td><td>0.0001432896</td><td>0.011836316 </td></tr>\n",
       "\t<tr><th scope=row>2</th><td>0.012115296 </td><td>0.003188849 </td><td>0.002694066 </td><td>0.01416167  </td><td>0.003176968 </td><td>0.001296558 </td><td>0.011262229 </td><td>0.002668632 </td><td>0.001914500 </td><td>0.014013258 </td><td>...         </td><td>0.0003576039</td><td>0.009322473 </td><td>0.003062740 </td><td>0.006495422 </td><td>0.0061585722</td><td>0.004196688 </td><td>0.002354682 </td><td>0.000321172 </td><td>0.0060810764</td><td>0.012644749 </td></tr>\n",
       "\t<tr><th scope=row>3</th><td>0.005746476 </td><td>0.007855600 </td><td>0.011720277 </td><td>0.01459674  </td><td>0.004920139 </td><td>0.001948271 </td><td>0.012923163 </td><td>0.007680980 </td><td>0.012101589 </td><td>0.010459591 </td><td>...         </td><td>0.0048368052</td><td>0.006330705 </td><td>0.003795548 </td><td>0.011247542 </td><td>0.0048963153</td><td>0.007847436 </td><td>0.004191632 </td><td>0.010157155 </td><td>0.0102891472</td><td>0.003704691 </td></tr>\n",
       "\t<tr><th scope=row>4</th><td>0.005382414 </td><td>0.001521107 </td><td>0.009357290 </td><td>0.01411891  </td><td>0.012247589 </td><td>0.002708968 </td><td>0.013832693 </td><td>0.013696138 </td><td>0.001265043 </td><td>0.009540254 </td><td>...         </td><td>0.0153447178</td><td>0.007263597 </td><td>0.010373982 </td><td>0.003992341 </td><td>0.0004332961</td><td>0.007049818 </td><td>0.010864302 </td><td>0.014963004 </td><td>0.0103589416</td><td>0.007159916 </td></tr>\n",
       "</tbody>\n",
       "</table>\n"
      ],
      "text/latex": [
       "\\begin{tabular}{r|lllllllllllllllllllllllllllllllllllllllllllllllllllllllllllllllllllllllllllllllllllllllllllllllllllllllllllllllllllllllllllllllll}\n",
       "  & actual & also & anyon & anyth & around & avail & believ & bit & call & can & ... & space & phone & apr & chip & power & back & design & day & nasa & clipper\\\\\n",
       "\\hline\n",
       "\t1 & 0.012978813  & 0.005877740  & 0.016070860  & 0.01472810   & 0.014294274  & 0.002596359  & 0.007772764  & 0.013891403  & 0.003760590  & 0.015493588  & ...          & 0.0044186612 & 0.009944374  & 0.010269877  & 0.007935486  & 0.0031213451 & 0.007307050  & 0.009960365  & 0.008972187  & 0.0001432896 & 0.011836316 \\\\\n",
       "\t2 & 0.012115296  & 0.003188849  & 0.002694066  & 0.01416167   & 0.003176968  & 0.001296558  & 0.011262229  & 0.002668632  & 0.001914500  & 0.014013258  & ...          & 0.0003576039 & 0.009322473  & 0.003062740  & 0.006495422  & 0.0061585722 & 0.004196688  & 0.002354682  & 0.000321172  & 0.0060810764 & 0.012644749 \\\\\n",
       "\t3 & 0.005746476  & 0.007855600  & 0.011720277  & 0.01459674   & 0.004920139  & 0.001948271  & 0.012923163  & 0.007680980  & 0.012101589  & 0.010459591  & ...          & 0.0048368052 & 0.006330705  & 0.003795548  & 0.011247542  & 0.0048963153 & 0.007847436  & 0.004191632  & 0.010157155  & 0.0102891472 & 0.003704691 \\\\\n",
       "\t4 & 0.005382414  & 0.001521107  & 0.009357290  & 0.01411891   & 0.012247589  & 0.002708968  & 0.013832693  & 0.013696138  & 0.001265043  & 0.009540254  & ...          & 0.0153447178 & 0.007263597  & 0.010373982  & 0.003992341  & 0.0004332961 & 0.007049818  & 0.010864302  & 0.014963004  & 0.0103589416 & 0.007159916 \\\\\n",
       "\\end{tabular}\n"
      ],
      "text/markdown": [
       "\n",
       "| <!--/--> | actual | also | anyon | anyth | around | avail | believ | bit | call | can | ... | space | phone | apr | chip | power | back | design | day | nasa | clipper | \n",
       "|---|---|---|---|\n",
       "| 1 | 0.012978813  | 0.005877740  | 0.016070860  | 0.01472810   | 0.014294274  | 0.002596359  | 0.007772764  | 0.013891403  | 0.003760590  | 0.015493588  | ...          | 0.0044186612 | 0.009944374  | 0.010269877  | 0.007935486  | 0.0031213451 | 0.007307050  | 0.009960365  | 0.008972187  | 0.0001432896 | 0.011836316  | \n",
       "| 2 | 0.012115296  | 0.003188849  | 0.002694066  | 0.01416167   | 0.003176968  | 0.001296558  | 0.011262229  | 0.002668632  | 0.001914500  | 0.014013258  | ...          | 0.0003576039 | 0.009322473  | 0.003062740  | 0.006495422  | 0.0061585722 | 0.004196688  | 0.002354682  | 0.000321172  | 0.0060810764 | 0.012644749  | \n",
       "| 3 | 0.005746476  | 0.007855600  | 0.011720277  | 0.01459674   | 0.004920139  | 0.001948271  | 0.012923163  | 0.007680980  | 0.012101589  | 0.010459591  | ...          | 0.0048368052 | 0.006330705  | 0.003795548  | 0.011247542  | 0.0048963153 | 0.007847436  | 0.004191632  | 0.010157155  | 0.0102891472 | 0.003704691  | \n",
       "| 4 | 0.005382414  | 0.001521107  | 0.009357290  | 0.01411891   | 0.012247589  | 0.002708968  | 0.013832693  | 0.013696138  | 0.001265043  | 0.009540254  | ...          | 0.0153447178 | 0.007263597  | 0.010373982  | 0.003992341  | 0.0004332961 | 0.007049818  | 0.010864302  | 0.014963004  | 0.0103589416 | 0.007159916  | \n",
       "\n",
       "\n"
      ],
      "text/plain": [
       "  actual      also        anyon       anyth      around      avail      \n",
       "1 0.012978813 0.005877740 0.016070860 0.01472810 0.014294274 0.002596359\n",
       "2 0.012115296 0.003188849 0.002694066 0.01416167 0.003176968 0.001296558\n",
       "3 0.005746476 0.007855600 0.011720277 0.01459674 0.004920139 0.001948271\n",
       "4 0.005382414 0.001521107 0.009357290 0.01411891 0.012247589 0.002708968\n",
       "  believ      bit         call        can         ... space        phone      \n",
       "1 0.007772764 0.013891403 0.003760590 0.015493588 ... 0.0044186612 0.009944374\n",
       "2 0.011262229 0.002668632 0.001914500 0.014013258 ... 0.0003576039 0.009322473\n",
       "3 0.012923163 0.007680980 0.012101589 0.010459591 ... 0.0048368052 0.006330705\n",
       "4 0.013832693 0.013696138 0.001265043 0.009540254 ... 0.0153447178 0.007263597\n",
       "  apr         chip        power        back        design      day        \n",
       "1 0.010269877 0.007935486 0.0031213451 0.007307050 0.009960365 0.008972187\n",
       "2 0.003062740 0.006495422 0.0061585722 0.004196688 0.002354682 0.000321172\n",
       "3 0.003795548 0.011247542 0.0048963153 0.007847436 0.004191632 0.010157155\n",
       "4 0.010373982 0.003992341 0.0004332961 0.007049818 0.010864302 0.014963004\n",
       "  nasa         clipper    \n",
       "1 0.0001432896 0.011836316\n",
       "2 0.0060810764 0.012644749\n",
       "3 0.0102891472 0.003704691\n",
       "4 0.0103589416 0.007159916"
      ]
     },
     "metadata": {},
     "output_type": "display_data"
    },
    {
     "data": {
      "text/html": [
       "<table>\n",
       "<tbody>\n",
       "\t<tr><td>NA</td><td>NA</td><td>NA</td><td>NA</td></tr>\n",
       "\t<tr><td>NA</td><td>NA</td><td>NA</td><td>NA</td></tr>\n",
       "\t<tr><td>NA</td><td>NA</td><td>NA</td><td>NA</td></tr>\n",
       "\t<tr><td>NA</td><td>NA</td><td>NA</td><td>NA</td></tr>\n",
       "\t<tr><td>NA</td><td>NA</td><td>NA</td><td>NA</td></tr>\n",
       "\t<tr><td>NA</td><td>NA</td><td>NA</td><td>NA</td></tr>\n",
       "</tbody>\n",
       "</table>\n"
      ],
      "text/latex": [
       "\\begin{tabular}{llll}\n",
       "\t NA & NA & NA & NA\\\\\n",
       "\t NA & NA & NA & NA\\\\\n",
       "\t NA & NA & NA & NA\\\\\n",
       "\t NA & NA & NA & NA\\\\\n",
       "\t NA & NA & NA & NA\\\\\n",
       "\t NA & NA & NA & NA\\\\\n",
       "\\end{tabular}\n"
      ],
      "text/markdown": [
       "\n",
       "| NA | NA | NA | NA | \n",
       "| NA | NA | NA | NA | \n",
       "| NA | NA | NA | NA | \n",
       "| NA | NA | NA | NA | \n",
       "| NA | NA | NA | NA | \n",
       "| NA | NA | NA | NA | \n",
       "\n",
       "\n"
      ],
      "text/plain": [
       "     [,1] [,2] [,3] [,4]\n",
       "[1,] NA   NA   NA   NA  \n",
       "[2,] NA   NA   NA   NA  \n",
       "[3,] NA   NA   NA   NA  \n",
       "[4,] NA   NA   NA   NA  \n",
       "[5,] NA   NA   NA   NA  \n",
       "[6,] NA   NA   NA   NA  "
      ]
     },
     "metadata": {},
     "output_type": "display_data"
    },
    {
     "data": {
      "text/html": [
       "<table>\n",
       "<thead><tr><th></th><th scope=col>actual</th><th scope=col>also</th><th scope=col>anyon</th><th scope=col>anyth</th><th scope=col>around</th><th scope=col>avail</th><th scope=col>believ</th><th scope=col>bit</th><th scope=col>call</th><th scope=col>can</th><th scope=col>...</th><th scope=col>space</th><th scope=col>phone</th><th scope=col>apr</th><th scope=col>chip</th><th scope=col>power</th><th scope=col>back</th><th scope=col>design</th><th scope=col>day</th><th scope=col>nasa</th><th scope=col>clipper</th></tr></thead>\n",
       "<tbody>\n",
       "\t<tr><th scope=row>1</th><td>1  </td><td>2  </td><td>2  </td><td>2  </td><td>1  </td><td>2  </td><td>1  </td><td>2  </td><td>2  </td><td>7  </td><td>...</td><td>0  </td><td>0  </td><td>0  </td><td>0  </td><td>0  </td><td>0  </td><td>0  </td><td>0  </td><td>0  </td><td>0  </td></tr>\n",
       "\t<tr><th scope=row>2</th><td>1  </td><td>6  </td><td>2  </td><td>3  </td><td>1  </td><td>6  </td><td>3  </td><td>3  </td><td>3  </td><td>9  </td><td>...</td><td>0  </td><td>0  </td><td>0  </td><td>0  </td><td>0  </td><td>0  </td><td>0  </td><td>0  </td><td>0  </td><td>0  </td></tr>\n",
       "\t<tr><th scope=row>3</th><td>0  </td><td>2  </td><td>1  </td><td>0  </td><td>0  </td><td>0  </td><td>1  </td><td>2  </td><td>0  </td><td>7  </td><td>...</td><td>0  </td><td>0  </td><td>0  </td><td>0  </td><td>0  </td><td>0  </td><td>0  </td><td>0  </td><td>0  </td><td>0  </td></tr>\n",
       "\t<tr><th scope=row>4</th><td>0  </td><td>0  </td><td>0  </td><td>0  </td><td>0  </td><td>0  </td><td>1  </td><td>0  </td><td>0  </td><td>0  </td><td>...</td><td>0  </td><td>0  </td><td>0  </td><td>0  </td><td>0  </td><td>0  </td><td>0  </td><td>0  </td><td>0  </td><td>0  </td></tr>\n",
       "\t<tr><th scope=row>5</th><td>1  </td><td>1  </td><td>0  </td><td>0  </td><td>0  </td><td>0  </td><td>0  </td><td>0  </td><td>0  </td><td>1  </td><td>...</td><td>0  </td><td>0  </td><td>0  </td><td>0  </td><td>0  </td><td>0  </td><td>0  </td><td>0  </td><td>0  </td><td>0  </td></tr>\n",
       "\t<tr><th scope=row>6</th><td>3  </td><td>0  </td><td>0  </td><td>0  </td><td>0  </td><td>0  </td><td>0  </td><td>0  </td><td>0  </td><td>4  </td><td>...</td><td>0  </td><td>0  </td><td>0  </td><td>0  </td><td>0  </td><td>0  </td><td>0  </td><td>0  </td><td>0  </td><td>0  </td></tr>\n",
       "</tbody>\n",
       "</table>\n"
      ],
      "text/latex": [
       "\\begin{tabular}{r|lllllllllllllllllllllllllllllllllllllllllllllllllllllllllllllllllllllllllllllllllllllllllllllllllllllllllllllllllllllllllllllllll}\n",
       "  & actual & also & anyon & anyth & around & avail & believ & bit & call & can & ... & space & phone & apr & chip & power & back & design & day & nasa & clipper\\\\\n",
       "\\hline\n",
       "\t1 & 1   & 2   & 2   & 2   & 1   & 2   & 1   & 2   & 2   & 7   & ... & 0   & 0   & 0   & 0   & 0   & 0   & 0   & 0   & 0   & 0  \\\\\n",
       "\t2 & 1   & 6   & 2   & 3   & 1   & 6   & 3   & 3   & 3   & 9   & ... & 0   & 0   & 0   & 0   & 0   & 0   & 0   & 0   & 0   & 0  \\\\\n",
       "\t3 & 0   & 2   & 1   & 0   & 0   & 0   & 1   & 2   & 0   & 7   & ... & 0   & 0   & 0   & 0   & 0   & 0   & 0   & 0   & 0   & 0  \\\\\n",
       "\t4 & 0   & 0   & 0   & 0   & 0   & 0   & 1   & 0   & 0   & 0   & ... & 0   & 0   & 0   & 0   & 0   & 0   & 0   & 0   & 0   & 0  \\\\\n",
       "\t5 & 1   & 1   & 0   & 0   & 0   & 0   & 0   & 0   & 0   & 1   & ... & 0   & 0   & 0   & 0   & 0   & 0   & 0   & 0   & 0   & 0  \\\\\n",
       "\t6 & 3   & 0   & 0   & 0   & 0   & 0   & 0   & 0   & 0   & 4   & ... & 0   & 0   & 0   & 0   & 0   & 0   & 0   & 0   & 0   & 0  \\\\\n",
       "\\end{tabular}\n"
      ],
      "text/markdown": [
       "\n",
       "| <!--/--> | actual | also | anyon | anyth | around | avail | believ | bit | call | can | ... | space | phone | apr | chip | power | back | design | day | nasa | clipper | \n",
       "|---|---|---|---|---|---|\n",
       "| 1 | 1   | 2   | 2   | 2   | 1   | 2   | 1   | 2   | 2   | 7   | ... | 0   | 0   | 0   | 0   | 0   | 0   | 0   | 0   | 0   | 0   | \n",
       "| 2 | 1   | 6   | 2   | 3   | 1   | 6   | 3   | 3   | 3   | 9   | ... | 0   | 0   | 0   | 0   | 0   | 0   | 0   | 0   | 0   | 0   | \n",
       "| 3 | 0   | 2   | 1   | 0   | 0   | 0   | 1   | 2   | 0   | 7   | ... | 0   | 0   | 0   | 0   | 0   | 0   | 0   | 0   | 0   | 0   | \n",
       "| 4 | 0   | 0   | 0   | 0   | 0   | 0   | 1   | 0   | 0   | 0   | ... | 0   | 0   | 0   | 0   | 0   | 0   | 0   | 0   | 0   | 0   | \n",
       "| 5 | 1   | 1   | 0   | 0   | 0   | 0   | 0   | 0   | 0   | 1   | ... | 0   | 0   | 0   | 0   | 0   | 0   | 0   | 0   | 0   | 0   | \n",
       "| 6 | 3   | 0   | 0   | 0   | 0   | 0   | 0   | 0   | 0   | 4   | ... | 0   | 0   | 0   | 0   | 0   | 0   | 0   | 0   | 0   | 0   | \n",
       "\n",
       "\n"
      ],
      "text/plain": [
       "  actual also anyon anyth around avail believ bit call can ... space phone apr\n",
       "1 1      2    2     2     1      2     1      2   2    7   ... 0     0     0  \n",
       "2 1      6    2     3     1      6     3      3   3    9   ... 0     0     0  \n",
       "3 0      2    1     0     0      0     1      2   0    7   ... 0     0     0  \n",
       "4 0      0    0     0     0      0     1      0   0    0   ... 0     0     0  \n",
       "5 1      1    0     0     0      0     0      0   0    1   ... 0     0     0  \n",
       "6 3      0    0     0     0      0     0      0   0    4   ... 0     0     0  \n",
       "  chip power back design day nasa clipper\n",
       "1 0    0     0    0      0   0    0      \n",
       "2 0    0     0    0      0   0    0      \n",
       "3 0    0     0    0      0   0    0      \n",
       "4 0    0     0    0      0   0    0      \n",
       "5 0    0     0    0      0   0    0      \n",
       "6 0    0     0    0      0   0    0      "
      ]
     },
     "metadata": {},
     "output_type": "display_data"
    }
   ],
   "source": [
    "Phi.hat\n",
    "mu\n",
    "head(post)\n",
    "head(m)"
   ]
  },
  {
   "cell_type": "markdown",
   "metadata": {},
   "source": [
    "**Run soft EM**"
   ]
  },
  {
   "cell_type": "code",
   "execution_count": 6,
   "metadata": {},
   "outputs": [],
   "source": [
    "mu.old <- mu\n",
    "\n",
    "while (!terminate){\n",
    "    # E step\n",
    "    # calculate posterior probability\n",
    "    for (r in 1:doc){ #2373\n",
    "        # matrix to store z value\n",
    "        z <- matrix(nrow = 1, ncol=K)\n",
    "        \n",
    "        # for every cluster\n",
    "        for (k in 1:K){\n",
    "\n",
    "            temp <- matrix(nrow = 1, ncol=dim(m)[2])\n",
    "\n",
    "            for (c in 1:word){ #129\n",
    "                # calculate word count times the log of word proportion in the cluster\n",
    "                temp[1,c] <- m[r,c] * log(mu[k,c])\n",
    "            }\n",
    "            # calculate z value\n",
    "            z[1,k]<- log(Phi.hat[k]) + sum(temp)\n",
    "        }\n",
    "        # find max in z value\n",
    "        max_z <- max(z)\n",
    "        # scale the z value by the max value\n",
    "        z <- z - max_z\n",
    "        # calculate posterior probability\n",
    "        post[r,] <- exp(z)/sum(exp(z))\n",
    "    }\n",
    "    \n",
    "    # M step\n",
    "    # calculate Nk\n",
    "    Nk <- colSums(post)\n",
    "    # update Phi hat\n",
    "    Phi.hat <- Nk/N\n",
    "\n",
    "    # update mu\n",
    "    for (k in 1:K){\n",
    "        # initialize denominator\n",
    "        denom <- 0\n",
    "        # calculate denominator\n",
    "        for (c in 1:word){\n",
    "            denom <- denom + post[,k] %*% m[,c]\n",
    "        }\n",
    "        # initialize empty vector to store result\n",
    "        v <- vector()\n",
    "        # calculate new mu\n",
    "        for (c in 1:word){\n",
    "            v <- append(v, (post[,k] %*% m[,c]) / denom)\n",
    "        }\n",
    "        # update mu\n",
    "        mu[k,]<- v\n",
    "    }\n",
    "    # increment epoch counter\n",
    "    eta <- eta +1\n",
    "    # check the termination criteria\n",
    "    terminate <- eta > eta.max | sum(abs(mu.old - mu)) <= epsilon\n",
    "    \n",
    "    # record the means (neccessary for checking the termination criteria)\n",
    "    mu.old <- mu\n",
    "}\n"
   ]
  },
  {
   "cell_type": "code",
   "execution_count": 7,
   "metadata": {},
   "outputs": [
    {
     "data": {
      "text/html": [
       "<ol class=list-inline>\n",
       "\t<li>0.199090032321814</li>\n",
       "\t<li>0.337093525385325</li>\n",
       "\t<li>0.397870525456936</li>\n",
       "\t<li>0.0659459168359249</li>\n",
       "</ol>\n"
      ],
      "text/latex": [
       "\\begin{enumerate*}\n",
       "\\item 0.199090032321814\n",
       "\\item 0.337093525385325\n",
       "\\item 0.397870525456936\n",
       "\\item 0.0659459168359249\n",
       "\\end{enumerate*}\n"
      ],
      "text/markdown": [
       "1. 0.199090032321814\n",
       "2. 0.337093525385325\n",
       "3. 0.397870525456936\n",
       "4. 0.0659459168359249\n",
       "\n",
       "\n"
      ],
      "text/plain": [
       "[1] 0.19909003 0.33709353 0.39787053 0.06594592"
      ]
     },
     "metadata": {},
     "output_type": "display_data"
    }
   ],
   "source": [
    "Phi.hat"
   ]
  },
  {
   "cell_type": "code",
   "execution_count": 8,
   "metadata": {},
   "outputs": [],
   "source": [
    "## perform pca\n",
    "p.comp <- prcomp(m)  "
   ]
  },
  {
   "cell_type": "code",
   "execution_count": 9,
   "metadata": {},
   "outputs": [
    {
     "data": {
      "text/html": [
       "<table>\n",
       "<thead><tr><th></th><th scope=col>PC1</th><th scope=col>PC2</th><th scope=col>PC3</th><th scope=col>PC4</th><th scope=col>PC5</th><th scope=col>PC6</th><th scope=col>PC7</th><th scope=col>PC8</th><th scope=col>PC9</th><th scope=col>PC10</th><th scope=col>...</th><th scope=col>PC120</th><th scope=col>PC121</th><th scope=col>PC122</th><th scope=col>PC123</th><th scope=col>PC124</th><th scope=col>PC125</th><th scope=col>PC126</th><th scope=col>PC127</th><th scope=col>PC128</th><th scope=col>PC129</th></tr></thead>\n",
       "<tbody>\n",
       "\t<tr><th scope=row>1</th><td>-39.031155  </td><td>-16.37856933</td><td>-8.03884512 </td><td>-16.3165613 </td><td>5.52142647  </td><td>-2.8680020  </td><td>-17.43717992</td><td>-8.5310275  </td><td>-1.3565290  </td><td> 1.72988914 </td><td>...         </td><td> 0.1263796  </td><td>-0.99007945 </td><td>-0.09669631 </td><td> 0.7808816  </td><td> 0.55029580 </td><td> 0.01530088 </td><td> 0.2971536  </td><td> 1.35112138 </td><td> 0.43763363 </td><td> 0.1430693  </td></tr>\n",
       "\t<tr><th scope=row>2</th><td>-53.447214  </td><td>-21.17393936</td><td>-9.44253325 </td><td>-22.1796052 </td><td>8.57830460  </td><td>-6.6800556  </td><td>-24.71700936</td><td>-7.4731352  </td><td>-3.5834523  </td><td> 1.28705330 </td><td>...         </td><td> 0.4630843  </td><td> 0.89193530 </td><td>-0.26705898 </td><td> 0.6992501  </td><td>-0.05193110 </td><td> 0.33897609 </td><td>-0.2435168  </td><td>-0.09328083 </td><td>-0.19602719 </td><td>-0.5132949  </td></tr>\n",
       "\t<tr><th scope=row>3</th><td>-21.456324  </td><td>-11.98397933</td><td>-3.85909920 </td><td> -9.5973328 </td><td>0.67112596  </td><td> 1.7676968  </td><td>-10.99859428</td><td> 0.7814324  </td><td>-1.1922118  </td><td> 3.28280472 </td><td>...         </td><td>-0.5455299  </td><td> 0.19342163 </td><td> 0.14130895 </td><td>-0.5173977  </td><td> 0.42696519 </td><td>-0.24785473 </td><td> 0.2437735  </td><td> 0.61581168 </td><td>-0.31789195 </td><td> 0.3098768  </td></tr>\n",
       "\t<tr><th scope=row>4</th><td>  3.104305  </td><td>  0.63324897</td><td>-0.75214328 </td><td> -0.3451755 </td><td>0.07357101  </td><td>-0.3676298  </td><td>  0.24960018</td><td>-0.4131416  </td><td> 0.2063431  </td><td> 0.08398423 </td><td>...         </td><td> 0.4238764  </td><td> 0.05425341 </td><td> 0.35730845 </td><td> 0.1168673  </td><td> 0.04751813 </td><td> 0.12687446 </td><td> 0.1486392  </td><td>-0.05442925 </td><td>-0.02759842 </td><td>-0.2327360  </td></tr>\n",
       "\t<tr><th scope=row>5</th><td>  2.240195  </td><td> -0.49441725</td><td> 0.07298984 </td><td>  1.2797483 </td><td>0.30838993  </td><td> 0.5834753  </td><td> -0.49853350</td><td> 0.6078362  </td><td>-0.1276464  </td><td>-0.06954809 </td><td>...         </td><td> 0.2321288  </td><td>-0.55042695 </td><td>-0.04033789 </td><td> 0.1119521  </td><td> 0.04824799 </td><td>-0.14874986 </td><td>-0.1899080  </td><td> 0.04840867 </td><td> 0.10201562 </td><td> 0.1099446  </td></tr>\n",
       "\t<tr><th scope=row>6</th><td> -4.371924  </td><td>  0.04648693</td><td> 0.17400258 </td><td>  2.6663947 </td><td>3.33265226  </td><td>-3.4303465  </td><td>  0.01756266</td><td> 2.0899692  </td><td> 2.1473719  </td><td>-0.48108445 </td><td>...         </td><td> 0.2582998  </td><td>-0.06429485 </td><td>-0.29457647 </td><td>-0.3933437  </td><td> 0.21819425 </td><td>-0.27388996 </td><td>-0.3559755  </td><td>-1.06073486 </td><td>-0.29686011 </td><td> 0.2442492  </td></tr>\n",
       "</tbody>\n",
       "</table>\n"
      ],
      "text/latex": [
       "\\begin{tabular}{r|lllllllllllllllllllllllllllllllllllllllllllllllllllllllllllllllllllllllllllllllllllllllllllllllllllllllllllllllllllllllllllllllll}\n",
       "  & PC1 & PC2 & PC3 & PC4 & PC5 & PC6 & PC7 & PC8 & PC9 & PC10 & ... & PC120 & PC121 & PC122 & PC123 & PC124 & PC125 & PC126 & PC127 & PC128 & PC129\\\\\n",
       "\\hline\n",
       "\t1 & -39.031155   & -16.37856933 & -8.03884512  & -16.3165613  & 5.52142647   & -2.8680020   & -17.43717992 & -8.5310275   & -1.3565290   &  1.72988914  & ...          &  0.1263796   & -0.99007945  & -0.09669631  &  0.7808816   &  0.55029580  &  0.01530088  &  0.2971536   &  1.35112138  &  0.43763363  &  0.1430693  \\\\\n",
       "\t2 & -53.447214   & -21.17393936 & -9.44253325  & -22.1796052  & 8.57830460   & -6.6800556   & -24.71700936 & -7.4731352   & -3.5834523   &  1.28705330  & ...          &  0.4630843   &  0.89193530  & -0.26705898  &  0.6992501   & -0.05193110  &  0.33897609  & -0.2435168   & -0.09328083  & -0.19602719  & -0.5132949  \\\\\n",
       "\t3 & -21.456324   & -11.98397933 & -3.85909920  &  -9.5973328  & 0.67112596   &  1.7676968   & -10.99859428 &  0.7814324   & -1.1922118   &  3.28280472  & ...          & -0.5455299   &  0.19342163  &  0.14130895  & -0.5173977   &  0.42696519  & -0.24785473  &  0.2437735   &  0.61581168  & -0.31789195  &  0.3098768  \\\\\n",
       "\t4 &   3.104305   &   0.63324897 & -0.75214328  &  -0.3451755  & 0.07357101   & -0.3676298   &   0.24960018 & -0.4131416   &  0.2063431   &  0.08398423  & ...          &  0.4238764   &  0.05425341  &  0.35730845  &  0.1168673   &  0.04751813  &  0.12687446  &  0.1486392   & -0.05442925  & -0.02759842  & -0.2327360  \\\\\n",
       "\t5 &   2.240195   &  -0.49441725 &  0.07298984  &   1.2797483  & 0.30838993   &  0.5834753   &  -0.49853350 &  0.6078362   & -0.1276464   & -0.06954809  & ...          &  0.2321288   & -0.55042695  & -0.04033789  &  0.1119521   &  0.04824799  & -0.14874986  & -0.1899080   &  0.04840867  &  0.10201562  &  0.1099446  \\\\\n",
       "\t6 &  -4.371924   &   0.04648693 &  0.17400258  &   2.6663947  & 3.33265226   & -3.4303465   &   0.01756266 &  2.0899692   &  2.1473719   & -0.48108445  & ...          &  0.2582998   & -0.06429485  & -0.29457647  & -0.3933437   &  0.21819425  & -0.27388996  & -0.3559755   & -1.06073486  & -0.29686011  &  0.2442492  \\\\\n",
       "\\end{tabular}\n"
      ],
      "text/markdown": [
       "\n",
       "| <!--/--> | PC1 | PC2 | PC3 | PC4 | PC5 | PC6 | PC7 | PC8 | PC9 | PC10 | ... | PC120 | PC121 | PC122 | PC123 | PC124 | PC125 | PC126 | PC127 | PC128 | PC129 | \n",
       "|---|---|---|---|---|---|\n",
       "| 1 | -39.031155   | -16.37856933 | -8.03884512  | -16.3165613  | 5.52142647   | -2.8680020   | -17.43717992 | -8.5310275   | -1.3565290   |  1.72988914  | ...          |  0.1263796   | -0.99007945  | -0.09669631  |  0.7808816   |  0.55029580  |  0.01530088  |  0.2971536   |  1.35112138  |  0.43763363  |  0.1430693   | \n",
       "| 2 | -53.447214   | -21.17393936 | -9.44253325  | -22.1796052  | 8.57830460   | -6.6800556   | -24.71700936 | -7.4731352   | -3.5834523   |  1.28705330  | ...          |  0.4630843   |  0.89193530  | -0.26705898  |  0.6992501   | -0.05193110  |  0.33897609  | -0.2435168   | -0.09328083  | -0.19602719  | -0.5132949   | \n",
       "| 3 | -21.456324   | -11.98397933 | -3.85909920  |  -9.5973328  | 0.67112596   |  1.7676968   | -10.99859428 |  0.7814324   | -1.1922118   |  3.28280472  | ...          | -0.5455299   |  0.19342163  |  0.14130895  | -0.5173977   |  0.42696519  | -0.24785473  |  0.2437735   |  0.61581168  | -0.31789195  |  0.3098768   | \n",
       "| 4 |   3.104305   |   0.63324897 | -0.75214328  |  -0.3451755  | 0.07357101   | -0.3676298   |   0.24960018 | -0.4131416   |  0.2063431   |  0.08398423  | ...          |  0.4238764   |  0.05425341  |  0.35730845  |  0.1168673   |  0.04751813  |  0.12687446  |  0.1486392   | -0.05442925  | -0.02759842  | -0.2327360   | \n",
       "| 5 |   2.240195   |  -0.49441725 |  0.07298984  |   1.2797483  | 0.30838993   |  0.5834753   |  -0.49853350 |  0.6078362   | -0.1276464   | -0.06954809  | ...          |  0.2321288   | -0.55042695  | -0.04033789  |  0.1119521   |  0.04824799  | -0.14874986  | -0.1899080   |  0.04840867  |  0.10201562  |  0.1099446   | \n",
       "| 6 |  -4.371924   |   0.04648693 |  0.17400258  |   2.6663947  | 3.33265226   | -3.4303465   |   0.01756266 |  2.0899692   |  2.1473719   | -0.48108445  | ...          |  0.2582998   | -0.06429485  | -0.29457647  | -0.3933437   |  0.21819425  | -0.27388996  | -0.3559755   | -1.06073486  | -0.29686011  |  0.2442492   | \n",
       "\n",
       "\n"
      ],
      "text/plain": [
       "  PC1        PC2          PC3         PC4         PC5        PC6       \n",
       "1 -39.031155 -16.37856933 -8.03884512 -16.3165613 5.52142647 -2.8680020\n",
       "2 -53.447214 -21.17393936 -9.44253325 -22.1796052 8.57830460 -6.6800556\n",
       "3 -21.456324 -11.98397933 -3.85909920  -9.5973328 0.67112596  1.7676968\n",
       "4   3.104305   0.63324897 -0.75214328  -0.3451755 0.07357101 -0.3676298\n",
       "5   2.240195  -0.49441725  0.07298984   1.2797483 0.30838993  0.5834753\n",
       "6  -4.371924   0.04648693  0.17400258   2.6663947 3.33265226 -3.4303465\n",
       "  PC7          PC8        PC9        PC10        ... PC120      PC121      \n",
       "1 -17.43717992 -8.5310275 -1.3565290  1.72988914 ...  0.1263796 -0.99007945\n",
       "2 -24.71700936 -7.4731352 -3.5834523  1.28705330 ...  0.4630843  0.89193530\n",
       "3 -10.99859428  0.7814324 -1.1922118  3.28280472 ... -0.5455299  0.19342163\n",
       "4   0.24960018 -0.4131416  0.2063431  0.08398423 ...  0.4238764  0.05425341\n",
       "5  -0.49853350  0.6078362 -0.1276464 -0.06954809 ...  0.2321288 -0.55042695\n",
       "6   0.01756266  2.0899692  2.1473719 -0.48108445 ...  0.2582998 -0.06429485\n",
       "  PC122       PC123      PC124       PC125       PC126      PC127      \n",
       "1 -0.09669631  0.7808816  0.55029580  0.01530088  0.2971536  1.35112138\n",
       "2 -0.26705898  0.6992501 -0.05193110  0.33897609 -0.2435168 -0.09328083\n",
       "3  0.14130895 -0.5173977  0.42696519 -0.24785473  0.2437735  0.61581168\n",
       "4  0.35730845  0.1168673  0.04751813  0.12687446  0.1486392 -0.05442925\n",
       "5 -0.04033789  0.1119521  0.04824799 -0.14874986 -0.1899080  0.04840867\n",
       "6 -0.29457647 -0.3933437  0.21819425 -0.27388996 -0.3559755 -1.06073486\n",
       "  PC128       PC129     \n",
       "1  0.43763363  0.1430693\n",
       "2 -0.19602719 -0.5132949\n",
       "3 -0.31789195  0.3098768\n",
       "4 -0.02759842 -0.2327360\n",
       "5  0.10201562  0.1099446\n",
       "6 -0.29686011  0.2442492"
      ]
     },
     "metadata": {},
     "output_type": "display_data"
    }
   ],
   "source": [
    "head(p.comp$x)"
   ]
  },
  {
   "cell_type": "markdown",
   "metadata": {},
   "source": [
    "**Visualize result**"
   ]
  },
  {
   "cell_type": "code",
   "execution_count": 10,
   "metadata": {},
   "outputs": [
    {
     "name": "stderr",
     "output_type": "stream",
     "text": [
      "Warning message:\n",
      "\"package 'ggplot2' was built under R version 3.5.3\"\n",
      "Attaching package: 'ggplot2'\n",
      "\n",
      "The following object is masked from 'package:NLP':\n",
      "\n",
      "    annotate\n",
      "\n"
     ]
    },
    {
     "data": {},
     "metadata": {},
     "output_type": "display_data"
    },
    {
     "name": "stderr",
     "output_type": "stream",
     "text": [
      "Saving 6.67 x 6.67 in image\n"
     ]
    },
    {
     "data": {
      "image/png": "[encoded data removed]",
      "text/plain": [
       "plot without title"
      ]
     },
     "metadata": {},
     "output_type": "display_data"
    }
   ],
   "source": [
    "library(ggplot2)\n",
    "\n",
    "# plot PC1 against PC2\n",
    "ggplot(data=as.data.frame(p.comp$x), aes(x=PC1, y=PC2)) + \n",
    "        geom_point(color=rgb(post), alpha=0.4) +\n",
    "        ggtitle (paste('Soft EM Results (eta=', eta, ')')) + theme_minimal()\n",
    "\n",
    "ggsave('Q1_1.jpg')"
   ]
  },
  {
   "cell_type": "markdown",
   "metadata": {},
   "source": [
    "## 3.Hard EM\n",
    "**re-initialize the parameters**"
   ]
  },
  {
   "cell_type": "code",
   "execution_count": 11,
   "metadata": {},
   "outputs": [],
   "source": [
    "# Setting the parameters:\n",
    "K <- 4 # number of cluster\n",
    "eta.max <- 100      # maximum number of iteratins\n",
    "epsilon <- 0.001     # termination threshold\n",
    "word <- dim(m)[2]\n",
    "doc <- dim(m)[1]\n",
    "\n",
    "# Initialzations:\n",
    "eta <- 1            # epoch counter\n",
    "terminate <- FALSE  # termination condition\n",
    "\n",
    "## Ramdom cluster initialization:\n",
    "set.seed(123456) # save the random seed to make the results reproducble\n",
    "\n",
    "# initialize phi uniformly\n",
    "Phi.hat <- c(1/K, 1/K, 1/K, 1/K)\n",
    "\n",
    "# initialize mu randomly, we cannot initiailize mu uniformly \n",
    "# because this result in no majority class in the first iteration for hard EM\n",
    "mu_0 <- matrix(runif(K*word), nrow = K, ncol = word)\n",
    "mu <- mu_0 / rowSums(mu_0)\n",
    "\n",
    "rownames(mu) <- 1:K\n",
    "colnames(mu) <- colnames(m)\n",
    "\n",
    "# initialize posterior matrix\n",
    "post <- matrix(, nrow = N, ncol = K)"
   ]
  },
  {
   "cell_type": "markdown",
   "metadata": {},
   "source": [
    "**Run hard EM**\n",
    "\n",
    "The context of hard EM is mostly the same as soft EM, the only difference is after calculating the posterior probability in the E step, we choose the highest probability and set it to 1 and the others to 0."
   ]
  },
  {
   "cell_type": "code",
   "execution_count": 12,
   "metadata": {},
   "outputs": [],
   "source": [
    "mu.old <- mu\n",
    "\n",
    "while (!terminate){\n",
    "    # E step\n",
    "    # calculate posterior probability\n",
    "    for (r in 1:doc){ #2373\n",
    "        # matrix to store z value\n",
    "        z <- matrix(nrow = 1, ncol=K)\n",
    "        \n",
    "        # for every cluster\n",
    "        for (k in 1:K){\n",
    "\n",
    "            temp <- matrix(nrow = 1, ncol=dim(m)[2])\n",
    "\n",
    "            for (c in 1:word){ #129\n",
    "                # calculate word count times the log of word proportion in the cluster\n",
    "                temp[1,c] <- m[r,c] * log(mu[k,c])\n",
    "            }\n",
    "            # calculate z value\n",
    "            z[1,k]<- log(Phi.hat[k]) + sum(temp)\n",
    "        }\n",
    "        # find max in z value\n",
    "        max_z <- max(z)\n",
    "        # scale the z value by the max value\n",
    "        z <- z - max_z\n",
    "        # calculate posterior probability\n",
    "        post[r,] <- exp(z)/sum(exp(z))\n",
    "    }\n",
    "    \n",
    "    # hard assignments:\n",
    "    max.prob <- post==apply(post, 1, max) # for each point find the cluster with the maximum (estimated) probability\n",
    "    post[max.prob] <- 1 # assign each point to the cluster with the highest probability\n",
    "    post[!max.prob] <- 0 # remove points from clusters with lower probabilites\n",
    "    \n",
    "    # M step\n",
    "    # calculate Nk\n",
    "    Nk <- colSums(post)\n",
    "    # update Phi hat\n",
    "    Phi.hat <- Nk/N\n",
    "\n",
    "    # update mu\n",
    "    for (k in 1:K){\n",
    "        # initialize denominator\n",
    "        denom <- 0\n",
    "        # calculate denominator\n",
    "        for (c in 1:word){\n",
    "            denom <- denom + post[,k] %*% m[,c]\n",
    "        }\n",
    "        # initialize empty vector to store result\n",
    "        v <- vector()\n",
    "        # calculate new mu\n",
    "        for (c in 1:word){\n",
    "            v <- append(v, (post[,k] %*% m[,c]) / denom)\n",
    "        }\n",
    "        # update mu\n",
    "        mu[k,]<- v\n",
    "    }\n",
    "    # increment epoch counter\n",
    "    eta <- eta +1\n",
    "    # check the termination criteria\n",
    "    terminate <- eta > eta.max | sum(abs(mu.old - mu)) <= epsilon\n",
    "    \n",
    "    # record the means (neccessary for checking the termination criteria)\n",
    "    mu.old <- mu\n",
    "}\n"
   ]
  },
  {
   "cell_type": "markdown",
   "metadata": {},
   "source": [
    "**Visualize result**"
   ]
  },
  {
   "cell_type": "code",
   "execution_count": 13,
   "metadata": {},
   "outputs": [
    {
     "data": {},
     "metadata": {},
     "output_type": "display_data"
    },
    {
     "name": "stderr",
     "output_type": "stream",
     "text": [
      "Saving 6.67 x 6.67 in image\n"
     ]
    },
    {
     "data": {
      "image/png": "[encoded data removed]",
      "text/plain": [
       "plot without title"
      ]
     },
     "metadata": {},
     "output_type": "display_data"
    }
   ],
   "source": [
    "# plot PC1 against PC2\n",
    "ggplot(data=as.data.frame(p.comp$x), aes(x=PC1, y=PC2)) + \n",
    "        geom_point(color=rgb(post), alpha=0.4) +\n",
    "        ggtitle (paste('Hard EM Results (eta=', eta, ')')) + theme_minimal()\n",
    "ggsave('Q1_2.jpg')"
   ]
  }
 ],
 "metadata": {
  "kernelspec": {
   "display_name": "R",
   "language": "R",
   "name": "ir"
  },
  "language_info": {
   "codemirror_mode": "r",
   "file_extension": ".r",
   "mimetype": "text/x-r-source",
   "name": "R",
   "pygments_lexer": "r",
   "version": "3.5.1"
  }
 },
 "nbformat": 4,
 "nbformat_minor": 2
}
