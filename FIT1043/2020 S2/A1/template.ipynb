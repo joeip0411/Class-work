{
 "cells": [
  {
   "cell_type": "markdown",
   "metadata": {},
   "source": [
    "# Assignment 1\n",
    "\n",
    "* Student Name:\n",
    "* Student ID:\n",
    "* Tutorial Code:\n",
    "* Tutor:"
   ]
  },
  {
   "cell_type": "markdown",
   "metadata": {},
   "source": [
    "# Task 1:\n",
    "Data cleansing.\n",
    "Please use the following cells to read the two data files, clean and integrate them. You can add/delete cells as many as required to the following cells."
   ]
  },
  {
   "cell_type": "code",
   "execution_count": null,
   "metadata": {},
   "outputs": [],
   "source": [
    "import pandas as pd\n",
    "import seaborn as sns\n",
    "import matplotlib.pyplot as plt\n",
    "import numpy as np"
   ]
  },
  {
   "cell_type": "code",
   "execution_count": null,
   "metadata": {},
   "outputs": [],
   "source": []
  },
  {
   "cell_type": "code",
   "execution_count": null,
   "metadata": {},
   "outputs": [],
   "source": []
  },
  {
   "cell_type": "code",
   "execution_count": null,
   "metadata": {},
   "outputs": [],
   "source": []
  },
  {
   "cell_type": "code",
   "execution_count": null,
   "metadata": {},
   "outputs": [],
   "source": []
  },
  {
   "cell_type": "code",
   "execution_count": null,
   "metadata": {},
   "outputs": [],
   "source": []
  },
  {
   "cell_type": "code",
   "execution_count": null,
   "metadata": {},
   "outputs": [],
   "source": []
  },
  {
   "cell_type": "markdown",
   "metadata": {},
   "source": [
    "\n",
    "<h1 style=\"color:red;font-size:20px;\">You need to export a data set which contains infomration of the cleaned cronavirus dataset as well as the lockdown date as the last step of task 1 in the following cell.</h1>  \n",
    "\n",
    "Please use dataframename.to_csv('<student_ID>_Task1DataSet.csv', index=False) to export your cleansed and integrated dataset. If your student Id is 1234, you should export the file with the following code"
   ]
  },
  {
   "cell_type": "code",
   "execution_count": null,
   "metadata": {},
   "outputs": [],
   "source": [
    "dfName.to_csv('124_Task1DataSet.csv',index=False)"
   ]
  },
  {
   "cell_type": "markdown",
   "metadata": {},
   "source": [
    "# Task 2: "
   ]
  },
  {
   "cell_type": "markdown",
   "metadata": {},
   "source": [
    "### Question 1.\t\n",
    "Create a line chart to show the trend of the daily number of new cases for each country and explore the result of visualisation (Create one line chart for each country). "
   ]
  },
  {
   "cell_type": "code",
   "execution_count": null,
   "metadata": {},
   "outputs": [],
   "source": []
  },
  {
   "cell_type": "code",
   "execution_count": null,
   "metadata": {},
   "outputs": [],
   "source": []
  },
  {
   "cell_type": "code",
   "execution_count": null,
   "metadata": {},
   "outputs": [],
   "source": []
  },
  {
   "cell_type": "markdown",
   "metadata": {},
   "source": [
    "### Question 2\n",
    "Add a vertical line for the lockdown date to the line chart of each country which you created in the previous question and explore if the lockdown affected the trend which is shown in the plot? Is the effect similar for all countries? Why do you think so?"
   ]
  },
  {
   "cell_type": "code",
   "execution_count": null,
   "metadata": {},
   "outputs": [],
   "source": []
  },
  {
   "cell_type": "code",
   "execution_count": null,
   "metadata": {},
   "outputs": [],
   "source": []
  },
  {
   "cell_type": "code",
   "execution_count": null,
   "metadata": {
    "scrolled": false
   },
   "outputs": [],
   "source": []
  },
  {
   "cell_type": "markdown",
   "metadata": {},
   "source": [
    "### Question 3.  \n",
    "Explore whether there is a relation between daily new case/death rate and the GDP of a country. To this aim, you need to calculate: \n",
    "*\tThe average of GDP of the countries, and then divide the countries into two groups, a group which its GDP is above the average GDP, and another group which its GDP is below the average GDP. We call the former group as \"AboveGDP\" and the later as \"BelowGDP\" from now onwards.\n",
    "*\tThe daily new cases rate (new cases divided by population) for each country\n",
    "*\tThe daily new death rate (new deaths divided by population) for each country \n",
    "        \n",
    "Then, you need to create two line charts, one which shows the new case rate of groups \"AboveGDP\" and \"BelowGDP\"; and, another line chart to show the death rate of the two groups (\"AboveGDP\" and \"BelowGDP\").\n",
    "\n",
    "    a) Which group (\"AboveGDP\" or \"BelowGDP\") usually had higher values of case rate?\n",
    "    b) Which group (\"AboveGDP\" or \"BelowGDP”) usually had higher values of the death rate?\n",
    "    c) We would have expected that the case rate and death rate of group \"AboveGDP\" will be lower than group \"BelowGDP\". Does \n",
    "    the result of your visualisation is the same as the mentioned expectation? If no, why do you think the expectation is \n",
    "    different from the reality? \n"
   ]
  },
  {
   "cell_type": "code",
   "execution_count": null,
   "metadata": {},
   "outputs": [],
   "source": []
  },
  {
   "cell_type": "code",
   "execution_count": null,
   "metadata": {
    "scrolled": false
   },
   "outputs": [],
   "source": []
  },
  {
   "cell_type": "code",
   "execution_count": null,
   "metadata": {
    "scrolled": false
   },
   "outputs": [],
   "source": []
  }
 ],
 "metadata": {
  "kernelspec": {
   "display_name": "Python 3",
   "language": "python",
   "name": "python3"
  },
  "language_info": {
   "codemirror_mode": {
    "name": "ipython",
    "version": 3
   },
   "file_extension": ".py",
   "mimetype": "text/x-python",
   "name": "python",
   "nbconvert_exporter": "python",
   "pygments_lexer": "ipython3",
   "version": "3.6.6"
  }
 },
 "nbformat": 4,
 "nbformat_minor": 4
}