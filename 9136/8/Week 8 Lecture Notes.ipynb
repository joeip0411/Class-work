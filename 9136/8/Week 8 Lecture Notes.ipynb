{
 "cells": [
  {
   "cell_type": "markdown",
   "metadata": {
    "slideshow": {
     "slide_type": "slide"
    }
   },
   "source": [
    "# FIT9136: Algorithms and programming foundations in Python\n",
    "\n",
    "## Week 8: Complexity, Searching and Sorting Algorithms"
   ]
  },
  {
   "cell_type": "markdown",
   "metadata": {
    "slideshow": {
     "slide_type": "slide"
    }
   },
   "source": [
    "# Agenda\n",
    "\n",
    "* **[Synopsis](#1)**\n",
    "* **[Learning Objectives](#2)**\n",
    "* **[Algorithm](#3)**\n",
    "* **[Complexity](#4)**\n",
    "* **[Searching Algorithm](#5)**\n",
    "* **[Sorting Algorithm](#6)**\n",
    "* **[Summary](#7)**\n",
    "* **[Practise Question](#8)**\n"
   ]
  },
  {
   "cell_type": "markdown",
   "metadata": {
    "slideshow": {
     "slide_type": "slide"
    }
   },
   "source": [
    "<a id = \"1\"></a>\n",
    "# Synopsis\n",
    "\n",
    "* **Week 8 is aimed to provide you with:**\n",
    "\n",
    "    * Concepts of <font color=blue>**Complexity**</font>\n",
    "    * Concepts of <font color=blue>**Searching Algorithm**</font> which includes:\n",
    "        * Linear Search\n",
    "        * Binary Search\n",
    "    * Concepts of <font color=blue>**Sorting Alogrithm**</font> which includes:\n",
    "        * Bubble Sort\n",
    "        * Selection Sort\n",
    "        * Insertion Sort"
   ]
  },
  {
   "cell_type": "markdown",
   "metadata": {
    "slideshow": {
     "slide_type": "slide"
    }
   },
   "source": [
    "<a id = \"2\"></a>\n",
    "# Learning Objective\n",
    "\n",
    "* **Understand the concept of <font color=blue>time complexity</font>.**\n",
    "* **Understand the concept of <font color=blue>Linear Search</font> & <font color=blue>Binary Search</font> Algorithms.**\n",
    "* **Understand the concept of <font color=blue>Bubble Sort</font>, <font color=blue>Selection Sort</font>, & <font color=blue>Insertion Sort</font>  Algorithms.**"
   ]
  },
  {
   "cell_type": "markdown",
   "metadata": {
    "slideshow": {
     "slide_type": "slide"
    }
   },
   "source": [
    "<a id = \"3\"></a>\n",
    "# Algorithm (Revise)"
   ]
  },
  {
   "cell_type": "markdown",
   "metadata": {
    "slideshow": {
     "slide_type": "subslide"
    }
   },
   "source": [
    "## What is algorithm?\n",
    "\n",
    "* The <b>general solution</b> designed for a <b>specific problem</b>\n",
    "* Specifies a sequence of <b>step-by-step instructions</b> with the <b>flow of control</b> indicating how each of the <b>instructions should be executed</b>"
   ]
  },
  {
   "cell_type": "markdown",
   "metadata": {
    "slideshow": {
     "slide_type": "slide"
    }
   },
   "source": [
    "<a id = \"4\"></a>\n",
    "# Complexity"
   ]
  },
  {
   "cell_type": "markdown",
   "metadata": {
    "heading_collapsed": true,
    "slideshow": {
     "slide_type": "subslide"
    }
   },
   "source": [
    "## Why is the efficiency of the algorithm important?\n",
    "\n",
    "* Big data！\n",
    "    * In **2014**, Google served **30,000,000,000,000** pages, covering **100,000,000** GB – how long to search brute force?\n",
    "    * Simple solutions may simply **not scale** with size in acceptable manner\n"
   ]
  },
  {
   "cell_type": "markdown",
   "metadata": {
    "slideshow": {
     "slide_type": "subslide"
    }
   },
   "source": [
    "## How to Evaluate Efficiency of Programs\n",
    "\n",
    "* Measure with a timer?\n",
    "    * use time module"
   ]
  },
  {
   "cell_type": "code",
   "execution_count": 1,
   "metadata": {
    "ExecuteTime": {
     "end_time": "2020-09-29T10:49:27.836990Z",
     "start_time": "2020-09-29T10:49:27.833441Z"
    },
    "slideshow": {
     "slide_type": "fragment"
    }
   },
   "outputs": [
    {
     "name": "stdout",
     "output_type": "stream",
     "text": [
      "t = 9.599999999998499e-05 s,\n"
     ]
    },
    {
     "name": "stderr",
     "output_type": "stream",
     "text": [
      "/home/deep/anaconda3/lib/python3.7/site-packages/ipykernel_launcher.py:9: DeprecationWarning: time.clock has been deprecated in Python 3.3 and will be removed from Python 3.8: use time.perf_counter or time.process_time instead\n",
      "  if __name__ == '__main__':\n",
      "/home/deep/anaconda3/lib/python3.7/site-packages/ipykernel_launcher.py:15: DeprecationWarning: time.clock has been deprecated in Python 3.3 and will be removed from Python 3.8: use time.perf_counter or time.process_time instead\n",
      "  from ipykernel import kernelapp as app\n"
     ]
    }
   ],
   "source": [
    "# Importin time library\n",
    "import time\n",
    "\n",
    "# funciton to convert celcius to farenheit\n",
    "def c_to_f(c):\n",
    "    return c*9/5 + 32\n",
    "\n",
    "# Start Clock\n",
    "t0 = time.clock() \n",
    "\n",
    "# Calling Function\n",
    "c_to_f(100000)\n",
    "\n",
    "# Stop Clock\n",
    "t1 = time.clock() \n",
    "\n",
    "# Printing time difference\n",
    "print(\"t =\", t1 - t0, \"s,\")"
   ]
  },
  {
   "cell_type": "markdown",
   "metadata": {
    "slideshow": {
     "slide_type": "subslide"
    }
   },
   "source": [
    "## Time difference is Inconsistent\n",
    "\n",
    "* Goal: to evaluate different algorithms"
   ]
  },
  {
   "cell_type": "markdown",
   "metadata": {
    "slideshow": {
     "slide_type": "fragment"
    }
   },
   "source": [
    "* Running time <font color=blue>varies between algorithms</font>"
   ]
  },
  {
   "cell_type": "markdown",
   "metadata": {
    "slideshow": {
     "slide_type": "fragment"
    }
   },
   "source": [
    "* Running time <font color=red>varies between implementation</font>"
   ]
  },
  {
   "cell_type": "markdown",
   "metadata": {
    "ExecuteTime": {
     "end_time": "2020-09-29T01:15:40.176917Z",
     "start_time": "2020-09-29T01:15:40.173797Z"
    },
    "slideshow": {
     "slide_type": "fragment"
    }
   },
   "source": [
    "* Running time <font color=red>varies between computers</font>"
   ]
  },
  {
   "cell_type": "markdown",
   "metadata": {
    "slideshow": {
     "slide_type": "fragment"
    }
   },
   "source": [
    "* Running time is <font color=red>not predictable based on small inputs</font>"
   ]
  },
  {
   "cell_type": "markdown",
   "metadata": {
    "slideshow": {
     "slide_type": "fragment"
    }
   },
   "source": [
    "**Note:** \n",
    "* Time complexity is commonly estimated by counting the number of elementary operations performed by the algorithm, supposing that each elementary operation takes a fixed amount of time to perform. \n",
    "\n",
    "* O(1):Get the value from dictionary given the key\n"
   ]
  },
  {
   "cell_type": "markdown",
   "metadata": {
    "slideshow": {
     "slide_type": "notes"
    }
   },
   "source": [
    "**Example on How to calculate time complexity will be included in next section with linear search.**"
   ]
  },
  {
   "cell_type": "markdown",
   "metadata": {
    "slideshow": {
     "slide_type": "slide"
    }
   },
   "source": [
    "<a id = \"5\"></a>\n",
    "# Searching Algorithm"
   ]
  },
  {
   "cell_type": "markdown",
   "metadata": {
    "slideshow": {
     "slide_type": "subslide"
    }
   },
   "source": [
    "* **Searching**:\n",
    "    * A process of finding a particular data item (or a group of data items) within a sequence-based collection based on certain criteria\n",
    "    * Search criteria are defined by some form of search key\n",
    "    * Primitive data types: a single key value\n",
    "    * Complex data types: a number of attributes\n",
    "    \n",
    "* **Basic algorithms**:\n",
    "    * Linear Search\n",
    "    * Binary Search\n",
    "\n"
   ]
  },
  {
   "cell_type": "markdown",
   "metadata": {
    "slideshow": {
     "slide_type": "subslide"
    }
   },
   "source": [
    "## Linear Search"
   ]
  },
  {
   "cell_type": "markdown",
   "metadata": {
    "slideshow": {
     "slide_type": "fragment"
    }
   },
   "source": [
    "* **Basic concept**:\n",
    "    * Begin with the <font color=blue>first item</font> in the <font color=blue>collection</font> (e.g. a list)\n",
    "    * <font color=blue>Each item</font> is <font color=blue>compared</font> with the “<font color=blue>target</font>” item in turn until:\n",
    "        * The “<font color=blue>target</font>” item is found; or\n",
    "        * The end of the <font color=blue>collection</font> is reached (i.e. the “<font color=blue>target</font>” item does not exist)\n",
    "        \n",
    " <img src=\"basic_concept.png\">"
   ]
  },
  {
   "cell_type": "markdown",
   "metadata": {
    "slideshow": {
     "slide_type": "subslide"
    }
   },
   "source": [
    "### Linear Search Implementation"
   ]
  },
  {
   "cell_type": "code",
   "execution_count": 2,
   "metadata": {
    "ExecuteTime": {
     "end_time": "2020-09-29T10:49:31.934148Z",
     "start_time": "2020-09-29T10:49:31.931175Z"
    },
    "slideshow": {
     "slide_type": "fragment"
    }
   },
   "outputs": [],
   "source": [
    "# defining function for linear search, which accepts \n",
    "# the list of numbers and target item.\n",
    "def linear_search(the_list, target_item):\n",
    "    \n",
    "    # obtain the length of the_list\n",
    "    n = len(the_list)\n",
    "    \n",
    "    for i in range(n):\n",
    "        # if the target is found\n",
    "        if the_list[i] == target_item:\n",
    "            return True\n",
    "\n",
    "    # search through the list\n",
    "    # the target is not found\n",
    "    return False"
   ]
  },
  {
   "cell_type": "code",
   "execution_count": 3,
   "metadata": {
    "ExecuteTime": {
     "end_time": "2020-09-29T10:49:31.948357Z",
     "start_time": "2020-09-29T10:49:31.938627Z"
    },
    "slideshow": {
     "slide_type": "fragment"
    }
   },
   "outputs": [
    {
     "name": "stdout",
     "output_type": "stream",
     "text": [
      "True\n",
      "False\n"
     ]
    }
   ],
   "source": [
    "char_list = ['p', 'y', 't', 'h', 'o', 'n']\n",
    "result = linear_search(char_list, 't')\n",
    "print(result)\n",
    "result = linear_search(char_list, 'T')\n",
    "print(result)"
   ]
  },
  {
   "cell_type": "markdown",
   "metadata": {
    "ExecuteTime": {
     "end_time": "2020-09-29T01:43:10.849056Z",
     "start_time": "2020-09-29T01:43:10.847324Z"
    },
    "slideshow": {
     "slide_type": "subslide"
    }
   },
   "source": [
    "### Calculate Time Complexity"
   ]
  },
  {
   "cell_type": "markdown",
   "metadata": {
    "ExecuteTime": {
     "end_time": "2020-09-29T01:43:34.185074Z",
     "start_time": "2020-09-29T01:43:34.182405Z"
    },
    "slideshow": {
     "slide_type": "fragment"
    }
   },
   "source": [
    "* What’s the operation count for <font color=blue>linear search</font>([1,2,3],1)?\n",
    "\n",
    "<img src=\"linear_complexity_1.png\">"
   ]
  },
  {
   "cell_type": "markdown",
   "metadata": {
    "slideshow": {
     "slide_type": "subslide"
    }
   },
   "source": [
    "* What’s the operation count for <font color=blue>linear search</font>([1,2,3,4,5,6],1)?\n"
   ]
  },
  {
   "cell_type": "markdown",
   "metadata": {
    "slideshow": {
     "slide_type": "fragment"
    }
   },
   "source": [
    "* Both counts are 4, so even if we <font color=blue>double</font> the <font color=blue>input</font> the count <font color=blue>does not</font> change.\n",
    "* This implies the <font color=blue>best case, constant time</font>."
   ]
  },
  {
   "cell_type": "markdown",
   "metadata": {
    "slideshow": {
     "slide_type": "subslide"
    }
   },
   "source": [
    "* How about <font color=blue>linear search</font>([1,2,3],10) and <font color=blue>linear search</font>([1,2,3,4,5,6],10)?"
   ]
  },
  {
   "cell_type": "markdown",
   "metadata": {
    "slideshow": {
     "slide_type": "fragment"
    }
   },
   "source": [
    "* The count for <font color=blue>linear search</font>([1,2,3],10) should be 8\n",
    "* The count for <font color=blue>linear search</font>([1,2,3,4,5,6], 10) should be 14 \n",
    "\n",
    "* The counts can be rough, but if we examine just the loop counts, we get 6 and 12.\n",
    "* This implies a linear relationship:\n",
    "\n",
    "|Input|Count|\n",
    "|-----|-----|\n",
    "| N | C |\n",
    "| 2N | 2C |\n"
   ]
  },
  {
   "cell_type": "markdown",
   "metadata": {
    "slideshow": {
     "slide_type": "subslide"
    }
   },
   "source": [
    "* **Best case**: minimum running time over all possible inputs of a given size \n",
    "    * Constant for linear_search\n",
    "    * First element in any list\n",
    "\n",
    "* **Worst case**: maximum running time over all possible inputs of a given size\n",
    "    * Linear in length of list for linear_search\n",
    "    * Must search entire list and not find it\n",
    "    \n",
    "**Note**:\n",
    "* Focus on Worst case always."
   ]
  },
  {
   "cell_type": "markdown",
   "metadata": {
    "slideshow": {
     "slide_type": "subslide"
    }
   },
   "source": [
    "### Time Complexity (Continue)"
   ]
  },
  {
   "cell_type": "markdown",
   "metadata": {
    "slideshow": {
     "slide_type": "fragment"
    }
   },
   "source": [
    "* Big O notation measures an upper bound of the asymptotic growth, often called order of growth.\n",
    "    * Big O is NOT a measure of time itself, It descibe how time grows based on the size of the input (usually denoted by as **n**).\n",
    "\n",
    "* Big O notations:\n",
    "    * O(1): Constant time\n",
    "    * O(n): Linear time\n",
    "    * O(n^2): Quadractic time\n",
    "    * O(log(n)): Logarithmic time\n",
    "    * ....\n",
    "    \n",
    "    \n",
    "Read more about:<a herf=\"https://en.wikipedia.org/wiki/Time_complexity\">Time Complexity</a>"
   ]
  },
  {
   "cell_type": "markdown",
   "metadata": {
    "slideshow": {
     "slide_type": "subslide"
    }
   },
   "source": [
    "### Growth Graph for time complexity\n",
    "\n",
    "<img src=\"gg_time_comp.png\">"
   ]
  },
  {
   "cell_type": "markdown",
   "metadata": {
    "slideshow": {
     "slide_type": "subslide"
    }
   },
   "source": [
    "### Time Complexity for Linear search\n",
    "\n",
    "* What is Time Complexity for Linear Search?"
   ]
  },
  {
   "cell_type": "markdown",
   "metadata": {
    "slideshow": {
     "slide_type": "fragment"
    }
   },
   "source": [
    "<img src=\"TC_linear.png\">\n",
    "\n",
    "\n",
    "* 2N + 2 -> O(n)\n",
    "    * **focus on dominating term**.\n",
    "* n^2 + n + 1 -> O(n^2)\n",
    "* log(n) + n + a -> O(n)"
   ]
  },
  {
   "cell_type": "markdown",
   "metadata": {
    "slideshow": {
     "slide_type": "subslide"
    }
   },
   "source": [
    "### Time Complexity (To remember)"
   ]
  },
  {
   "cell_type": "markdown",
   "metadata": {
    "slideshow": {
     "slide_type": "fragment"
    }
   },
   "source": [
    "* Complexity is <font color=blue>difficult</font> if <font color=blue>not practised</font>.\n",
    "* Often the <font color=blue>best way</font> to <font color=blue>calculate complexity</font> is the <font color=blue>amount</font> of <font color=blue>actions taken</font>.\n",
    "* Each <font color=blue>computational</font> step counts as <font color=blue>1</font>.\n",
    "* **By changing the size of the input, changes in the count present a suggested complexity**."
   ]
  },
  {
   "cell_type": "markdown",
   "metadata": {
    "slideshow": {
     "slide_type": "subslide"
    }
   },
   "source": [
    "## Binary Search"
   ]
  },
  {
   "cell_type": "markdown",
   "metadata": {
    "slideshow": {
     "slide_type": "subslide"
    }
   },
   "source": [
    "### Shortcoming of linear search\n",
    "\n",
    "* Inefficient performance\n",
    "    * Given a list (n) of items and a query value\n",
    "    * Best case: 1 operation\n",
    "    * Worst case: n operations\n",
    "\n",
    "* Whenever we say just O(n), that is saying the worst case"
   ]
  },
  {
   "cell_type": "markdown",
   "metadata": {
    "slideshow": {
     "slide_type": "subslide"
    }
   },
   "source": [
    "* **Basic concept**:\n",
    "    * Begin by **choosing an item that divides the collection (the list) into two halves**\n",
    "    * The “middle” item is compared with the “target” item\n",
    "    * Three possible conditions:\n",
    "        * **The “middle” item is the “target” item**\n",
    "        * **The “target” item is less than the “middle” item**\n",
    "        * **The “target” item is greater than the “middle” item**\n",
    "    * If the “target” item <  the “middle” item:\n",
    "        * Search the lower half (excluding the “middle” item)\n",
    "    * If the “target” item >  the “middle” item:\n",
    "        * Search the upper half (excluding the “middle” item)\n"
   ]
  },
  {
   "cell_type": "markdown",
   "metadata": {
    "slideshow": {
     "slide_type": "subslide"
    }
   },
   "source": [
    "### (More on) Binary Search\n",
    "\n",
    "<img src=\"BS_1.png\">"
   ]
  },
  {
   "cell_type": "markdown",
   "metadata": {
    "slideshow": {
     "slide_type": "subslide"
    }
   },
   "source": [
    "### (More on) Binary Search\n",
    "\n",
    "<img src=\"BS_2.png\">"
   ]
  },
  {
   "cell_type": "markdown",
   "metadata": {
    "slideshow": {
     "slide_type": "subslide"
    }
   },
   "source": [
    "### Binary Search Implementation"
   ]
  },
  {
   "cell_type": "code",
   "execution_count": 4,
   "metadata": {
    "ExecuteTime": {
     "end_time": "2020-09-29T10:49:38.808114Z",
     "start_time": "2020-09-29T10:49:38.804818Z"
    },
    "slideshow": {
     "slide_type": "fragment"
    }
   },
   "outputs": [],
   "source": [
    "def binary_search(the_list, target_item):\n",
    "    low = 0\n",
    "    high = len(the_list)-1\n",
    "\n",
    "    # repeatedly divide the list in half\n",
    "    # as long as the target item is not found\n",
    "    while low <= high:\n",
    "\n",
    "        # find the mid position\n",
    "        mid = (low + high) // 2\n",
    "\n",
    "        if the_list[mid] == target_item:\n",
    "            return True\n",
    "        elif target_item < the_list[mid]:\n",
    "            high = mid - 1 # search lower half\n",
    "        else:\n",
    "            low = mid + 1  # search upper half\n",
    "\n",
    "    # the list cannot be further divided\n",
    "    # the target is not found\n",
    "    return False"
   ]
  },
  {
   "cell_type": "markdown",
   "metadata": {
    "slideshow": {
     "slide_type": "subslide"
    }
   },
   "source": [
    "### Binary Search (Continue)\n",
    "\n",
    "* **Why is the complexity O(log n)?**\n",
    "    * Take a list of 10 items.\n",
    "        * Search for something that isn’t in the list, how many probes take place?\n",
    "    * Double the size to 20.\n",
    "        * How many probes now?\n",
    "    * You should find that for a list of 10 there is at most 4 checks, and for a list of 20 there are 5."
   ]
  },
  {
   "cell_type": "markdown",
   "metadata": {
    "slideshow": {
     "slide_type": "subslide"
    }
   },
   "source": [
    "### Binary Search (Continue)\n",
    "\n",
    "| N | Count of Prob |\n",
    "|----|----|\n",
    "| 1 | 1 |\n",
    "| 2 | 2 |\n",
    "| 4 | 3 |\n",
    "| 8 | 4 |\n",
    "| 16 | 5 |\n",
    "| 32 | 6 |\n",
    "\n",
    "\n",
    "* Plot this and see what kind of graph you get.\n",
    "\n",
    "* The growth of the number of probes does so logarithmically, thus, binary search has a complexity of O(log n)\n"
   ]
  },
  {
   "cell_type": "code",
   "execution_count": 5,
   "metadata": {
    "ExecuteTime": {
     "end_time": "2020-09-29T10:49:39.675421Z",
     "start_time": "2020-09-29T10:49:39.532392Z"
    },
    "slideshow": {
     "slide_type": "subslide"
    }
   },
   "outputs": [
    {
     "data": {
      "image/png": "[encoded data removed]",
      "text/plain": [
       "<Figure size 432x288 with 1 Axes>"
      ]
     },
     "metadata": {},
     "output_type": "display_data"
    }
   ],
   "source": [
    "# importing mathplotlib library (will learn next week)\n",
    "import matplotlib.pyplot as plt\n",
    "\n",
    "# define variable N & count of prob.\n",
    "N = [1,2,4,8,16,32]\n",
    "count_of_prob = [1,2,3,4,5,6]\n",
    "\n",
    "# plot function will plot the graph\n",
    "plt.plot(N, count_of_prob)\n",
    "# xlabel will label to X-axis\n",
    "plt.xlabel(\"Value of N\")\n",
    "# ylabel() will label to Y-axis\n",
    "plt.ylabel(\"Count of Prob\")\n",
    "# title() will title to graph/plot\n",
    "plt.title(\"Plot of N (input) V/S Count of Probs\")\n",
    "# show() will show all parts of the graph\n",
    "plt.show()"
   ]
  },
  {
   "cell_type": "markdown",
   "metadata": {
    "slideshow": {
     "slide_type": "slide"
    }
   },
   "source": [
    "<a id = \"6\"></a>\n",
    "# Sorting Algorithm"
   ]
  },
  {
   "cell_type": "markdown",
   "metadata": {
    "slideshow": {
     "slide_type": "subslide"
    }
   },
   "source": [
    "* **Sorting**:\n",
    "    * A process of <font color=blue>re-ordering or re-arranging data items</font> within a collection based on certain characteristics/attributes\n",
    "    * Reordering is based on some form of <font color=blue>sort key</font>\n",
    "    * Primitive data types: a single key value\n",
    "    * Complex data types: a number of attributes\n",
    "    * Performance is measured by the total numbers of <font color=blue>comparison</font> and <font color=blue>re-ordering (or swapping)</font> involved\n",
    "\n",
    "* **Basic algorithms**:\n",
    "    * Bubble Sort\n",
    "    * Selection Sort\n",
    "    * Insertion Sort\n"
   ]
  },
  {
   "cell_type": "markdown",
   "metadata": {
    "slideshow": {
     "slide_type": "subslide"
    }
   },
   "source": [
    "## Bubble Sort"
   ]
  },
  {
   "cell_type": "markdown",
   "metadata": {
    "slideshow": {
     "slide_type": "subslide"
    }
   },
   "source": [
    "* **Basic concept**:\n",
    "    * “<font color=blue>Bubble up</font>” larger items to the “<font color=blue>top</font>” or the end of the collection\n",
    "    * “<font color=blue>Sink down</font>” smaller items to the “<font color=blue>bottom</font>” or the front of the collection\n",
    "    * Every adjacent pair of items is compared; if out of order, swap them\n",
    "    * Completing one iteration of traversing the entire collection, the next largest item will be in place\n",
    "    * <font color=blue>n-1</font> iterations are required for n items in the collection \n",
    "\n",
    "* **Limitation**:\n",
    "    * If the collection is in a completely reverse order, the total number of swaps can be expensive (worst case)\n"
   ]
  },
  {
   "cell_type": "markdown",
   "metadata": {
    "slideshow": {
     "slide_type": "subslide"
    }
   },
   "source": [
    "### Buble sort Example:\n",
    "\n",
    "<img src=\"BS_eg.png\">"
   ]
  },
  {
   "cell_type": "markdown",
   "metadata": {
    "slideshow": {
     "slide_type": "subslide"
    }
   },
   "source": [
    "### Buble Sort Implementation"
   ]
  },
  {
   "cell_type": "code",
   "execution_count": 6,
   "metadata": {
    "ExecuteTime": {
     "end_time": "2020-09-29T10:49:41.729573Z",
     "start_time": "2020-09-29T10:49:41.726891Z"
    },
    "slideshow": {
     "slide_type": "fragment"
    }
   },
   "outputs": [],
   "source": [
    "# Bubble Sort implementation\n",
    "def bubble_sort(the_list):\n",
    "    # obtain the length of the list\n",
    "    n = len(the_list)\n",
    "    # perform n-1 iterations\n",
    "    for i in range(n-1, 0, -1):\n",
    "        # for each iteration\n",
    "        # move the next largest item to the end\n",
    "        for j in range(i):\n",
    "            # swap if two adjacent items are\n",
    "            # out of order\n",
    "            if the_list[j] > the_list[j+1]:\n",
    "                temp = the_list[j]\n",
    "                the_list[j] = the_list[j+1]\n",
    "                the_list[j+1] = temp\n",
    "                \n",
    "    return the_list"
   ]
  },
  {
   "cell_type": "markdown",
   "metadata": {
    "slideshow": {
     "slide_type": "skip"
    }
   },
   "source": [
    "### The functionality of the program\n",
    "\n",
    "* https://covid-19-au.com\n",
    "    * 200 volunteers (30+ super active ones) for 2 months\n",
    "    * LOC: 14.3K JS, 1.1K HTML, 1.3K CSS, 0.3K Python after hundreds of iterations\n",
    "    * https://github.com/covid-19-au/covid-19-au.github.io\n",
    "\n",
    "<img src=\"covid.png\">"
   ]
  },
  {
   "cell_type": "markdown",
   "metadata": {
    "slideshow": {
     "slide_type": "skip"
    }
   },
   "source": [
    "### The functionality of the program (continue)\n",
    "\n",
    "* “Wrong death number”!\n",
    "* “Have a case marked on our farm…We do not have corona virus so PLEASE REMOVE ”\n",
    "* “Super slow loading”\n",
    "* “Cannot open”\n",
    "\n",
    "<img src=\"covid_1.png\">"
   ]
  },
  {
   "cell_type": "markdown",
   "metadata": {
    "slideshow": {
     "slide_type": "skip"
    }
   },
   "source": [
    "### The functionality of the program (continue)\n",
    "\n",
    "* My experience about bugs\n",
    "    * Research paper rejected during research.\n",
    "    * Warning from my managers during industry intern.\n",
    "    * Complains from students.\n",
    "\n",
    "* Lessons:\n",
    "    * One slim error leads to severe consequences!\n",
    "    * No chance to explain. \n",
    "    * Understand your users, rather than asking users to understand you.\n",
    "    * Test your code!!!"
   ]
  },
  {
   "cell_type": "markdown",
   "metadata": {
    "slideshow": {
     "slide_type": "subslide"
    }
   },
   "source": [
    "### Visual Demo of Bubble sort.\n",
    "\n",
    "https://visualgo.net/en/sorting"
   ]
  },
  {
   "cell_type": "markdown",
   "metadata": {
    "slideshow": {
     "slide_type": "subslide"
    }
   },
   "source": [
    "## Selection Sort\n",
    "\n",
    "* **Basic concept**:\n",
    "    * Find the next <font color=blue>smallest (or the largest)</font> item in each iteration\n",
    "    * Place the <font color=blue>smallest (or the largest)</font> item at the <font color=blue>correct position</font> at the <font color=blue>end</font> of <font color=blue>each iteration</font>\n",
    "    * Only <font color=blue>one swap</font> is required at the end of <font color=blue>each iteration</font>\n",
    "    * <font color=blue>n-1</font> iterations are required for <font color=blue>n</font> items in the collection\n"
   ]
  },
  {
   "cell_type": "markdown",
   "metadata": {
    "slideshow": {
     "slide_type": "subslide"
    }
   },
   "source": [
    "### Selection Sort Example\n",
    "\n",
    "<img src=\"SS_eg.png\">"
   ]
  },
  {
   "cell_type": "markdown",
   "metadata": {
    "slideshow": {
     "slide_type": "subslide"
    }
   },
   "source": [
    "### Selection Sort Implemenation"
   ]
  },
  {
   "cell_type": "code",
   "execution_count": 7,
   "metadata": {
    "ExecuteTime": {
     "end_time": "2020-09-29T10:49:44.252247Z",
     "start_time": "2020-09-29T10:49:44.249336Z"
    },
    "slideshow": {
     "slide_type": "fragment"
    }
   },
   "outputs": [],
   "source": [
    "# Selection Sort Implementation\n",
    "def selection_sort(the_list):\n",
    "\n",
    "    # obtain the length of the list\n",
    "    n = len(the_list)\n",
    "    # perform n-1 iterations\n",
    "    for i in range(n-1):\n",
    "        # assume item at index i as the smallest\n",
    "        smallest = i\n",
    "        # check if any other item is smaller\n",
    "        for j in range(i+1, n):\n",
    "            if the_list[j] < the_list[smallest]:\n",
    "                # update the current smallest item\n",
    "                smallest = j\n",
    "\n",
    "        # place the current smallest item\n",
    "        # in its correct position\n",
    "        the_list[smallest], the_list[i] = the_list[i], the_list[smallest]\n",
    "    \n",
    "    return the_list"
   ]
  },
  {
   "cell_type": "markdown",
   "metadata": {
    "slideshow": {
     "slide_type": "subslide"
    }
   },
   "source": [
    "### Characteristics of Selction Sort:\n",
    "\n",
    "* **Comparison with Bubble Sort**:\n",
    "    * Total number of comparisons is the same\n",
    "    * Total number of swaps is reduced to only one in each iteration\n",
    "    * Slightly more efficient than Bubble Sort\n",
    "\n",
    "* **Time complexity**:\n",
    "    * O(𝑛^2)"
   ]
  },
  {
   "cell_type": "markdown",
   "metadata": {
    "slideshow": {
     "slide_type": "subslide"
    }
   },
   "source": [
    "### Visual Demo of Selection sort.\n",
    "\n",
    "https://visualgo.net/en/sorting"
   ]
  },
  {
   "cell_type": "markdown",
   "metadata": {
    "slideshow": {
     "slide_type": "slide"
    }
   },
   "source": [
    "## Insertion Sort"
   ]
  },
  {
   "cell_type": "markdown",
   "metadata": {
    "slideshow": {
     "slide_type": "subslide"
    }
   },
   "source": [
    "* **Basic concept**:\n",
    "    * Maintain <font color=blue>two sublists</font> for the collection to be sorted\n",
    "    * Pick each of the items from the “<font color=blue>unsorted</font>” sublist\n",
    "    * Insert each of these items into the correct position within the “<font color=blue>sorted</font>” sublist\n",
    "    * <font color=blue>Shifting (re-ordering)</font> is needed to make “<font color=blue>space</font>” for insertion\n"
   ]
  },
  {
   "cell_type": "markdown",
   "metadata": {
    "slideshow": {
     "slide_type": "subslide"
    }
   },
   "source": [
    "### Insertion Sort Example\n",
    "\n",
    "<img src=\"IS_eg.png\">"
   ]
  },
  {
   "cell_type": "markdown",
   "metadata": {
    "ExecuteTime": {
     "end_time": "2020-09-29T08:40:22.219334Z",
     "start_time": "2020-09-29T08:40:22.217404Z"
    },
    "slideshow": {
     "slide_type": "subslide"
    }
   },
   "source": [
    "### Insertion Sort Implementation"
   ]
  },
  {
   "cell_type": "code",
   "execution_count": 8,
   "metadata": {
    "ExecuteTime": {
     "end_time": "2020-09-29T10:49:46.364883Z",
     "start_time": "2020-09-29T10:49:46.362197Z"
    },
    "slideshow": {
     "slide_type": "fragment"
    }
   },
   "outputs": [],
   "source": [
    "# Insertion Sort Implementation\n",
    "def insertion_sort(the_list):\n",
    "\n",
    "    # obtain the length of the list\n",
    "    n = len(the_list)\n",
    "\n",
    "    # begin with the first item in the list\n",
    "    # assume as the only item in the sorted sublist\n",
    "    for i in range(1, n):\n",
    "        # indicate the current item to be positioned\n",
    "        current = the_list[i]\n",
    "        # find the correct position where the current\n",
    "        # item should be placed in the sorted sublist\n",
    "        pos = i\n",
    "        while pos > 0 and the_list[pos-1] > current:\n",
    "            # shift items in the sorted sublist\n",
    "            # for those larger than the current item\n",
    "            the_list[pos] = the_list[pos-1]\n",
    "            pos -= 1\n",
    "        # place the current item in its correct position\n",
    "        the_list[pos] = current\n",
    "        \n",
    "    return the_list"
   ]
  },
  {
   "cell_type": "markdown",
   "metadata": {
    "slideshow": {
     "slide_type": "subslide"
    }
   },
   "source": [
    "### Characteristics of Insertion Sort:\n",
    "\n",
    "* **Comparison with Bubble Sort & Selection Sort**:\n",
    "    * **Total number of comparisons & reordering could be reduced in particular if the collection is almost sorted**.\n",
    "    * If the collection is already sorted, only n-1 times comparison is required & no re-ordering is needed.\n",
    "\n",
    "* **Time complexity**:\n",
    "    * O(𝑛^2)"
   ]
  },
  {
   "cell_type": "markdown",
   "metadata": {
    "slideshow": {
     "slide_type": "slide"
    }
   },
   "source": [
    "<a id = \"7\"></a>\n",
    "# Summary"
   ]
  },
  {
   "cell_type": "markdown",
   "metadata": {
    "slideshow": {
     "slide_type": "subslide"
    }
   },
   "source": [
    "## Time Complexity\n",
    "\n",
    "* **Best Case**: \n",
    "    * Minimum running time over all possible inputs of a given size\n",
    "* **Worst Case**: \n",
    "    * Maximum running time over all possible inputs of a given size\n",
    "* **Big O notation**: \n",
    "    * it is NOT a measure of time itself, It descibe how time grows based on the size of the input (usually denoted by as n)."
   ]
  },
  {
   "cell_type": "markdown",
   "metadata": {},
   "source": [
    "## Searching\n",
    "\n",
    "A process of finding a particular data item (or a group of data items) within a sequence-based collection based on certain criteria\n",
    "\n",
    "* **Linear Search**:\n",
    "    * It is a method for finding an element within a list. It sequentially checks each element of the list until a match is found or the whole list has been searched.\n",
    "* **Binary Search**:\n",
    "    * It is an efficient algorithm for finding an item from a sorted list of items. It works by repeatedly dividing in half the portion of the list that could contain the item, until you've narrowed down the possible locations to just one."
   ]
  },
  {
   "cell_type": "markdown",
   "metadata": {},
   "source": [
    "## Sorting\n",
    "\n",
    "A process of re-ordering or re-arranging data items within a collection based on certain characteristics/attributes\n",
    "\n",
    "\n",
    "* **Bubble Sort**:\n",
    "    * It is a simple sorting algorithm that repeatedly steps through the list, compares adjacent elements and swaps them if they are in the wrong order. The pass through the list is repeated until the list is sorted.\n",
    "* **Selection Sort**:\n",
    "    * It is an in-place comparison sorting algorithm, which sorts an array by repeatedly finding the minimum element.\n",
    "* **Insertion Sort**:\n",
    "    * It is a simple sorting algorithm that builds the final sorted array (or list) one item at a time."
   ]
  },
  {
   "cell_type": "markdown",
   "metadata": {
    "slideshow": {
     "slide_type": "slide"
    }
   },
   "source": [
    "<a id = \"8\"></a>\n",
    "# Practise Question"
   ]
  },
  {
   "cell_type": "markdown",
   "metadata": {
    "slideshow": {
     "slide_type": "subslide"
    }
   },
   "source": [
    "## Question 1:\n",
    "\n",
    "* A stable sorting algorithm preserves the relative order of elements with the same value. Is Selection Sort stable?"
   ]
  },
  {
   "cell_type": "code",
   "execution_count": 9,
   "metadata": {
    "ExecuteTime": {
     "end_time": "2020-09-29T10:49:48.854959Z",
     "start_time": "2020-09-29T10:49:48.852278Z"
    },
    "slideshow": {
     "slide_type": "fragment"
    }
   },
   "outputs": [],
   "source": [
    "def selection_sort(the_list):\n",
    "    n = len(the_list)\n",
    "    for i in range(n-1):\n",
    "        smallest = i\n",
    "        \n",
    "        for j in range(i+1, n):\n",
    "            if the_list[j] < the_list[smallest]:\n",
    "                smallest = j\n",
    "                \n",
    "        the_list[smallest], the_list[i] = the_list[i], the_list[smallest]\n",
    "    return the_list"
   ]
  },
  {
   "cell_type": "markdown",
   "metadata": {
    "slideshow": {
     "slide_type": "fragment"
    }
   },
   "source": [
    "    A. Yes\n",
    "    B. No\n",
    "    C. Not sure"
   ]
  },
  {
   "cell_type": "markdown",
   "metadata": {
    "slideshow": {
     "slide_type": "subslide"
    }
   },
   "source": [
    "## Question 2:\n",
    "\n",
    "* Would Insertion Sort be more efficient compare to Bubble Sort and Selection Sort if the given list is in the total reverse order?"
   ]
  },
  {
   "cell_type": "code",
   "execution_count": 10,
   "metadata": {
    "ExecuteTime": {
     "end_time": "2020-09-29T10:49:49.587522Z",
     "start_time": "2020-09-29T10:49:49.584967Z"
    },
    "slideshow": {
     "slide_type": "fragment"
    }
   },
   "outputs": [],
   "source": [
    "def insertion_sort(the_list):\n",
    "    n = len(the_list)\n",
    "\n",
    "    for i in range(1, n):\n",
    "        current = the_list[i]\n",
    "        pos = i\n",
    "        while pos > 0 and the_list[pos-1] > current:\n",
    "            the_list[pos] = the_list[pos-1]\n",
    "            pos -= 1\n",
    "\n",
    "        the_list[pos] = current\n",
    "        \n",
    "    return the_list"
   ]
  },
  {
   "cell_type": "markdown",
   "metadata": {
    "slideshow": {
     "slide_type": "fragment"
    }
   },
   "source": [
    "    A. Yes\n",
    "    B. No\n",
    "    C. Not sure"
   ]
  }
 ],
 "metadata": {
  "celltoolbar": "Slideshow",
  "kernelspec": {
   "display_name": "Python 3",
   "language": "python",
   "name": "python3"
  },
  "language_info": {
   "codemirror_mode": {
    "name": "ipython",
    "version": 3
   },
   "file_extension": ".py",
   "mimetype": "text/x-python",
   "name": "python",
   "nbconvert_exporter": "python",
   "pygments_lexer": "ipython3",
   "version": "3.7.7"
  },
  "latex_envs": {
   "LaTeX_envs_menu_present": true,
   "autoclose": false,
   "autocomplete": true,
   "bibliofile": "biblio.bib",
   "cite_by": "apalike",
   "current_citInitial": 1,
   "eqLabelWithNumbers": true,
   "eqNumInitial": 1,
   "hotkeys": {
    "equation": "Ctrl-E",
    "itemize": "Ctrl-I"
   },
   "labels_anchors": false,
   "latex_user_defs": false,
   "report_style_numbering": false,
   "user_envs_cfg": false
  },
  "toc": {
   "base_numbering": 1,
   "nav_menu": {},
   "number_sections": true,
   "sideBar": true,
   "skip_h1_title": false,
   "title_cell": "Table of Contents",
   "title_sidebar": "Contents",
   "toc_cell": false,
   "toc_position": {},
   "toc_section_display": true,
   "toc_window_display": false
  },
  "varInspector": {
   "cols": {
    "lenName": 16,
    "lenType": 16,
    "lenVar": 40
   },
   "kernels_config": {
    "python": {
     "delete_cmd_postfix": "",
     "delete_cmd_prefix": "del ",
     "library": "var_list.py",
     "varRefreshCmd": "print(var_dic_list())"
    },
    "r": {
     "delete_cmd_postfix": ") ",
     "delete_cmd_prefix": "rm(",
     "library": "var_list.r",
     "varRefreshCmd": "cat(var_dic_list()) "
    }
   },
   "types_to_exclude": [
    "module",
    "function",
    "builtin_function_or_method",
    "instance",
    "_Feature"
   ],
   "window_display": false
  }
 },
 "nbformat": 4,
 "nbformat_minor": 4
}
