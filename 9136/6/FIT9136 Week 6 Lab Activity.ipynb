{
 "cells": [
  {
   "cell_type": "markdown",
   "metadata": {},
   "source": [
    "# FIT9136 Week 6 Lab\n",
    "\n",
    "Author: Deep\n",
    "<br>\n",
    "Date (of creation): 22/08/20\n",
    "<br>\n",
    "Version: Student"
   ]
  },
  {
   "cell_type": "markdown",
   "metadata": {},
   "source": [
    "# Agenda\n",
    "\n",
    "* Revision\n",
    "**************************\n",
    "* Which ADT to use ?\n",
    "* Create a max-heap \n",
    "**************************\n",
    "* Infix to postfix conversion using Stack\n",
    "* Heap Tree Implementation\n",
    "**************************\n",
    "* Homework\n",
    "    * Key Difference between List, Stack, & Queue ?\n",
    "    * Is it possible to create either of these Abstract Data Types (ADTs) using a Python Dictionary? Please Discuss. \n",
    "    * Implement Stack using 2 Queue"
   ]
  },
  {
   "cell_type": "markdown",
   "metadata": {
    "heading_collapsed": true
   },
   "source": [
    "## Revision"
   ]
  },
  {
   "cell_type": "markdown",
   "metadata": {
    "heading_collapsed": true,
    "hidden": true
   },
   "source": [
    "### What is Stack?\n",
    "* An ordered collection where data items are accessed based on <font color=blue>LIFO (Last-In-First-Out)</font>\n",
    "* **Adding new items and removing existing items happened at the “top” of the stack**\n",
    "* Useful for reversing the order of items within a collection"
   ]
  },
  {
   "cell_type": "code",
   "execution_count": 1,
   "metadata": {
    "hidden": true
   },
   "outputs": [],
   "source": [
    "# Slack Implementation\n",
    "# create a class stack\n",
    "class Stack:\n",
    "    # create a constructor to initialize the stack & count variable\n",
    "    def __init__(self):\n",
    "        self.the_stack = []\n",
    "        self.count = 0\n",
    "    \n",
    "    # overload len method to get the siz/count of the stack\n",
    "    def __len__(self):\n",
    "        return self.count\n",
    "\n",
    "    # is_empty method checks if stack is empty or not\n",
    "    def is_empty(self):\n",
    "        return self.count == 0\n",
    "    \n",
    "    # push method push the item into stack\n",
    "    def push(self,item):\n",
    "        self.the_stack.append(item)\n",
    "        self.count += 1\n",
    "\n",
    "    # pop method pops out the item from top of the stack\n",
    "    def pop(self):\n",
    "        assert not self.is_empty()\n",
    "        self.count -= 1\n",
    "        return self.the_stack.pop()\n",
    "    # peek method helps us to look inside the values of stack\n",
    "    def peek(self):\n",
    "        assert not self.is_empty()\n",
    "        return self.the_stack[-1]"
   ]
  },
  {
   "cell_type": "markdown",
   "metadata": {
    "heading_collapsed": true,
    "hidden": true
   },
   "source": [
    "### What is Queue?\n",
    "* An ordered collection where data items are accessed based on <font color=blue>FIFO (First-In-First-Out)</font>\n",
    "* **Adding new items at the “rear” of the queue (i.e. enqueue)**\n",
    "* **Removing existing items at the “head” of the queue (i.e. dequeue)**\n",
    "* Useful for demonstrating a queuing system (strictly no jumping the queue)"
   ]
  },
  {
   "cell_type": "code",
   "execution_count": 15,
   "metadata": {
    "hidden": true
   },
   "outputs": [],
   "source": [
    "# Queue Implementation\n",
    "# create a class Queue\n",
    "class Queue:\n",
    "    # create constructor to define the queue and count variable\n",
    "    def __init__(self):\n",
    "        self.the_queue = []\n",
    "        self.count = 0\n",
    "        \n",
    "    # Overload len method so that we can count/size of the queue\n",
    "    def __len__(self):\n",
    "        return self.count\n",
    "    \n",
    "    # is_empty methods check if queue is empty or not\n",
    "    def is_empty(self):\n",
    "        return self.count == 0\n",
    "    \n",
    "    # append method added item to the queue\n",
    "    def append(self,item):\n",
    "        self.the_queue.append(item)\n",
    "        self.count += 1\n",
    "\n",
    "    # serve method remove the item from the queue\n",
    "    def serve(self):\n",
    "        assert not self.is_empty()\n",
    "        self.count -= 1\n",
    "        return self.the_queue.pop(0)\n",
    "\n",
    "    # peek function let us peek/look inside a queue\n",
    "    def peek(self):\n",
    "        assert not self.is_empty()\n",
    "        return self.the_queue[-1]"
   ]
  },
  {
   "cell_type": "markdown",
   "metadata": {
    "heading_collapsed": true,
    "hidden": true
   },
   "source": [
    "### What is Heap?\n",
    "* A **heap** is a specialized tree-based data structure which is essentially an almost complete tree that satisfies the **heap property**: \n",
    "    * In a max heap, \n",
    "        * For any given node C, if P is a parent node of C, then the key (the value) of P is greater than or equal to the key of C. \n",
    "    * In a min heap, \n",
    "        * The key of P is less than or equal to the key of C. \n",
    "* The node at the \"top\" of the heap (with no parents) is called the root node."
   ]
  },
  {
   "cell_type": "markdown",
   "metadata": {
    "heading_collapsed": true
   },
   "source": [
    "## Which ADT to use?"
   ]
  },
  {
   "cell_type": "markdown",
   "metadata": {
    "hidden": true
   },
   "source": [
    "**For the following situations suggest either a Stack, a Queue, a List, or a Heap**:\n",
    "1. Ordering fast food.        Q\n",
    "2. Waiting for fast food to be cooked.       H\n",
    "3. Previous edits to a word document.       S\n",
    "4. Inventory for a warehouse.     S\n",
    "5. Building a car.        Q not quite sure"
   ]
  },
  {
   "cell_type": "markdown",
   "metadata": {
    "heading_collapsed": true
   },
   "source": [
    "##  Max heap - tree"
   ]
  },
  {
   "cell_type": "markdown",
   "metadata": {
    "hidden": true
   },
   "source": [
    "* Create a max-heap using the following items: 5,3,1,9,7,8 \n",
    "    1. Using a tree representation \n",
    "    2. Using an array representation (this is where you need the math) \n"
   ]
  },
  {
   "cell_type": "markdown",
   "metadata": {
    "hidden": true
   },
   "source": [
    "Students to try on paper or use whiteboard in breakout room"
   ]
  },
  {
   "cell_type": "markdown",
   "metadata": {
    "ExecuteTime": {
     "end_time": "2020-09-02T13:18:58.064704Z",
     "start_time": "2020-09-02T13:18:58.062980Z"
    },
    "heading_collapsed": true
   },
   "source": [
    "## Infix to postfix conversion using Stack"
   ]
  },
  {
   "cell_type": "code",
   "execution_count": 40,
   "metadata": {
    "hidden": true
   },
   "outputs": [
    {
     "name": "stdout",
     "output_type": "stream",
     "text": [
      "Enter infix expression1+2*3\n",
      "infix expression:  1+2*3\n",
      "postfix expression:  123*+\n"
     ]
    }
   ],
   "source": [
    "# Create set of operators\n",
    "OPERATORS = set(['+', '-', '*', '/', '(', ')', '^'])  \n",
    "# Create a dictionary having priorities \n",
    "PRIORITY = {'+':1, '-':1, '*':2, '/':2, '^':3} \n",
    "\n",
    "# define a function to take expression as input\n",
    "def infix_to_postfix(expression): \n",
    "    # initially stack empty\n",
    "    stack = [] \n",
    "    # initially output empty\n",
    "    output = '' \n",
    "    \n",
    "    # iterate over each character in expression\n",
    "    for ch in expression:\n",
    "        # if an operand then put it directly in postfix expression\n",
    "        if ch not in OPERATORS:  \n",
    "            output+= ch\n",
    "        # else operators should be put in stack\n",
    "        elif ch =='(':  \n",
    "            stack.append(ch)\n",
    "        elif ch ==')':\n",
    "            # pop out all the things untill \"(\" is found because we found \")\" in expression\n",
    "            while stack and stack[-1]!= '(':\n",
    "                output += stack.pop()\n",
    "            \n",
    "            stack.pop()\n",
    "                \n",
    "        else:\n",
    "            # lesser priority can't be on top on higher or equal priority    \n",
    "             # so pop and put in output   \n",
    "            while stack and stack[-1]!='(' and PRIORITY[ch]<=PRIORITY[stack[-1]]:\n",
    "                output+= stack.pop()\n",
    "                \n",
    "            stack.append(ch)\n",
    "    \n",
    "    # empty the stack: remaining operators\n",
    "    while stack:\n",
    "        output += stack.pop()\n",
    "            \n",
    "    \n",
    "    return output\n",
    "\n",
    "\n",
    "# User inputs the expression:\n",
    "expression = input('Enter infix expression')\n",
    "print('infix expression: ',expression)\n",
    "print('postfix expression: ',infix_to_postfix(expression))"
   ]
  },
  {
   "cell_type": "markdown",
   "metadata": {
    "heading_collapsed": true
   },
   "source": [
    "## Heap Tree Implementation"
   ]
  },
  {
   "cell_type": "code",
   "execution_count": 5,
   "metadata": {},
   "outputs": [],
   "source": [
    "class BinHeap:\n",
    "    def __init__(self):\n",
    "        self.heapList = [0]\n",
    "        self.currentSize = 0\n",
    "    \n",
    "    def percUp(self,i):\n",
    "        while i // 2 > 0:\n",
    "          if self.heapList[i] < self.heapList[i // 2]:\n",
    "             tmp = self.heapList[i // 2]\n",
    "             self.heapList[i // 2] = self.heapList[i]\n",
    "             self.heapList[i] = tmp\n",
    "          i = i // 2\n",
    "        \n",
    "    def insert(self,k):\n",
    "        self.heapList.append(k)\n",
    "        self.currentSize = self.currentSize + 1\n",
    "        self.percUp(self.currentSize)\n",
    "        \n",
    "    def minChild(self,i):\n",
    "        if i * 2 + 1 > self.currentSize:\n",
    "            return i * 2\n",
    "        else:\n",
    "            if self.heapList[i*2] < self.heapList[i*2+1]:\n",
    "                return i * 2\n",
    "            else:\n",
    "                return i * 2 + 1\n",
    "            \n",
    "    def percDown(self,i):\n",
    "        while (i * 2) <= self.currentSize:\n",
    "            mc = self.minChild(i)\n",
    "            if self.heapList[i] > self.heapList[mc]:\n",
    "                tmp = self.heapList[i]\n",
    "                self.heapList[i] = self.heapList[mc]\n",
    "                self.heapList[mc] = tmp\n",
    "            i = mc\n",
    "\n",
    "    def delMin(self):\n",
    "        retval = self.heapList[1]\n",
    "        self.heapList[1] = self.heapList[self.currentSize]\n",
    "        self.currentSize = self.currentSize - 1\n",
    "        self.heapList.pop()\n",
    "        self.percDown(1)\n",
    "        return retval"
   ]
  },
  {
   "cell_type": "code",
   "execution_count": 11,
   "metadata": {},
   "outputs": [],
   "source": [
    "b = BinHeap()\n",
    "b.insert(10)\n",
    "b.insert(8)\n",
    "b.insert(4)\n",
    "b.insert(7)"
   ]
  },
  {
   "cell_type": "code",
   "execution_count": 10,
   "metadata": {},
   "outputs": [
    {
     "data": {
      "text/plain": [
       "10"
      ]
     },
     "execution_count": 10,
     "metadata": {},
     "output_type": "execute_result"
    }
   ],
   "source": [
    "b.delMin()"
   ]
  },
  {
   "cell_type": "code",
   "execution_count": null,
   "metadata": {},
   "outputs": [],
   "source": []
  },
  {
   "cell_type": "code",
   "execution_count": null,
   "metadata": {},
   "outputs": [],
   "source": []
  },
  {
   "cell_type": "code",
   "execution_count": null,
   "metadata": {
    "hidden": true
   },
   "outputs": [],
   "source": [
    "# Create a Heap Class\n",
    "class Heap:\n",
    "    # Create constructor, which initialize the heap with empty list\n",
    "    def __init__(self):\n",
    "        self.the_heap = []\n",
    "    # Overload len method to get the length of heap\n",
    "    def __len__(self):\n",
    "        return len(self.the_heap)\n",
    "    \n",
    "    # Overload print method to see content of heap\n",
    "    def __str__(self):\n",
    "        return str(self.the_heap)\n",
    "    \n",
    "    # add method adds item to the heap \n",
    "    def add(self,element):\n",
    "        self.the_heap.append(element)\n",
    "        self.rise()\n",
    "\n",
    "    # rise method the nodes according to the need\n",
    "    def rise(self):\n",
    "        # initialize location with max size in heap\n",
    "        location = len(self.the_heap)-1\n",
    "        # will check for parent value < child value\n",
    "        \n",
    "            # when found, we shall get parent value in \"par\"\n",
    "            \n",
    "            # do swap of the nodes\n",
    "            \n",
    "            # changing location = par so check if there is any other rise in the heap\n",
    "            \n",
    "    \n",
    "    # sink method will sink the heap tree\n",
    "    def sink(self):\n",
    "        # initialize the location with Zero, because we need to go from left to right\n",
    "        location = 0\n",
    "        # get the child at that location\n",
    "        children = self.get_child(location)\n",
    "        # check the condition for children to be greate than all other child to that location and should be greater than zero in size\n",
    "        while :\n",
    "            # for first child in children list that is greater than \n",
    "            if self.the_heap[children[0]] > self.the_heap[children[1]]:\n",
    "                # if greater then check with child at that location\n",
    "                if self.the_heap[children[0]] > self.the_heap[location]:\n",
    "                    # if it is  greater do the swap\n",
    "                    \n",
    "                    # and change location to that child\n",
    "                    location = children[0]\n",
    "            # if child smaller than it's next element\n",
    "            elif self.the_heap[children[0]] < self.the_heap[children[1]]:\n",
    "                # then check if child is greater than child at that location\n",
    "                if self.the_heap[children[1]] > self.the_heap[location]:\n",
    "                    # if yes, do the swap\n",
    "                    \n",
    "                    # change the location variable\n",
    "                    location = children[1]\n",
    "            # if none of the condition return\n",
    "            else:\n",
    "                return\n",
    "            # update the children list after checking it's value with next element\n",
    "            \n",
    "\n",
    "    # serve method will serve the item from the left \n",
    "    def serve(self):\n",
    "        self.the_heap[0], self.the_heap[-1] = self.the_heap[-1],self.the_heap[0]\n",
    "        item = self.the_heap.pop()\n",
    "        self.sink()\n",
    "        return item\n",
    "\n",
    "    # get_parent method will return parent node\n",
    "    def get_parent(self,x):\n",
    "        return x//2\n",
    "\n",
    "    # get_child method will return left & right child of given value \"x\"\n",
    "    def get_child(self,x):\n",
    "        left = 2*x\n",
    "        right = 2*x+1\n",
    "        if left >= len(self.the_heap):\n",
    "            return []\n",
    "        elif right >= len(self.the_heap):\n",
    "            return [left]\n",
    "        else:\n",
    "            return [left,right]\n",
    "\n",
    "# main driver to run the code (main function)\n",
    "if __name__ == \"__main__\":\n",
    "    test_heap = Heap()\n",
    "    #items = [5,3,1,9,7,8]\n",
    "    items = [5,3,11,11,7,8]\n",
    "#     items = [1,2,3,4,5,6]\n",
    "\n",
    "    # add items to the heap \n",
    "    \n",
    "\n",
    "    # create a empty list\n",
    "    end_list = []\n",
    "\n",
    "    # get all the elements from the heap until it is empty\n",
    "    \n",
    "\n",
    "    # print the list (sort=desc)\n",
    "    print(end_list)"
   ]
  },
  {
   "cell_type": "markdown",
   "metadata": {
    "heading_collapsed": true
   },
   "source": [
    "## HomeWork"
   ]
  },
  {
   "cell_type": "markdown",
   "metadata": {
    "heading_collapsed": true,
    "hidden": true
   },
   "source": [
    "### Key Difference between List, Stack, & Queue ?"
   ]
  },
  {
   "cell_type": "markdown",
   "metadata": {
    "ExecuteTime": {
     "end_time": "2020-09-02T13:11:50.932352Z",
     "start_time": "2020-09-02T13:11:50.930330Z"
    },
    "hidden": true
   },
   "source": [
    "Stack: FIFO\n",
    "\n",
    "Queue: LIFO\n",
    "\n",
    "List: Can add and remove in any position of the array, the most flexible"
   ]
  },
  {
   "cell_type": "markdown",
   "metadata": {
    "heading_collapsed": true,
    "hidden": true
   },
   "source": [
    "### Is it possible to create either of these Abstract Data Types (ADTs) using a Python Dictionary? Please Discuss."
   ]
  },
  {
   "cell_type": "markdown",
   "metadata": {
    "hidden": true
   },
   "source": [
    "In the lectures we have seen that a Stack and Queue can be implemented using an array. \n",
    "<br>\n",
    "Is it possible to create either of these Abstract Data Types (ADTs) using a Python Dictionary? \n",
    "<br>\n",
    "**Discuss**\n",
    "* What are the implications of structure choice? \n"
   ]
  },
  {
   "cell_type": "markdown",
   "metadata": {
    "ExecuteTime": {
     "end_time": "2020-09-02T12:32:38.291754Z",
     "start_time": "2020-09-02T12:32:38.289459Z"
    },
    "hidden": true
   },
   "source": [
    "Yes. The ADT we implemented in the lecture use an list (array) to store the item added. In a dictionary, we just need to add a key to the list, the rest is pretty much the same.\n"
   ]
  },
  {
   "cell_type": "markdown",
   "metadata": {
    "heading_collapsed": true,
    "hidden": true
   },
   "source": [
    "### Implement Stack using 2 queues"
   ]
  },
  {
   "cell_type": "code",
   "execution_count": 28,
   "metadata": {
    "ExecuteTime": {
     "end_time": "2020-09-02T13:52:00.562459Z",
     "start_time": "2020-09-02T13:52:00.560418Z"
    },
    "hidden": true
   },
   "outputs": [],
   "source": [
    "# Slack Implementation\n",
    "# create a class stack\n",
    "class Stack:\n",
    "    # create a constructor to initialize the stack & count variable\n",
    "    def __init__(self):\n",
    "        self.q1 = Queue()\n",
    "        self.q2 = Queue()\n",
    "        self.count = 0\n",
    "    \n",
    "    # overload len method to get the siz/count of the stack\n",
    "    def __len__(self):\n",
    "        return self.count\n",
    "\n",
    "    # is_empty method checks if stack is empty or not\n",
    "    def is_empty(self):\n",
    "        return self.count == 0\n",
    "    \n",
    "    # push method push the item into stack\n",
    "    def push(self,item):\n",
    "        self.q1.append(item)\n",
    "        self.count += 1\n",
    "\n",
    "    # pop method pops out the item from top of the stack\n",
    "    def pop(self):\n",
    "        \n",
    "        assert not self.is_empty()\n",
    "        \n",
    "        while len(self.q1) > 1:\n",
    "            self.q2.append(self.q1.serve())\n",
    "        \n",
    "        self.count -= 1\n",
    "        \n",
    "        item = self.q1.serve()\n",
    "        \n",
    "        while len(self.q2) > 0:\n",
    "            self.q1.append(self.q2.serve())\n",
    "\n",
    "        return item\n",
    "    \n",
    "    # peek method helps us to look inside the values of stack\n",
    "    def peek(self):\n",
    "        assert not self.is_empty()\n",
    "        return self.q1[-1]"
   ]
  },
  {
   "cell_type": "code",
   "execution_count": 29,
   "metadata": {},
   "outputs": [],
   "source": [
    "a = Stack()\n",
    "a.push(3)\n",
    "a.push(4)\n",
    "a.push(5)\n"
   ]
  },
  {
   "cell_type": "code",
   "execution_count": 33,
   "metadata": {},
   "outputs": [
    {
     "ename": "AssertionError",
     "evalue": "",
     "output_type": "error",
     "traceback": [
      "\u001b[1;31m---------------------------------------------------------------------------\u001b[0m",
      "\u001b[1;31mAssertionError\u001b[0m                            Traceback (most recent call last)",
      "\u001b[1;32m<ipython-input-33-9c070c907602>\u001b[0m in \u001b[0;36m<module>\u001b[1;34m\u001b[0m\n\u001b[1;32m----> 1\u001b[1;33m \u001b[0ma\u001b[0m\u001b[1;33m.\u001b[0m\u001b[0mpop\u001b[0m\u001b[1;33m(\u001b[0m\u001b[1;33m)\u001b[0m\u001b[1;33m\u001b[0m\u001b[1;33m\u001b[0m\u001b[0m\n\u001b[0m",
      "\u001b[1;32m<ipython-input-28-2727417a2a08>\u001b[0m in \u001b[0;36mpop\u001b[1;34m(self)\u001b[0m\n\u001b[0;32m     24\u001b[0m     \u001b[1;32mdef\u001b[0m \u001b[0mpop\u001b[0m\u001b[1;33m(\u001b[0m\u001b[0mself\u001b[0m\u001b[1;33m)\u001b[0m\u001b[1;33m:\u001b[0m\u001b[1;33m\u001b[0m\u001b[1;33m\u001b[0m\u001b[0m\n\u001b[0;32m     25\u001b[0m \u001b[1;33m\u001b[0m\u001b[0m\n\u001b[1;32m---> 26\u001b[1;33m         \u001b[1;32massert\u001b[0m \u001b[1;32mnot\u001b[0m \u001b[0mself\u001b[0m\u001b[1;33m.\u001b[0m\u001b[0mis_empty\u001b[0m\u001b[1;33m(\u001b[0m\u001b[1;33m)\u001b[0m\u001b[1;33m\u001b[0m\u001b[1;33m\u001b[0m\u001b[0m\n\u001b[0m\u001b[0;32m     27\u001b[0m \u001b[1;33m\u001b[0m\u001b[0m\n\u001b[0;32m     28\u001b[0m         \u001b[1;32mwhile\u001b[0m \u001b[0mlen\u001b[0m\u001b[1;33m(\u001b[0m\u001b[0mself\u001b[0m\u001b[1;33m.\u001b[0m\u001b[0mq1\u001b[0m\u001b[1;33m)\u001b[0m \u001b[1;33m>\u001b[0m \u001b[1;36m1\u001b[0m\u001b[1;33m:\u001b[0m\u001b[1;33m\u001b[0m\u001b[1;33m\u001b[0m\u001b[0m\n",
      "\u001b[1;31mAssertionError\u001b[0m: "
     ]
    }
   ],
   "source": [
    "a.pop()"
   ]
  }
 ],
 "metadata": {
  "kernelspec": {
   "display_name": "Python 3",
   "language": "python",
   "name": "python3"
  },
  "language_info": {
   "codemirror_mode": {
    "name": "ipython",
    "version": 3
   },
   "file_extension": ".py",
   "mimetype": "text/x-python",
   "name": "python",
   "nbconvert_exporter": "python",
   "pygments_lexer": "ipython3",
   "version": "3.7.6"
  },
  "latex_envs": {
   "LaTeX_envs_menu_present": true,
   "autoclose": false,
   "autocomplete": true,
   "bibliofile": "biblio.bib",
   "cite_by": "apalike",
   "current_citInitial": 1,
   "eqLabelWithNumbers": true,
   "eqNumInitial": 1,
   "hotkeys": {
    "equation": "Ctrl-E",
    "itemize": "Ctrl-I"
   },
   "labels_anchors": false,
   "latex_user_defs": false,
   "report_style_numbering": false,
   "user_envs_cfg": false
  },
  "toc": {
   "base_numbering": 1,
   "nav_menu": {},
   "number_sections": true,
   "sideBar": true,
   "skip_h1_title": false,
   "title_cell": "Table of Contents",
   "title_sidebar": "Contents",
   "toc_cell": false,
   "toc_position": {},
   "toc_section_display": true,
   "toc_window_display": false
  },
  "varInspector": {
   "cols": {
    "lenName": 16,
    "lenType": 16,
    "lenVar": 40
   },
   "kernels_config": {
    "python": {
     "delete_cmd_postfix": "",
     "delete_cmd_prefix": "del ",
     "library": "var_list.py",
     "varRefreshCmd": "print(var_dic_list())"
    },
    "r": {
     "delete_cmd_postfix": ") ",
     "delete_cmd_prefix": "rm(",
     "library": "var_list.r",
     "varRefreshCmd": "cat(var_dic_list()) "
    }
   },
   "types_to_exclude": [
    "module",
    "function",
    "builtin_function_or_method",
    "instance",
    "_Feature"
   ],
   "window_display": false
  }
 },
 "nbformat": 4,
 "nbformat_minor": 4
}
