{
 "cells": [
  {
   "cell_type": "markdown",
   "metadata": {
    "slideshow": {
     "slide_type": "slide"
    }
   },
   "source": [
    "# FIT9136: Algorithms and programming foundations in Python\n",
    "\n",
    "## Week 10: Recursion & Divide-and-Conquer"
   ]
  },
  {
   "cell_type": "markdown",
   "metadata": {
    "slideshow": {
     "slide_type": "slide"
    }
   },
   "source": [
    "# Agenda\n",
    "\n",
    "* **[Synopsis](#1)**\n",
    "* **[Learning Objectives](#2)**\n",
    "* **[Divide & conquer](#3)**\n",
    "* **[Recursion](#4)**\n",
    "* **[Merge Sort](#5)**\n",
    "* **[Quick Sort](#6)**\n",
    "* **[Summary](#7)**\n",
    "* **[Practise Question](#8)**\n"
   ]
  },
  {
   "cell_type": "markdown",
   "metadata": {
    "slideshow": {
     "slide_type": "slide"
    }
   },
   "source": [
    "<a id = \"1\"></a>\n",
    "# Synopsis\n",
    "\n",
    "* **Week 10 is aimed to provide you with:**\n",
    "\n",
    "    * Concepts of <font color=blue>**Divide**</font> and <font color=blue>**Conquer**</font> \n",
    "    * Concepts of <font color=blue>**Recursion**</font> which includes:\n",
    "        * Merge Sort\n",
    "        * Quick Sort"
   ]
  },
  {
   "cell_type": "markdown",
   "metadata": {
    "slideshow": {
     "slide_type": "slide"
    }
   },
   "source": [
    "<a id = \"2\"></a>\n",
    "# Learning Objective\n",
    "\n",
    "* **Understand the concept of <font color=blue>Divide</font> & <font color=blue>Conquer</font>.**\n",
    "* **Understand the concept of <font color=blue>Recursion</font>.**"
   ]
  },
  {
   "cell_type": "markdown",
   "metadata": {
    "slideshow": {
     "slide_type": "slide"
    }
   },
   "source": [
    "<a id = \"3\"></a>\n",
    "# Divide & Conquer"
   ]
  },
  {
   "cell_type": "markdown",
   "metadata": {
    "heading_collapsed": true,
    "slideshow": {
     "slide_type": "subslide"
    }
   },
   "source": [
    "## Concepts of Divide-and-Conquer\n",
    "\n",
    "\n",
    "* Divide-and-Conquer:\n",
    "    * Solving a complex problem by breaking it into **smaller manageable sub-problems** \n",
    "    * Sub-problems can then be solved in a similar way (with the same solution)\n",
    "    * **Sub-solutions are then combined to produce the final solution for the original problem**\n",
    "\n",
    "* Basic example: **Binary Search**\n",
    "    * “Repeatedly” divides the (sorted) list into two sublists until the target item is found\n"
   ]
  },
  {
   "cell_type": "markdown",
   "metadata": {
    "heading_collapsed": true,
    "slideshow": {
     "slide_type": "subslide"
    }
   },
   "source": [
    "## Binary Search: “Iterative” Approach"
   ]
  },
  {
   "cell_type": "code",
   "execution_count": 1,
   "metadata": {
    "ExecuteTime": {
     "end_time": "2020-10-15T04:01:11.979334Z",
     "start_time": "2020-10-15T04:01:11.976369Z"
    },
    "hidden": true,
    "slideshow": {
     "slide_type": "fragment"
    }
   },
   "outputs": [],
   "source": [
    "def binary_search(the_list, target_item):\n",
    "    low = 0\n",
    "    high = len(the_list)-1\n",
    "\n",
    "    # repeatedly divide the list into two halves\n",
    "    # as long as the target item is not found\n",
    "    while low <= high:\n",
    "\n",
    "        # find the mid position\n",
    "        mid = (low + high) // 2\n",
    "\n",
    "        if the_list[mid] == target_item:\n",
    "            return True\n",
    "        elif target_item < the_list[mid]:\n",
    "            high = mid - 1 # search lower half\n",
    "        else:\n",
    "            low = mid + 1  # search upper half\n",
    "\n",
    "    # the list cannot be further divided\n",
    "    # the target is not found\n",
    "    return False"
   ]
  },
  {
   "cell_type": "markdown",
   "metadata": {
    "slideshow": {
     "slide_type": "subslide"
    }
   },
   "source": [
    "## Binary Search: “Recursive” Approach"
   ]
  },
  {
   "cell_type": "code",
   "execution_count": 2,
   "metadata": {
    "ExecuteTime": {
     "end_time": "2020-10-15T04:02:11.040982Z",
     "start_time": "2020-10-15T04:02:11.037930Z"
    },
    "slideshow": {
     "slide_type": "fragment"
    }
   },
   "outputs": [],
   "source": [
    "def rec_binary_search(the_list, target_item):\n",
    "    # repeatedly divide the list into two halves\n",
    "    # as long as the target item is not found\n",
    "\n",
    "    # the list cannot be further divided i.e. item is not found\n",
    "    if len(the_list) == 0:\n",
    "        return False\n",
    "    else:\n",
    "        # find the mid position\n",
    "        mid = len(the_list) // 2\n",
    "\n",
    "        # check if target item is equal to middle item\n",
    "        if the_list[mid] == target_item:\n",
    "            return True\n",
    "        # check if target item is less than middle item\n",
    "        # search lower half\n",
    "        elif target_item < the_list[mid]:\n",
    "            smaller_list = the_list[:mid]\n",
    "            return rec_binary_search(smaller_list, target_item)\n",
    "        # check if target item is greater than middle item\n",
    "        # search upper half\n",
    "        else:\n",
    "            larger_list = the_list[mid+1:]\n",
    "            return rec_binary_search(larger_list, target_item)"
   ]
  },
  {
   "cell_type": "markdown",
   "metadata": {
    "slideshow": {
     "slide_type": "slide"
    }
   },
   "source": [
    "<a id = \"4\"></a>\n",
    "# Recursion"
   ]
  },
  {
   "cell_type": "markdown",
   "metadata": {
    "heading_collapsed": true,
    "slideshow": {
     "slide_type": "subslide"
    }
   },
   "source": [
    "## Concepts of Recursion\n",
    "\n",
    "* **Recursion**:\n",
    "    * A <font color=\"blue\">divide-and-conquer</font> approach for solving computational problems\n",
    "    * Each problem is “recursively” <font color=\"blue\">decomposed into sub-problems</font> (which have the same properties the original problem but smaller in size)\n",
    "    * When the sub-problems have reached the <font color=\"blue\">simplest form</font>, i.e. a <font color=\"blue\">known solution</font> can be defined\n",
    "    * The <font color=\"blue\">known solutions of these sub-problems are then recomposed</font> together to produce the solution of the original problem"
   ]
  },
  {
   "cell_type": "markdown",
   "metadata": {
    "heading_collapsed": true,
    "slideshow": {
     "slide_type": "subslide"
    }
   },
   "source": [
    "## Recursive Functions\n",
    "\n",
    "* <font color=\"blue\">Three</font> key requirements:\n",
    "    * <font color=\"blue\">Base case</font>: The recursive function must have a base case (i.e. the simplest form)\n",
    "    * <font color=\"blue\">Convergence</font>: The recursive function must be able to decompose the original problem into sub-problems; and must be converging towards the base case\n",
    "    * <font color=\"blue\">Recursive case</font>: The recursive function must call itself recursively to solve the sub-problems"
   ]
  },
  {
   "cell_type": "markdown",
   "metadata": {
    "slideshow": {
     "slide_type": "subslide"
    }
   },
   "source": [
    "## Example: Recursive Addition\n",
    "\n",
    "<img src=\"rec_add.png\">"
   ]
  },
  {
   "cell_type": "code",
   "execution_count": 3,
   "metadata": {
    "ExecuteTime": {
     "end_time": "2020-10-15T04:07:12.227936Z",
     "start_time": "2020-10-15T04:07:12.225276Z"
    },
    "slideshow": {
     "slide_type": "fragment"
    }
   },
   "outputs": [],
   "source": [
    "def recursive_addition(a, b):\n",
    "    if a == 0:\n",
    "        return b\n",
    "    return recursive_addition(a-1, b+1)"
   ]
  },
  {
   "cell_type": "markdown",
   "metadata": {
    "slideshow": {
     "slide_type": "subslide"
    }
   },
   "source": [
    "## Iterative Solution vs Recursive Solution\n",
    "\n",
    "* How could we solve a factorial problem (n!) iteratively?\n",
    "* E.g.  \n",
    "\n",
    "        5! = 5 * 4 * 3 * 2 * 1"
   ]
  },
  {
   "cell_type": "code",
   "execution_count": 4,
   "metadata": {
    "ExecuteTime": {
     "end_time": "2020-10-15T04:09:45.885889Z",
     "start_time": "2020-10-15T04:09:45.883851Z"
    },
    "slideshow": {
     "slide_type": "fragment"
    }
   },
   "outputs": [],
   "source": [
    "# iterative factorial\n",
    "def iterative_factorial(n):\n",
    "    \n",
    "    factorial = 1\n",
    "    \n",
    "    while n > 0:\n",
    "        factorial *= n\n",
    "        n -= 1\n",
    "    \n",
    "    return factorial"
   ]
  },
  {
   "cell_type": "markdown",
   "metadata": {
    "slideshow": {
     "slide_type": "subslide"
    }
   },
   "source": [
    "## Iterative Solution vs Recursive Solution\n",
    "\n",
    "* How could we solve a factorial problem (n!) recursively?\n",
    "* E.g.  \n",
    "        5! = 5 * 4! \n",
    "        5! = 5 * (4 * 3!)\n",
    "        5! = 5 * (4 * (3 * 2!))\n",
    "        5! = 5 * (4 * (3 * (2 * 1!)))\n",
    "        5! = 5 * (4 * (3 * (2 * (1))))\n"
   ]
  },
  {
   "cell_type": "code",
   "execution_count": 5,
   "metadata": {
    "ExecuteTime": {
     "end_time": "2020-10-15T04:10:20.126647Z",
     "start_time": "2020-10-15T04:10:20.124519Z"
    },
    "slideshow": {
     "slide_type": "fragment"
    }
   },
   "outputs": [],
   "source": [
    "# recursive factorial\n",
    "def recursive_factorial(n):\n",
    "    if n == 1:\n",
    "        return 1\n",
    "    return n * recursive_factorial(n-1)"
   ]
  },
  {
   "cell_type": "markdown",
   "metadata": {
    "slideshow": {
     "slide_type": "slide"
    }
   },
   "source": [
    "<a id = \"5\"></a>\n",
    "# Recursive Sorting: Merge Sort"
   ]
  },
  {
   "cell_type": "markdown",
   "metadata": {
    "slideshow": {
     "slide_type": "subslide"
    }
   },
   "source": [
    "## Merge Sort"
   ]
  },
  {
   "cell_type": "markdown",
   "metadata": {
    "slideshow": {
     "slide_type": "fragment"
    }
   },
   "source": [
    "* Basic ideas:\n",
    "    * <font color=\"blue\">Splits</font> an unsorted list into two halves “recursively” until there is only one element left in each sublist\n",
    "    * Sublists are then <font color=\"blue\">sorted and merged</font> until the complete sorted list is obtained\n",
    "\n",
    "* Divide and conquer:\n",
    "    * <font color=\"blue\">Base case</font>: A sublist with length of one (considered sorted)\n",
    "    * <font color=\"blue\">Divide</font>: Recursively identify the middle point of a list and divide into two halves \n",
    "    * <font color=\"blue\">Conquer</font>: Sort the smaller sublists \n",
    "    * <font color=\"blue\">Combine</font>: Merge the sorted sublist into one complete list"
   ]
  },
  {
   "cell_type": "markdown",
   "metadata": {
    "slideshow": {
     "slide_type": "subslide"
    }
   },
   "source": [
    "## Merge sort example\n",
    "\n",
    "https://visualgo.net/bn/sorting"
   ]
  },
  {
   "cell_type": "markdown",
   "metadata": {
    "slideshow": {
     "slide_type": "subslide"
    }
   },
   "source": [
    "## Merge Sort Process\n",
    "\n",
    "<img src=\"merge_proc.png\">"
   ]
  },
  {
   "cell_type": "markdown",
   "metadata": {
    "ExecuteTime": {
     "end_time": "2020-09-29T01:43:10.849056Z",
     "start_time": "2020-09-29T01:43:10.847324Z"
    },
    "slideshow": {
     "slide_type": "subslide"
    }
   },
   "source": [
    "## Merge Sort: Time Complexity\n",
    "\n",
    "* **O(n*log(n))**:\n",
    "    * The divide step computes the midpoint of each of the sub-arrays. Each of this step just takes O(1) time. \n",
    "    * The conquer step recursively sorts two subarrays of n/2 (for even n) elements each.\n",
    "    * The merge step merges n elements which takes O(n) time.\n",
    "    \n",
    "    \n",
    "<img src=\"merge_TC.png\">"
   ]
  },
  {
   "cell_type": "markdown",
   "metadata": {
    "slideshow": {
     "slide_type": "subslide"
    }
   },
   "source": [
    "## Merge Sort: Implementation"
   ]
  },
  {
   "cell_type": "code",
   "execution_count": 6,
   "metadata": {
    "ExecuteTime": {
     "end_time": "2020-10-15T04:36:42.813688Z",
     "start_time": "2020-10-15T04:36:42.809048Z"
    },
    "slideshow": {
     "slide_type": "subslide"
    }
   },
   "outputs": [],
   "source": [
    "def merge_sort(the_list):\n",
    "    #obtain the length of the list\n",
    "    n = len(the_list)\n",
    "    \n",
    "    if n > 1: # check the base case\n",
    "        # find the middle of the list\n",
    "        mid = n //2 \n",
    "        \n",
    "        # based upon the middle index, two sublist are the ncreated\n",
    "        # from the 0 index until the mid-1 index\n",
    "        left_sublist = the_list[:mid]\n",
    "        # from the mid index until the n-1 index\n",
    "        right_sublist = the_list[mid:]\n",
    "        \n",
    "        print(\"spliting: \" +str(left_sublist) + \" and \" + str(right_sublist))\n",
    "        \n",
    "        # merger sort is called again on the two new created sublists\n",
    "        merge_sort(left_sublist)\n",
    "        merge_sort(right_sublist)\n",
    "        \n",
    "        # sort & merge\n",
    "        print(\"Merging: \" +str(left_sublist) + \" and \" + str(right_sublist))\n",
    "        i = 0 # index for left sublist\n",
    "        j = 0 # index for right sublist\n",
    "        k = 0 # index for main list\n",
    "        \n",
    "        while i < len(left_sublist) and j <len(right_sublist):\n",
    "            if left_sublist[i] <= right_sublist[j]:\n",
    "                the_list[k] = left_sublist[i]\n",
    "                i += 1\n",
    "            else:\n",
    "                the_list[k] = right_sublist[j]\n",
    "                j += 1\n",
    "            k += 1\n",
    "                \n",
    "        \n",
    "        # insert the remaining elements into main list\n",
    "        while i < len(left_sublist):\n",
    "            the_list[k] = left_sublist[i]\n",
    "            i += 1\n",
    "            k += 1\n",
    "            \n",
    "        while j < len(right_sublist):\n",
    "            the_list[k] = right_sublist[j]\n",
    "            j += 1\n",
    "            k += 1\n",
    "            \n",
    "            \n",
    "        print(\"After merging the list is: \" + str(the_list))"
   ]
  },
  {
   "cell_type": "code",
   "execution_count": 7,
   "metadata": {
    "ExecuteTime": {
     "end_time": "2020-10-15T04:37:31.566441Z",
     "start_time": "2020-10-15T04:37:31.563875Z"
    },
    "slideshow": {
     "slide_type": "subslide"
    }
   },
   "outputs": [
    {
     "output_type": "stream",
     "name": "stdout",
     "text": [
      "spliting: [1, 4] and [2, 5, 3]\nspliting: [1] and [4]\nMerging: [1] and [4]\nAfter merging the list is: [1, 4]\nspliting: [2] and [5, 3]\nspliting: [5] and [3]\nMerging: [5] and [3]\nAfter merging the list is: [3, 5]\nMerging: [2] and [3, 5]\nAfter merging the list is: [2, 3, 5]\nMerging: [1, 4] and [2, 3, 5]\nAfter merging the list is: [1, 2, 3, 4, 5]\n"
     ]
    }
   ],
   "source": [
    "merge_sort([1,4,2,5,3])"
   ]
  },
  {
   "cell_type": "markdown",
   "metadata": {
    "slideshow": {
     "slide_type": "slide"
    }
   },
   "source": [
    "<a id = \"6\"></a>\n",
    "# Recursive Sorting: Quick Sort\n"
   ]
  },
  {
   "cell_type": "markdown",
   "metadata": {
    "slideshow": {
     "slide_type": "subslide"
    }
   },
   "source": [
    "## Quick Sort"
   ]
  },
  {
   "cell_type": "markdown",
   "metadata": {
    "slideshow": {
     "slide_type": "fragment"
    }
   },
   "source": [
    "* Basic ideas:\n",
    "    * Similarly to Merge Sort \n",
    "    * Major computation is performed in “**partitioning**” (dividing the list into two partitions)\n",
    "\n",
    "* Divide and conquer:\n",
    "    * <font color=\"blue\">Divide</font>: Select a “**pivot**” to serve as the partition point\n",
    "        * Elements smaller than the pivot are relocated to the left of the pivot\n",
    "        * Elements greater than the pivot are relocated to the right\n",
    "    * <font color=\"blue\">Conquer</font>: Recursively partition the sublists based on the pivot chosen for each sublist\n",
    "    * <font color=\"blue\">Combine</font>Combine: No computation needed\n",
    "    * <font color=\"blue\">Base case</font>: A sublist with length of one (considered sorted) or with zero length\n"
   ]
  },
  {
   "cell_type": "markdown",
   "metadata": {
    "slideshow": {
     "slide_type": "subslide"
    }
   },
   "source": [
    "## Quick Sort Partitioning\n",
    "\n",
    "<img src=\"QS_p_0.png\">"
   ]
  },
  {
   "cell_type": "markdown",
   "metadata": {
    "slideshow": {
     "slide_type": "subslide"
    }
   },
   "source": [
    "## Quick Sort Partitioning (continue)\n",
    "\n",
    "<img src=\"QS_p_1.png\">"
   ]
  },
  {
   "cell_type": "markdown",
   "metadata": {
    "slideshow": {
     "slide_type": "subslide"
    }
   },
   "source": [
    "## Quick Sort Partitioning (continue)\n",
    "\n",
    "<img src=\"QS_p_2.png\">"
   ]
  },
  {
   "cell_type": "markdown",
   "metadata": {
    "slideshow": {
     "slide_type": "subslide"
    }
   },
   "source": [
    "## Quick Sort Example\n",
    "\n",
    "https://visualgo.net/bn/sorting"
   ]
  },
  {
   "cell_type": "markdown",
   "metadata": {
    "slideshow": {
     "slide_type": "subslide"
    }
   },
   "source": [
    "## Quick Sort: Time Complexity\n",
    "\n",
    "* Time complexity\n",
    "    * Best case: O(n*log(n))\n",
    "    * Worst case: O(n^2)"
   ]
  },
  {
   "cell_type": "markdown",
   "metadata": {
    "ExecuteTime": {
     "end_time": "2020-10-15T04:44:30.241262Z",
     "start_time": "2020-10-15T04:44:30.239142Z"
    },
    "slideshow": {
     "slide_type": "subslide"
    }
   },
   "source": [
    "## Quick Sort Implementation"
   ]
  },
  {
   "cell_type": "code",
   "execution_count": 8,
   "metadata": {
    "ExecuteTime": {
     "end_time": "2020-10-15T05:04:21.985976Z",
     "start_time": "2020-10-15T05:04:21.982479Z"
    },
    "slideshow": {
     "slide_type": "fragment"
    }
   },
   "outputs": [],
   "source": [
    "def quick_sort(the_list):\n",
    "    # pass the indices of the first & last elements of the list\n",
    "    first = 0\n",
    "    last = len(the_list)-1\n",
    "    quick_sort_aux(the_list, first, last)\n",
    "    \n",
    "def quick_sort_aux(the_list, first, last):\n",
    "    # if it is not the base case\n",
    "    if first < last:\n",
    "        \n",
    "        # find the partition point\n",
    "        part_point = partitioning(the_list, first, last)\n",
    "        \n",
    "        print(\"partitioningning at index:\", part_point)\n",
    "        print(the_list)\n",
    "        print(\"after partitioning: \", str(the_list[first:part_point]),\n",
    "              \" and \", str(the_list[part_point+1:last+1]))\n",
    "        \n",
    "        # call the quick sort aux function again to th new sublists\n",
    "        quick_sort_aux(the_list, first, part_point-1)\n",
    "        quick_sort_aux(the_list, part_point+1, last)"
   ]
  },
  {
   "cell_type": "code",
   "execution_count": 9,
   "metadata": {
    "ExecuteTime": {
     "end_time": "2020-10-15T05:04:22.436928Z",
     "start_time": "2020-10-15T05:04:22.430039Z"
    },
    "slideshow": {
     "slide_type": "subslide"
    }
   },
   "outputs": [],
   "source": [
    "def partitioning(the_list, first, last):\n",
    "    \n",
    "    # take the first element of the list as pivot\n",
    "    pivot_value = the_list[first]\n",
    "    print(\"pivot value: \", str(pivot_value))\n",
    "    \n",
    "    # this two indices will help us in locating the index point \n",
    "    # where the list will be partitioned\n",
    "    left_index = first + 1\n",
    "    right_index = last\n",
    "    \n",
    "    complete = False\n",
    "    \n",
    "    while not complete:\n",
    "        \n",
    "        # starts with the left index and keep on increamenting it\n",
    "        # until a value greater than the pivot is found\n",
    "        while left_index <= right_index and \\\n",
    "            the_list[left_index] <= pivot_value:\n",
    "                left_index += 1\n",
    "                \n",
    "        # now look for thge element from the right of the list\n",
    "        # which is smaller than pivot value\n",
    "        while right_index >=  left_index and \\\n",
    "            the_list[right_index] >= pivot_value:\n",
    "                right_index -= 1\n",
    "                \n",
    "        # check wheather left and right indices have crossed each other\n",
    "        # if that is the case exit the while loop\n",
    "        if right_index < left_index:\n",
    "            complete = True\n",
    "        else:\n",
    "            # otherwise swap the two elements\n",
    "            the_list[left_index], the_list[right_index] \\\n",
    "            = the_list[right_index], the_list[left_index]\n",
    "                \n",
    "    # swap the pivot element with the element of the right index\n",
    "    the_list[first], the_list[right_index] \\\n",
    "                = the_list[right_index], the_list[first]\n",
    "        \n",
    "    # return right index which is the partition point\n",
    "    return right_index"
   ]
  },
  {
   "cell_type": "code",
   "execution_count": 10,
   "metadata": {
    "ExecuteTime": {
     "end_time": "2020-10-15T05:04:23.250746Z",
     "start_time": "2020-10-15T05:04:23.239797Z"
    }
   },
   "outputs": [
    {
     "output_type": "stream",
     "name": "stdout",
     "text": [
      "pivot value:  1\npartitioningning at index: 0\n[1, 4, 2, 5, 3]\nafter partitioning:  []  and  [4, 2, 5, 3]\npivot value:  4\npartitioningning at index: 3\n[1, 3, 2, 4, 5]\nafter partitioning:  [3, 2]  and  [5]\npivot value:  3\npartitioningning at index: 2\n[1, 2, 3, 4, 5]\nafter partitioning:  [2]  and  []\n"
     ]
    }
   ],
   "source": [
    "quick_sort([1,4,2,5,3])"
   ]
  },
  {
   "cell_type": "markdown",
   "metadata": {
    "slideshow": {
     "slide_type": "subslide"
    }
   },
   "source": [
    "<a id = \"7\"></a>\n",
    "# Summary"
   ]
  },
  {
   "cell_type": "markdown",
   "metadata": {
    "heading_collapsed": true,
    "slideshow": {
     "slide_type": "subslide"
    }
   },
   "source": [
    "## Divide & conquer\n",
    "\n",
    "* Divide-and-Conquer:\n",
    "    * Solving a complex problem by breaking it into **smaller manageable sub-problems** \n",
    "    * Sub-problems can then be solved in a similar way (with the same solution)\n",
    "    * **Sub-solutions are then combined to produce the final solution for the original problem**"
   ]
  },
  {
   "cell_type": "markdown",
   "metadata": {
    "heading_collapsed": true,
    "slideshow": {
     "slide_type": "subslide"
    }
   },
   "source": [
    "## Recursion\n",
    "\n",
    "* **Recursion**:\n",
    "    * A <font color=\"blue\">divide-and-conquer</font> approach for solving computational problems\n",
    "    * Each problem is “recursively” <font color=\"blue\">decomposed into sub-problems</font> (which have the same properties the original problem but smaller in size)\n",
    "    * When the sub-problems have reached the <font color=\"blue\">simplest form</font>, i.e. a <font color=\"blue\">known solution</font> can be defined\n",
    "    * The <font color=\"blue\">known solutions of these sub-problems are then recomposed</font> together to produce the solution of the original problem"
   ]
  },
  {
   "cell_type": "markdown",
   "metadata": {
    "slideshow": {
     "slide_type": "subslide"
    }
   },
   "source": [
    "## Merge & Quick Sort\n",
    "\n",
    "* Merge sort:\n",
    "    * <font color=\"blue\">Splits</font> an unsorted list into two halves “recursively” until there is only one element left in each sublist\n",
    "    * Sublists are then <font color=\"blue\">sorted and merged</font> until the complete sorted list is obtained\n",
    "    \n",
    "* Quick Sort:\n",
    "    * Similarly to Merge Sort \n",
    "    * Major computation is performed in “**partitioning**” (dividing the list into two partitions)"
   ]
  },
  {
   "cell_type": "markdown",
   "metadata": {
    "slideshow": {
     "slide_type": "slide"
    }
   },
   "source": [
    "<a id = \"8\"></a>\n",
    "# Practise Question"
   ]
  },
  {
   "cell_type": "markdown",
   "metadata": {
    "heading_collapsed": true,
    "slideshow": {
     "slide_type": "subslide"
    }
   },
   "source": [
    "## Question 1:\n",
    "\n",
    "* What does the given recursive function do? (Assume that a and b are positive integers.)"
   ]
  },
  {
   "cell_type": "code",
   "execution_count": 11,
   "metadata": {
    "ExecuteTime": {
     "end_time": "2020-10-15T04:12:37.612566Z",
     "start_time": "2020-10-15T04:12:37.610017Z"
    },
    "hidden": true,
    "slideshow": {
     "slide_type": "fragment"
    }
   },
   "outputs": [],
   "source": [
    "def mystery_func1(a, b):\n",
    "    if a == 0: \n",
    "        return 0\n",
    "    return b + mystery_func1(a-1, b)"
   ]
  },
  {
   "cell_type": "markdown",
   "metadata": {
    "hidden": true,
    "slideshow": {
     "slide_type": "fragment"
    }
   },
   "source": [
    "    A. Addition\n",
    "    B. Subtraction\n",
    "    C. Multiplication\n",
    "    D. Division\n",
    "    E. None of the above"
   ]
  },
  {
   "cell_type": "markdown",
   "metadata": {
    "heading_collapsed": true,
    "slideshow": {
     "slide_type": "subslide"
    }
   },
   "source": [
    "## Question 2:\n",
    "\n",
    "* What does the given recursive function do? (Assume that n is an positive integer.)"
   ]
  },
  {
   "cell_type": "code",
   "execution_count": 12,
   "metadata": {
    "ExecuteTime": {
     "end_time": "2020-10-15T04:14:03.876391Z",
     "start_time": "2020-10-15T04:14:03.873747Z"
    },
    "hidden": true,
    "slideshow": {
     "slide_type": "fragment"
    }
   },
   "outputs": [],
   "source": [
    "def mystery_func2(n):\n",
    "    if n == 1: \n",
    "        return 1\n",
    "    return n + mystery_func2(n-1)"
   ]
  },
  {
   "cell_type": "markdown",
   "metadata": {
    "hidden": true,
    "slideshow": {
     "slide_type": "fragment"
    }
   },
   "source": [
    "    A. Adding up from 1 to n\n",
    "    B. Subtracting 1 from n\n",
    "    C. Multiplying from 1 to n\n",
    "    D. Dividing n with 1\n",
    "    E. None of the above"
   ]
  },
  {
   "cell_type": "markdown",
   "metadata": {
    "heading_collapsed": true,
    "slideshow": {
     "slide_type": "subslide"
    }
   },
   "source": [
    "## Question 3:\n",
    "\n",
    "* What is the result of the given recursive function? (Assume a = 2 and b = 3.)"
   ]
  },
  {
   "cell_type": "code",
   "execution_count": 13,
   "metadata": {
    "ExecuteTime": {
     "end_time": "2020-10-15T04:15:12.020293Z",
     "start_time": "2020-10-15T04:15:12.017755Z"
    },
    "hidden": true,
    "slideshow": {
     "slide_type": "fragment"
    }
   },
   "outputs": [],
   "source": [
    "def mystery_func3(a, b):\n",
    "    if b == 0: \n",
    "        return 1\n",
    "    if b % 2 == 0:\n",
    "        return mystery_func3(a*a, b//2)\n",
    "    return mystery_func3(a*a, b//2) * a"
   ]
  },
  {
   "cell_type": "markdown",
   "metadata": {
    "hidden": true,
    "slideshow": {
     "slide_type": "fragment"
    }
   },
   "source": [
    "    A. 5\n",
    "    B. 6\n",
    "    C. 8\n",
    "    D. 16\n",
    "    E. None of the above"
   ]
  },
  {
   "cell_type": "markdown",
   "metadata": {
    "heading_collapsed": true,
    "slideshow": {
     "slide_type": "subslide"
    }
   },
   "source": [
    "## Question 4:\n",
    "\n",
    "* What is the result of the given recursive function? (Assume a = “1234”.)"
   ]
  },
  {
   "cell_type": "code",
   "execution_count": 14,
   "metadata": {
    "ExecuteTime": {
     "end_time": "2020-10-15T04:16:06.585866Z",
     "start_time": "2020-10-15T04:16:06.583719Z"
    },
    "hidden": true,
    "slideshow": {
     "slide_type": "fragment"
    }
   },
   "outputs": [],
   "source": [
    "def mystery_func4(a):\n",
    "    if len(a) == 1: \n",
    "        return a\n",
    "    return mystery_func4(a[1:]) + a[0]"
   ]
  },
  {
   "cell_type": "markdown",
   "metadata": {
    "hidden": true,
    "slideshow": {
     "slide_type": "fragment"
    }
   },
   "source": [
    "    A. “1234”\n",
    "    B. “4321”\n",
    "    C. “4”\n",
    "    D. “1”\n",
    "    E. None of the above"
   ]
  },
  {
   "cell_type": "markdown",
   "metadata": {
    "slideshow": {
     "slide_type": "subslide"
    }
   },
   "source": [
    "## Question 5:\n",
    "\n",
    "* Given a list of integers below after the first partitioning of running Quick Sort, which of the integers could likely to be the pivot?\n",
    "\n",
    "* [2, 5, 3, 7, 10, 12, 9]"
   ]
  },
  {
   "cell_type": "markdown",
   "metadata": {
    "slideshow": {
     "slide_type": "fragment"
    }
   },
   "source": [
    "    A. 7\n",
    "    B. 10\n",
    "    D. Either 7 or 10\n",
    "    E. Neither 7 nor 10"
   ]
  },
  {
   "cell_type": "markdown",
   "metadata": {
    "slideshow": {
     "slide_type": "subslide"
    }
   },
   "source": [
    "## Question 6:\n",
    "\n",
    "* Given a list of integers below to be sorted using Quick Sort. How would the two partitions be if ‘4’ is chosen as the pivot?\n",
    "\n",
    "* [4, 5, 8, 10, 12, 9, 11]"
   ]
  },
  {
   "cell_type": "markdown",
   "metadata": {
    "slideshow": {
     "slide_type": "fragment"
    }
   },
   "source": [
    "    A. Two almost even partitions\n",
    "    B. Left partition with 0 elements\n",
    "    C. Right partition with 0 elements\n",
    "    D. Not sure"
   ]
  },
  {
   "cell_type": "code",
   "execution_count": null,
   "metadata": {},
   "outputs": [],
   "source": []
  }
 ],
 "metadata": {
  "celltoolbar": "Slideshow",
  "kernelspec": {
   "display_name": "Python 3",
   "language": "python",
   "name": "python3"
  },
  "language_info": {
   "codemirror_mode": {
    "name": "ipython",
    "version": 3
   },
   "file_extension": ".py",
   "mimetype": "text/x-python",
   "name": "python",
   "nbconvert_exporter": "python",
   "pygments_lexer": "ipython3",
   "version": "3.7.6-final"
  },
  "latex_envs": {
   "LaTeX_envs_menu_present": true,
   "autoclose": false,
   "autocomplete": true,
   "bibliofile": "biblio.bib",
   "cite_by": "apalike",
   "current_citInitial": 1,
   "eqLabelWithNumbers": true,
   "eqNumInitial": 1,
   "hotkeys": {
    "equation": "Ctrl-E",
    "itemize": "Ctrl-I"
   },
   "labels_anchors": false,
   "latex_user_defs": false,
   "report_style_numbering": false,
   "user_envs_cfg": false
  },
  "toc": {
   "base_numbering": 1,
   "nav_menu": {},
   "number_sections": true,
   "sideBar": true,
   "skip_h1_title": false,
   "title_cell": "Table of Contents",
   "title_sidebar": "Contents",
   "toc_cell": false,
   "toc_position": {},
   "toc_section_display": true,
   "toc_window_display": false
  },
  "varInspector": {
   "cols": {
    "lenName": 16,
    "lenType": 16,
    "lenVar": 40
   },
   "kernels_config": {
    "python": {
     "delete_cmd_postfix": "",
     "delete_cmd_prefix": "del ",
     "library": "var_list.py",
     "varRefreshCmd": "print(var_dic_list())"
    },
    "r": {
     "delete_cmd_postfix": ") ",
     "delete_cmd_prefix": "rm(",
     "library": "var_list.r",
     "varRefreshCmd": "cat(var_dic_list()) "
    }
   },
   "types_to_exclude": [
    "module",
    "function",
    "builtin_function_or_method",
    "instance",
    "_Feature"
   ],
   "window_display": false
  }
 },
 "nbformat": 4,
 "nbformat_minor": 4
}